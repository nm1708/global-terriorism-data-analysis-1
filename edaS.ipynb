{
  "nbformat": 4,
  "nbformat_minor": 0,
  "metadata": {
    "colab": {
      "provenance": [],
      "collapsed_sections": [],
      "authorship_tag": "ABX9TyPYqwEJSKVk38rjmb5hVLVl",
      "include_colab_link": true
    },
    "kernelspec": {
      "name": "python3",
      "display_name": "Python 3"
    },
    "language_info": {
      "name": "python"
    }
  },
  "cells": [
    {
      "cell_type": "markdown",
      "metadata": {
        "id": "view-in-github",
        "colab_type": "text"
      },
      "source": [
        "<a href=\"https://colab.research.google.com/github/nm1708/global-terriorism-data-analysis-1/blob/main/edaS.ipynb\" target=\"_parent\"><img src=\"https://colab.research.google.com/assets/colab-badge.svg\" alt=\"Open In Colab\"/></a>"
      ]
    },
    {
      "cell_type": "markdown",
      "metadata": {
        "id": "Y06xIdG26kRF"
      },
      "source": [
        "## <b> The Global Terrorism Database (GTD) is an open-source database including information on terrorist attacks around the world from 1970 through 2017. The GTD includes systematic data on domestic as well as international terrorist incidents that have occurred during this time period and now includes more than 180,000 attacks. The database is maintained by researchers at the National Consortium for the Study of Terrorism and Responses to Terrorism (START), headquartered at the University of Maryland.</b>\n",
        "\n",
        "# <b> Explore and analyze the data to discover key findings pertaining to terrorist activities. </b>"
      ]
    },
    {
      "cell_type": "code",
      "execution_count": 1,
      "metadata": {
        "id": "QQn_GqGLoEUZ"
      },
      "outputs": [],
      "source": [
        "#IMPORT SOME LIBERARIES\n",
        "import numpy as np\n",
        "import pandas as pd\n",
        "import seaborn as sns\n",
        "import matplotlib.pyplot as plt\n",
        "%matplotlib inline\n"
      ]
    },
    {
      "cell_type": "code",
      "source": [
        "#IMPORT GOOGLE COLAB \n",
        "from google.colab import drive"
      ],
      "metadata": {
        "id": "hDj3LVqsoOmr"
      },
      "execution_count": 2,
      "outputs": []
    },
    {
      "cell_type": "code",
      "source": [
        "#MOUNT THE DRIVE\n",
        "drive.mount('/content/drive/')"
      ],
      "metadata": {
        "colab": {
          "base_uri": "https://localhost:8080/"
        },
        "id": "wZpH1NaxNAOB",
        "outputId": "dbdd1188-4da2-4899-cfd7-c97fb4e1a43f"
      },
      "execution_count": 29,
      "outputs": [
        {
          "output_type": "stream",
          "name": "stdout",
          "text": [
            "Drive already mounted at /content/drive/; to attempt to forcibly remount, call drive.mount(\"/content/drive/\", force_remount=True).\n"
          ]
        }
      ]
    },
    {
      "cell_type": "code",
      "source": [
        "#READING THE DATA\n",
        "df_data=('/content/drive/MyDrive/data/Global Terrorism Data.csv')\n",
        "df=pd.read_csv((df_data), encoding='ISO-8859-1')"
      ],
      "metadata": {
        "id": "sFz8Rl47NMoC",
        "colab": {
          "base_uri": "https://localhost:8080/"
        },
        "outputId": "255025ba-1240-442c-f517-c509548542d9"
      },
      "execution_count": 30,
      "outputs": [
        {
          "output_type": "stream",
          "name": "stderr",
          "text": [
            "/usr/local/lib/python3.7/dist-packages/IPython/core/interactiveshell.py:3326: DtypeWarning: Columns (4,6,31,33,61,62,63,76,79,90,92,94,96,114,115,121) have mixed types.Specify dtype option on import or set low_memory=False.\n",
            "  exec(code_obj, self.user_global_ns, self.user_ns)\n"
          ]
        }
      ]
    },
    {
      "cell_type": "code",
      "source": [
        "df.head()"
      ],
      "metadata": {
        "colab": {
          "base_uri": "https://localhost:8080/",
          "height": 317
        },
        "id": "1pdq35SzJTwz",
        "outputId": "69cd8cd5-1eb2-4231-fc96-72d17618fd92"
      },
      "execution_count": 31,
      "outputs": [
        {
          "output_type": "execute_result",
          "data": {
            "text/plain": [
              "        eventid  iyear  imonth  iday approxdate  extended resolution  country  \\\n",
              "0  1.970000e+11   1970       7     2        NaN         0        NaN       58   \n",
              "1  1.970000e+11   1970       0     0        NaN         0        NaN      130   \n",
              "2  1.970010e+11   1970       1     0        NaN         0        NaN      160   \n",
              "3  1.970010e+11   1970       1     0        NaN         0        NaN       78   \n",
              "4  1.970010e+11   1970       1     0        NaN         0        NaN      101   \n",
              "\n",
              "          country_txt  region  ... addnotes scite1 scite2  scite3  dbsource  \\\n",
              "0  Dominican Republic       2  ...      NaN    NaN    NaN     NaN      PGIS   \n",
              "1              Mexico       1  ...      NaN    NaN    NaN     NaN      PGIS   \n",
              "2         Philippines       5  ...      NaN    NaN    NaN     NaN      PGIS   \n",
              "3              Greece       8  ...      NaN    NaN    NaN     NaN      PGIS   \n",
              "4               Japan       4  ...      NaN    NaN    NaN     NaN      PGIS   \n",
              "\n",
              "   INT_LOG  INT_IDEO INT_MISC INT_ANY  related  \n",
              "0        0         0        0       0      NaN  \n",
              "1        0         1        1       1      NaN  \n",
              "2       -9        -9        1       1      NaN  \n",
              "3       -9        -9        1       1      NaN  \n",
              "4       -9        -9        1       1      NaN  \n",
              "\n",
              "[5 rows x 135 columns]"
            ],
            "text/html": [
              "\n",
              "  <div id=\"df-6d521db3-b2b5-48c1-b3bf-eb38c0c33cd5\">\n",
              "    <div class=\"colab-df-container\">\n",
              "      <div>\n",
              "<style scoped>\n",
              "    .dataframe tbody tr th:only-of-type {\n",
              "        vertical-align: middle;\n",
              "    }\n",
              "\n",
              "    .dataframe tbody tr th {\n",
              "        vertical-align: top;\n",
              "    }\n",
              "\n",
              "    .dataframe thead th {\n",
              "        text-align: right;\n",
              "    }\n",
              "</style>\n",
              "<table border=\"1\" class=\"dataframe\">\n",
              "  <thead>\n",
              "    <tr style=\"text-align: right;\">\n",
              "      <th></th>\n",
              "      <th>eventid</th>\n",
              "      <th>iyear</th>\n",
              "      <th>imonth</th>\n",
              "      <th>iday</th>\n",
              "      <th>approxdate</th>\n",
              "      <th>extended</th>\n",
              "      <th>resolution</th>\n",
              "      <th>country</th>\n",
              "      <th>country_txt</th>\n",
              "      <th>region</th>\n",
              "      <th>...</th>\n",
              "      <th>addnotes</th>\n",
              "      <th>scite1</th>\n",
              "      <th>scite2</th>\n",
              "      <th>scite3</th>\n",
              "      <th>dbsource</th>\n",
              "      <th>INT_LOG</th>\n",
              "      <th>INT_IDEO</th>\n",
              "      <th>INT_MISC</th>\n",
              "      <th>INT_ANY</th>\n",
              "      <th>related</th>\n",
              "    </tr>\n",
              "  </thead>\n",
              "  <tbody>\n",
              "    <tr>\n",
              "      <th>0</th>\n",
              "      <td>1.970000e+11</td>\n",
              "      <td>1970</td>\n",
              "      <td>7</td>\n",
              "      <td>2</td>\n",
              "      <td>NaN</td>\n",
              "      <td>0</td>\n",
              "      <td>NaN</td>\n",
              "      <td>58</td>\n",
              "      <td>Dominican Republic</td>\n",
              "      <td>2</td>\n",
              "      <td>...</td>\n",
              "      <td>NaN</td>\n",
              "      <td>NaN</td>\n",
              "      <td>NaN</td>\n",
              "      <td>NaN</td>\n",
              "      <td>PGIS</td>\n",
              "      <td>0</td>\n",
              "      <td>0</td>\n",
              "      <td>0</td>\n",
              "      <td>0</td>\n",
              "      <td>NaN</td>\n",
              "    </tr>\n",
              "    <tr>\n",
              "      <th>1</th>\n",
              "      <td>1.970000e+11</td>\n",
              "      <td>1970</td>\n",
              "      <td>0</td>\n",
              "      <td>0</td>\n",
              "      <td>NaN</td>\n",
              "      <td>0</td>\n",
              "      <td>NaN</td>\n",
              "      <td>130</td>\n",
              "      <td>Mexico</td>\n",
              "      <td>1</td>\n",
              "      <td>...</td>\n",
              "      <td>NaN</td>\n",
              "      <td>NaN</td>\n",
              "      <td>NaN</td>\n",
              "      <td>NaN</td>\n",
              "      <td>PGIS</td>\n",
              "      <td>0</td>\n",
              "      <td>1</td>\n",
              "      <td>1</td>\n",
              "      <td>1</td>\n",
              "      <td>NaN</td>\n",
              "    </tr>\n",
              "    <tr>\n",
              "      <th>2</th>\n",
              "      <td>1.970010e+11</td>\n",
              "      <td>1970</td>\n",
              "      <td>1</td>\n",
              "      <td>0</td>\n",
              "      <td>NaN</td>\n",
              "      <td>0</td>\n",
              "      <td>NaN</td>\n",
              "      <td>160</td>\n",
              "      <td>Philippines</td>\n",
              "      <td>5</td>\n",
              "      <td>...</td>\n",
              "      <td>NaN</td>\n",
              "      <td>NaN</td>\n",
              "      <td>NaN</td>\n",
              "      <td>NaN</td>\n",
              "      <td>PGIS</td>\n",
              "      <td>-9</td>\n",
              "      <td>-9</td>\n",
              "      <td>1</td>\n",
              "      <td>1</td>\n",
              "      <td>NaN</td>\n",
              "    </tr>\n",
              "    <tr>\n",
              "      <th>3</th>\n",
              "      <td>1.970010e+11</td>\n",
              "      <td>1970</td>\n",
              "      <td>1</td>\n",
              "      <td>0</td>\n",
              "      <td>NaN</td>\n",
              "      <td>0</td>\n",
              "      <td>NaN</td>\n",
              "      <td>78</td>\n",
              "      <td>Greece</td>\n",
              "      <td>8</td>\n",
              "      <td>...</td>\n",
              "      <td>NaN</td>\n",
              "      <td>NaN</td>\n",
              "      <td>NaN</td>\n",
              "      <td>NaN</td>\n",
              "      <td>PGIS</td>\n",
              "      <td>-9</td>\n",
              "      <td>-9</td>\n",
              "      <td>1</td>\n",
              "      <td>1</td>\n",
              "      <td>NaN</td>\n",
              "    </tr>\n",
              "    <tr>\n",
              "      <th>4</th>\n",
              "      <td>1.970010e+11</td>\n",
              "      <td>1970</td>\n",
              "      <td>1</td>\n",
              "      <td>0</td>\n",
              "      <td>NaN</td>\n",
              "      <td>0</td>\n",
              "      <td>NaN</td>\n",
              "      <td>101</td>\n",
              "      <td>Japan</td>\n",
              "      <td>4</td>\n",
              "      <td>...</td>\n",
              "      <td>NaN</td>\n",
              "      <td>NaN</td>\n",
              "      <td>NaN</td>\n",
              "      <td>NaN</td>\n",
              "      <td>PGIS</td>\n",
              "      <td>-9</td>\n",
              "      <td>-9</td>\n",
              "      <td>1</td>\n",
              "      <td>1</td>\n",
              "      <td>NaN</td>\n",
              "    </tr>\n",
              "  </tbody>\n",
              "</table>\n",
              "<p>5 rows × 135 columns</p>\n",
              "</div>\n",
              "      <button class=\"colab-df-convert\" onclick=\"convertToInteractive('df-6d521db3-b2b5-48c1-b3bf-eb38c0c33cd5')\"\n",
              "              title=\"Convert this dataframe to an interactive table.\"\n",
              "              style=\"display:none;\">\n",
              "        \n",
              "  <svg xmlns=\"http://www.w3.org/2000/svg\" height=\"24px\"viewBox=\"0 0 24 24\"\n",
              "       width=\"24px\">\n",
              "    <path d=\"M0 0h24v24H0V0z\" fill=\"none\"/>\n",
              "    <path d=\"M18.56 5.44l.94 2.06.94-2.06 2.06-.94-2.06-.94-.94-2.06-.94 2.06-2.06.94zm-11 1L8.5 8.5l.94-2.06 2.06-.94-2.06-.94L8.5 2.5l-.94 2.06-2.06.94zm10 10l.94 2.06.94-2.06 2.06-.94-2.06-.94-.94-2.06-.94 2.06-2.06.94z\"/><path d=\"M17.41 7.96l-1.37-1.37c-.4-.4-.92-.59-1.43-.59-.52 0-1.04.2-1.43.59L10.3 9.45l-7.72 7.72c-.78.78-.78 2.05 0 2.83L4 21.41c.39.39.9.59 1.41.59.51 0 1.02-.2 1.41-.59l7.78-7.78 2.81-2.81c.8-.78.8-2.07 0-2.86zM5.41 20L4 18.59l7.72-7.72 1.47 1.35L5.41 20z\"/>\n",
              "  </svg>\n",
              "      </button>\n",
              "      \n",
              "  <style>\n",
              "    .colab-df-container {\n",
              "      display:flex;\n",
              "      flex-wrap:wrap;\n",
              "      gap: 12px;\n",
              "    }\n",
              "\n",
              "    .colab-df-convert {\n",
              "      background-color: #E8F0FE;\n",
              "      border: none;\n",
              "      border-radius: 50%;\n",
              "      cursor: pointer;\n",
              "      display: none;\n",
              "      fill: #1967D2;\n",
              "      height: 32px;\n",
              "      padding: 0 0 0 0;\n",
              "      width: 32px;\n",
              "    }\n",
              "\n",
              "    .colab-df-convert:hover {\n",
              "      background-color: #E2EBFA;\n",
              "      box-shadow: 0px 1px 2px rgba(60, 64, 67, 0.3), 0px 1px 3px 1px rgba(60, 64, 67, 0.15);\n",
              "      fill: #174EA6;\n",
              "    }\n",
              "\n",
              "    [theme=dark] .colab-df-convert {\n",
              "      background-color: #3B4455;\n",
              "      fill: #D2E3FC;\n",
              "    }\n",
              "\n",
              "    [theme=dark] .colab-df-convert:hover {\n",
              "      background-color: #434B5C;\n",
              "      box-shadow: 0px 1px 3px 1px rgba(0, 0, 0, 0.15);\n",
              "      filter: drop-shadow(0px 1px 2px rgba(0, 0, 0, 0.3));\n",
              "      fill: #FFFFFF;\n",
              "    }\n",
              "  </style>\n",
              "\n",
              "      <script>\n",
              "        const buttonEl =\n",
              "          document.querySelector('#df-6d521db3-b2b5-48c1-b3bf-eb38c0c33cd5 button.colab-df-convert');\n",
              "        buttonEl.style.display =\n",
              "          google.colab.kernel.accessAllowed ? 'block' : 'none';\n",
              "\n",
              "        async function convertToInteractive(key) {\n",
              "          const element = document.querySelector('#df-6d521db3-b2b5-48c1-b3bf-eb38c0c33cd5');\n",
              "          const dataTable =\n",
              "            await google.colab.kernel.invokeFunction('convertToInteractive',\n",
              "                                                     [key], {});\n",
              "          if (!dataTable) return;\n",
              "\n",
              "          const docLinkHtml = 'Like what you see? Visit the ' +\n",
              "            '<a target=\"_blank\" href=https://colab.research.google.com/notebooks/data_table.ipynb>data table notebook</a>'\n",
              "            + ' to learn more about interactive tables.';\n",
              "          element.innerHTML = '';\n",
              "          dataTable['output_type'] = 'display_data';\n",
              "          await google.colab.output.renderOutput(dataTable, element);\n",
              "          const docLink = document.createElement('div');\n",
              "          docLink.innerHTML = docLinkHtml;\n",
              "          element.appendChild(docLink);\n",
              "        }\n",
              "      </script>\n",
              "    </div>\n",
              "  </div>\n",
              "  "
            ]
          },
          "metadata": {},
          "execution_count": 31
        }
      ]
    },
    {
      "cell_type": "code",
      "source": [
        "df.tail()"
      ],
      "metadata": {
        "colab": {
          "base_uri": "https://localhost:8080/",
          "height": 716
        },
        "id": "5crB6xfxJlX-",
        "outputId": "d2c4ff12-59ff-43d5-9804-7d31aa87e5f4"
      },
      "execution_count": 32,
      "outputs": [
        {
          "output_type": "execute_result",
          "data": {
            "text/plain": [
              "             eventid  iyear  imonth  iday approxdate  extended resolution  \\\n",
              "181686  2.017120e+11   2017      12    31        NaN         0        NaN   \n",
              "181687  2.017120e+11   2017      12    31        NaN         0        NaN   \n",
              "181688  2.017120e+11   2017      12    31        NaN         0        NaN   \n",
              "181689  2.017120e+11   2017      12    31        NaN         0        NaN   \n",
              "181690  2.017120e+11   2017      12    31        NaN         0        NaN   \n",
              "\n",
              "        country  country_txt  region  ... addnotes  \\\n",
              "181686      182      Somalia      11  ...      NaN   \n",
              "181687      200        Syria      10  ...      NaN   \n",
              "181688      160  Philippines       5  ...      NaN   \n",
              "181689       92        India       6  ...      NaN   \n",
              "181690      160  Philippines       5  ...      NaN   \n",
              "\n",
              "                                                   scite1  \\\n",
              "181686  \"Somalia: Al-Shabaab Militants Attack Army Che...   \n",
              "181687  \"Putin's 'victory' in Syria has turned into a ...   \n",
              "181688  \"Maguindanao clashes trap tribe members,\" Phil...   \n",
              "181689  \"Trader escapes grenade attack in Imphal,\" Bus...   \n",
              "181690  \"Security tightened in Cotabato following IED ...   \n",
              "\n",
              "                                                   scite2  \\\n",
              "181686  \"Highlights: Somalia Daily Media Highlights 2 ...   \n",
              "181687  \"Two Russian soldiers killed at Hmeymim base i...   \n",
              "181688                                                NaN   \n",
              "181689                                                NaN   \n",
              "181690  \"Security tightened in Cotabato City,\" Manila ...   \n",
              "\n",
              "                                                   scite3  \\\n",
              "181686  \"Highlights: Somalia Daily Media Highlights 1 ...   \n",
              "181687  \"Two Russian servicemen killed in Syria mortar...   \n",
              "181688                                                NaN   \n",
              "181689                                                NaN   \n",
              "181690                                                NaN   \n",
              "\n",
              "                        dbsource  INT_LOG  INT_IDEO INT_MISC INT_ANY  related  \n",
              "181686  START Primary Collection        0         0        0       0      NaN  \n",
              "181687  START Primary Collection       -9        -9        1       1      NaN  \n",
              "181688  START Primary Collection        0         0        0       0      NaN  \n",
              "181689  START Primary Collection       -9        -9        0      -9      NaN  \n",
              "181690  START Primary Collection       -9        -9        0      -9      NaN  \n",
              "\n",
              "[5 rows x 135 columns]"
            ],
            "text/html": [
              "\n",
              "  <div id=\"df-ffb3b225-7d62-41f0-bcd0-31df39445aae\">\n",
              "    <div class=\"colab-df-container\">\n",
              "      <div>\n",
              "<style scoped>\n",
              "    .dataframe tbody tr th:only-of-type {\n",
              "        vertical-align: middle;\n",
              "    }\n",
              "\n",
              "    .dataframe tbody tr th {\n",
              "        vertical-align: top;\n",
              "    }\n",
              "\n",
              "    .dataframe thead th {\n",
              "        text-align: right;\n",
              "    }\n",
              "</style>\n",
              "<table border=\"1\" class=\"dataframe\">\n",
              "  <thead>\n",
              "    <tr style=\"text-align: right;\">\n",
              "      <th></th>\n",
              "      <th>eventid</th>\n",
              "      <th>iyear</th>\n",
              "      <th>imonth</th>\n",
              "      <th>iday</th>\n",
              "      <th>approxdate</th>\n",
              "      <th>extended</th>\n",
              "      <th>resolution</th>\n",
              "      <th>country</th>\n",
              "      <th>country_txt</th>\n",
              "      <th>region</th>\n",
              "      <th>...</th>\n",
              "      <th>addnotes</th>\n",
              "      <th>scite1</th>\n",
              "      <th>scite2</th>\n",
              "      <th>scite3</th>\n",
              "      <th>dbsource</th>\n",
              "      <th>INT_LOG</th>\n",
              "      <th>INT_IDEO</th>\n",
              "      <th>INT_MISC</th>\n",
              "      <th>INT_ANY</th>\n",
              "      <th>related</th>\n",
              "    </tr>\n",
              "  </thead>\n",
              "  <tbody>\n",
              "    <tr>\n",
              "      <th>181686</th>\n",
              "      <td>2.017120e+11</td>\n",
              "      <td>2017</td>\n",
              "      <td>12</td>\n",
              "      <td>31</td>\n",
              "      <td>NaN</td>\n",
              "      <td>0</td>\n",
              "      <td>NaN</td>\n",
              "      <td>182</td>\n",
              "      <td>Somalia</td>\n",
              "      <td>11</td>\n",
              "      <td>...</td>\n",
              "      <td>NaN</td>\n",
              "      <td>\"Somalia: Al-Shabaab Militants Attack Army Che...</td>\n",
              "      <td>\"Highlights: Somalia Daily Media Highlights 2 ...</td>\n",
              "      <td>\"Highlights: Somalia Daily Media Highlights 1 ...</td>\n",
              "      <td>START Primary Collection</td>\n",
              "      <td>0</td>\n",
              "      <td>0</td>\n",
              "      <td>0</td>\n",
              "      <td>0</td>\n",
              "      <td>NaN</td>\n",
              "    </tr>\n",
              "    <tr>\n",
              "      <th>181687</th>\n",
              "      <td>2.017120e+11</td>\n",
              "      <td>2017</td>\n",
              "      <td>12</td>\n",
              "      <td>31</td>\n",
              "      <td>NaN</td>\n",
              "      <td>0</td>\n",
              "      <td>NaN</td>\n",
              "      <td>200</td>\n",
              "      <td>Syria</td>\n",
              "      <td>10</td>\n",
              "      <td>...</td>\n",
              "      <td>NaN</td>\n",
              "      <td>\"Putin's 'victory' in Syria has turned into a ...</td>\n",
              "      <td>\"Two Russian soldiers killed at Hmeymim base i...</td>\n",
              "      <td>\"Two Russian servicemen killed in Syria mortar...</td>\n",
              "      <td>START Primary Collection</td>\n",
              "      <td>-9</td>\n",
              "      <td>-9</td>\n",
              "      <td>1</td>\n",
              "      <td>1</td>\n",
              "      <td>NaN</td>\n",
              "    </tr>\n",
              "    <tr>\n",
              "      <th>181688</th>\n",
              "      <td>2.017120e+11</td>\n",
              "      <td>2017</td>\n",
              "      <td>12</td>\n",
              "      <td>31</td>\n",
              "      <td>NaN</td>\n",
              "      <td>0</td>\n",
              "      <td>NaN</td>\n",
              "      <td>160</td>\n",
              "      <td>Philippines</td>\n",
              "      <td>5</td>\n",
              "      <td>...</td>\n",
              "      <td>NaN</td>\n",
              "      <td>\"Maguindanao clashes trap tribe members,\" Phil...</td>\n",
              "      <td>NaN</td>\n",
              "      <td>NaN</td>\n",
              "      <td>START Primary Collection</td>\n",
              "      <td>0</td>\n",
              "      <td>0</td>\n",
              "      <td>0</td>\n",
              "      <td>0</td>\n",
              "      <td>NaN</td>\n",
              "    </tr>\n",
              "    <tr>\n",
              "      <th>181689</th>\n",
              "      <td>2.017120e+11</td>\n",
              "      <td>2017</td>\n",
              "      <td>12</td>\n",
              "      <td>31</td>\n",
              "      <td>NaN</td>\n",
              "      <td>0</td>\n",
              "      <td>NaN</td>\n",
              "      <td>92</td>\n",
              "      <td>India</td>\n",
              "      <td>6</td>\n",
              "      <td>...</td>\n",
              "      <td>NaN</td>\n",
              "      <td>\"Trader escapes grenade attack in Imphal,\" Bus...</td>\n",
              "      <td>NaN</td>\n",
              "      <td>NaN</td>\n",
              "      <td>START Primary Collection</td>\n",
              "      <td>-9</td>\n",
              "      <td>-9</td>\n",
              "      <td>0</td>\n",
              "      <td>-9</td>\n",
              "      <td>NaN</td>\n",
              "    </tr>\n",
              "    <tr>\n",
              "      <th>181690</th>\n",
              "      <td>2.017120e+11</td>\n",
              "      <td>2017</td>\n",
              "      <td>12</td>\n",
              "      <td>31</td>\n",
              "      <td>NaN</td>\n",
              "      <td>0</td>\n",
              "      <td>NaN</td>\n",
              "      <td>160</td>\n",
              "      <td>Philippines</td>\n",
              "      <td>5</td>\n",
              "      <td>...</td>\n",
              "      <td>NaN</td>\n",
              "      <td>\"Security tightened in Cotabato following IED ...</td>\n",
              "      <td>\"Security tightened in Cotabato City,\" Manila ...</td>\n",
              "      <td>NaN</td>\n",
              "      <td>START Primary Collection</td>\n",
              "      <td>-9</td>\n",
              "      <td>-9</td>\n",
              "      <td>0</td>\n",
              "      <td>-9</td>\n",
              "      <td>NaN</td>\n",
              "    </tr>\n",
              "  </tbody>\n",
              "</table>\n",
              "<p>5 rows × 135 columns</p>\n",
              "</div>\n",
              "      <button class=\"colab-df-convert\" onclick=\"convertToInteractive('df-ffb3b225-7d62-41f0-bcd0-31df39445aae')\"\n",
              "              title=\"Convert this dataframe to an interactive table.\"\n",
              "              style=\"display:none;\">\n",
              "        \n",
              "  <svg xmlns=\"http://www.w3.org/2000/svg\" height=\"24px\"viewBox=\"0 0 24 24\"\n",
              "       width=\"24px\">\n",
              "    <path d=\"M0 0h24v24H0V0z\" fill=\"none\"/>\n",
              "    <path d=\"M18.56 5.44l.94 2.06.94-2.06 2.06-.94-2.06-.94-.94-2.06-.94 2.06-2.06.94zm-11 1L8.5 8.5l.94-2.06 2.06-.94-2.06-.94L8.5 2.5l-.94 2.06-2.06.94zm10 10l.94 2.06.94-2.06 2.06-.94-2.06-.94-.94-2.06-.94 2.06-2.06.94z\"/><path d=\"M17.41 7.96l-1.37-1.37c-.4-.4-.92-.59-1.43-.59-.52 0-1.04.2-1.43.59L10.3 9.45l-7.72 7.72c-.78.78-.78 2.05 0 2.83L4 21.41c.39.39.9.59 1.41.59.51 0 1.02-.2 1.41-.59l7.78-7.78 2.81-2.81c.8-.78.8-2.07 0-2.86zM5.41 20L4 18.59l7.72-7.72 1.47 1.35L5.41 20z\"/>\n",
              "  </svg>\n",
              "      </button>\n",
              "      \n",
              "  <style>\n",
              "    .colab-df-container {\n",
              "      display:flex;\n",
              "      flex-wrap:wrap;\n",
              "      gap: 12px;\n",
              "    }\n",
              "\n",
              "    .colab-df-convert {\n",
              "      background-color: #E8F0FE;\n",
              "      border: none;\n",
              "      border-radius: 50%;\n",
              "      cursor: pointer;\n",
              "      display: none;\n",
              "      fill: #1967D2;\n",
              "      height: 32px;\n",
              "      padding: 0 0 0 0;\n",
              "      width: 32px;\n",
              "    }\n",
              "\n",
              "    .colab-df-convert:hover {\n",
              "      background-color: #E2EBFA;\n",
              "      box-shadow: 0px 1px 2px rgba(60, 64, 67, 0.3), 0px 1px 3px 1px rgba(60, 64, 67, 0.15);\n",
              "      fill: #174EA6;\n",
              "    }\n",
              "\n",
              "    [theme=dark] .colab-df-convert {\n",
              "      background-color: #3B4455;\n",
              "      fill: #D2E3FC;\n",
              "    }\n",
              "\n",
              "    [theme=dark] .colab-df-convert:hover {\n",
              "      background-color: #434B5C;\n",
              "      box-shadow: 0px 1px 3px 1px rgba(0, 0, 0, 0.15);\n",
              "      filter: drop-shadow(0px 1px 2px rgba(0, 0, 0, 0.3));\n",
              "      fill: #FFFFFF;\n",
              "    }\n",
              "  </style>\n",
              "\n",
              "      <script>\n",
              "        const buttonEl =\n",
              "          document.querySelector('#df-ffb3b225-7d62-41f0-bcd0-31df39445aae button.colab-df-convert');\n",
              "        buttonEl.style.display =\n",
              "          google.colab.kernel.accessAllowed ? 'block' : 'none';\n",
              "\n",
              "        async function convertToInteractive(key) {\n",
              "          const element = document.querySelector('#df-ffb3b225-7d62-41f0-bcd0-31df39445aae');\n",
              "          const dataTable =\n",
              "            await google.colab.kernel.invokeFunction('convertToInteractive',\n",
              "                                                     [key], {});\n",
              "          if (!dataTable) return;\n",
              "\n",
              "          const docLinkHtml = 'Like what you see? Visit the ' +\n",
              "            '<a target=\"_blank\" href=https://colab.research.google.com/notebooks/data_table.ipynb>data table notebook</a>'\n",
              "            + ' to learn more about interactive tables.';\n",
              "          element.innerHTML = '';\n",
              "          dataTable['output_type'] = 'display_data';\n",
              "          await google.colab.output.renderOutput(dataTable, element);\n",
              "          const docLink = document.createElement('div');\n",
              "          docLink.innerHTML = docLinkHtml;\n",
              "          element.appendChild(docLink);\n",
              "        }\n",
              "      </script>\n",
              "    </div>\n",
              "  </div>\n",
              "  "
            ]
          },
          "metadata": {},
          "execution_count": 32
        }
      ]
    },
    {
      "cell_type": "code",
      "source": [
        "#GETTING TO KNOW THE DATA\n",
        "df.info()"
      ],
      "metadata": {
        "colab": {
          "base_uri": "https://localhost:8080/"
        },
        "id": "2iGnA0sduVCk",
        "outputId": "715b78a9-3105-4de2-b4aa-4d65de0caa87"
      },
      "execution_count": 33,
      "outputs": [
        {
          "output_type": "stream",
          "name": "stdout",
          "text": [
            "<class 'pandas.core.frame.DataFrame'>\n",
            "RangeIndex: 181691 entries, 0 to 181690\n",
            "Columns: 135 entries, eventid to related\n",
            "dtypes: float64(56), int64(21), object(58)\n",
            "memory usage: 187.1+ MB\n"
          ]
        }
      ]
    },
    {
      "cell_type": "markdown",
      "source": [
        "Data Cleaning"
      ],
      "metadata": {
        "id": "Qd8JmgHr1KzZ"
      }
    },
    {
      "cell_type": "code",
      "source": [
        "#TO VIEW SHAPE\n",
        "print(\"There are {} rows and {} columns in the dataset\".format(df.shape[0],df.shape[1]))"
      ],
      "metadata": {
        "colab": {
          "base_uri": "https://localhost:8080/"
        },
        "id": "o5ra_qhNJwa1",
        "outputId": "8f908adb-3b06-457d-e051-a6a6ab4887ee"
      },
      "execution_count": 34,
      "outputs": [
        {
          "output_type": "stream",
          "name": "stdout",
          "text": [
            "There are 181691 rows and 135 columns in the dataset\n"
          ]
        }
      ]
    },
    {
      "cell_type": "code",
      "source": [
        "# NAME OF COLUMNS\n",
        "df.columns"
      ],
      "metadata": {
        "colab": {
          "base_uri": "https://localhost:8080/"
        },
        "id": "NGnb8mjhJ4IO",
        "outputId": "43c8f266-8536-42e2-d9d6-0d2a7cf9bf61"
      },
      "execution_count": 35,
      "outputs": [
        {
          "output_type": "execute_result",
          "data": {
            "text/plain": [
              "Index(['eventid', 'iyear', 'imonth', 'iday', 'approxdate', 'extended',\n",
              "       'resolution', 'country', 'country_txt', 'region',\n",
              "       ...\n",
              "       'addnotes', 'scite1', 'scite2', 'scite3', 'dbsource', 'INT_LOG',\n",
              "       'INT_IDEO', 'INT_MISC', 'INT_ANY', 'related'],\n",
              "      dtype='object', length=135)"
            ]
          },
          "metadata": {},
          "execution_count": 35
        }
      ]
    },
    {
      "cell_type": "code",
      "source": [
        "#DATA TYPES OF COLUMNS\n",
        "df.dtypes"
      ],
      "metadata": {
        "colab": {
          "base_uri": "https://localhost:8080/"
        },
        "id": "DEBmbNuru6zf",
        "outputId": "2edffbde-df90-40a3-b194-a99df9c58045"
      },
      "execution_count": 36,
      "outputs": [
        {
          "output_type": "execute_result",
          "data": {
            "text/plain": [
              "eventid       float64\n",
              "iyear           int64\n",
              "imonth          int64\n",
              "iday            int64\n",
              "approxdate     object\n",
              "               ...   \n",
              "INT_LOG         int64\n",
              "INT_IDEO        int64\n",
              "INT_MISC        int64\n",
              "INT_ANY         int64\n",
              "related        object\n",
              "Length: 135, dtype: object"
            ]
          },
          "metadata": {},
          "execution_count": 36
        }
      ]
    },
    {
      "cell_type": "code",
      "source": [
        "#Descriptive Statistics\n",
        "#Includes summarized central tendency, dispersion and shape of a dataset’s distribution, excluding NaN values\n",
        "\n",
        "df.describe()"
      ],
      "metadata": {
        "colab": {
          "base_uri": "https://localhost:8080/",
          "height": 394
        },
        "id": "5fk5LZe61u50",
        "outputId": "5766a083-db74-42d7-e55e-10595467685c"
      },
      "execution_count": 37,
      "outputs": [
        {
          "output_type": "execute_result",
          "data": {
            "text/plain": [
              "            eventid          iyear         imonth           iday  \\\n",
              "count  1.816910e+05  181691.000000  181691.000000  181691.000000   \n",
              "mean   2.002704e+11    2002.638997       6.467277      15.505644   \n",
              "std    1.325955e+09      13.259430       3.388303       8.814045   \n",
              "min    1.970000e+11    1970.000000       0.000000       0.000000   \n",
              "25%    1.991020e+11    1991.000000       4.000000       8.000000   \n",
              "50%    2.009020e+11    2009.000000       6.000000      15.000000   \n",
              "75%    2.014080e+11    2014.000000       9.000000      23.000000   \n",
              "max    2.017120e+11    2017.000000      12.000000      31.000000   \n",
              "\n",
              "            extended        country         region       latitude  \\\n",
              "count  181691.000000  181691.000000  181691.000000  177135.000000   \n",
              "mean        0.045346     131.968501       7.160938      23.498343   \n",
              "std         0.208063     112.414535       2.933408      18.569242   \n",
              "min         0.000000       4.000000       1.000000     -53.154613   \n",
              "25%         0.000000      78.000000       5.000000      11.510046   \n",
              "50%         0.000000      98.000000       6.000000      31.467463   \n",
              "75%         0.000000     160.000000      10.000000      34.685087   \n",
              "max         1.000000    1004.000000      12.000000      74.633553   \n",
              "\n",
              "          longitude    specificity  ...     ransomamt   ransomamtus  \\\n",
              "count  1.771340e+05  181685.000000  ...  1.350000e+03  5.630000e+02   \n",
              "mean  -4.586957e+02       1.451452  ...  3.172530e+06  5.784865e+05   \n",
              "std    2.047790e+05       0.995430  ...  3.021157e+07  7.077924e+06   \n",
              "min   -8.618590e+07       1.000000  ... -9.900000e+01 -9.900000e+01   \n",
              "25%    4.545640e+00       1.000000  ...  0.000000e+00  0.000000e+00   \n",
              "50%    4.324651e+01       1.000000  ...  1.500000e+04  0.000000e+00   \n",
              "75%    6.871033e+01       1.000000  ...  4.000000e+05  0.000000e+00   \n",
              "max    1.793667e+02       5.000000  ...  1.000000e+09  1.320000e+08   \n",
              "\n",
              "         ransompaid  ransompaidus  hostkidoutcome     nreleased  \\\n",
              "count  7.740000e+02    552.000000    10991.000000  10400.000000   \n",
              "mean   7.179437e+05    240.378623        4.629242    -29.018269   \n",
              "std    1.014392e+07   2940.967293        2.035360     65.720119   \n",
              "min   -9.900000e+01    -99.000000        1.000000    -99.000000   \n",
              "25%   -9.900000e+01      0.000000        2.000000    -99.000000   \n",
              "50%    0.000000e+00      0.000000        4.000000      0.000000   \n",
              "75%    1.273412e+03      0.000000        7.000000      1.000000   \n",
              "max    2.750000e+08  48000.000000        7.000000   2769.000000   \n",
              "\n",
              "             INT_LOG       INT_IDEO       INT_MISC        INT_ANY  \n",
              "count  181691.000000  181691.000000  181691.000000  181691.000000  \n",
              "mean       -4.543731      -4.464398       0.090010      -3.945952  \n",
              "std         4.543547       4.637152       0.568457       4.691325  \n",
              "min        -9.000000      -9.000000      -9.000000      -9.000000  \n",
              "25%        -9.000000      -9.000000       0.000000      -9.000000  \n",
              "50%        -9.000000      -9.000000       0.000000       0.000000  \n",
              "75%         0.000000       0.000000       0.000000       0.000000  \n",
              "max         1.000000       1.000000       1.000000       1.000000  \n",
              "\n",
              "[8 rows x 77 columns]"
            ],
            "text/html": [
              "\n",
              "  <div id=\"df-220a998c-6009-4506-8139-08f3599fba73\">\n",
              "    <div class=\"colab-df-container\">\n",
              "      <div>\n",
              "<style scoped>\n",
              "    .dataframe tbody tr th:only-of-type {\n",
              "        vertical-align: middle;\n",
              "    }\n",
              "\n",
              "    .dataframe tbody tr th {\n",
              "        vertical-align: top;\n",
              "    }\n",
              "\n",
              "    .dataframe thead th {\n",
              "        text-align: right;\n",
              "    }\n",
              "</style>\n",
              "<table border=\"1\" class=\"dataframe\">\n",
              "  <thead>\n",
              "    <tr style=\"text-align: right;\">\n",
              "      <th></th>\n",
              "      <th>eventid</th>\n",
              "      <th>iyear</th>\n",
              "      <th>imonth</th>\n",
              "      <th>iday</th>\n",
              "      <th>extended</th>\n",
              "      <th>country</th>\n",
              "      <th>region</th>\n",
              "      <th>latitude</th>\n",
              "      <th>longitude</th>\n",
              "      <th>specificity</th>\n",
              "      <th>...</th>\n",
              "      <th>ransomamt</th>\n",
              "      <th>ransomamtus</th>\n",
              "      <th>ransompaid</th>\n",
              "      <th>ransompaidus</th>\n",
              "      <th>hostkidoutcome</th>\n",
              "      <th>nreleased</th>\n",
              "      <th>INT_LOG</th>\n",
              "      <th>INT_IDEO</th>\n",
              "      <th>INT_MISC</th>\n",
              "      <th>INT_ANY</th>\n",
              "    </tr>\n",
              "  </thead>\n",
              "  <tbody>\n",
              "    <tr>\n",
              "      <th>count</th>\n",
              "      <td>1.816910e+05</td>\n",
              "      <td>181691.000000</td>\n",
              "      <td>181691.000000</td>\n",
              "      <td>181691.000000</td>\n",
              "      <td>181691.000000</td>\n",
              "      <td>181691.000000</td>\n",
              "      <td>181691.000000</td>\n",
              "      <td>177135.000000</td>\n",
              "      <td>1.771340e+05</td>\n",
              "      <td>181685.000000</td>\n",
              "      <td>...</td>\n",
              "      <td>1.350000e+03</td>\n",
              "      <td>5.630000e+02</td>\n",
              "      <td>7.740000e+02</td>\n",
              "      <td>552.000000</td>\n",
              "      <td>10991.000000</td>\n",
              "      <td>10400.000000</td>\n",
              "      <td>181691.000000</td>\n",
              "      <td>181691.000000</td>\n",
              "      <td>181691.000000</td>\n",
              "      <td>181691.000000</td>\n",
              "    </tr>\n",
              "    <tr>\n",
              "      <th>mean</th>\n",
              "      <td>2.002704e+11</td>\n",
              "      <td>2002.638997</td>\n",
              "      <td>6.467277</td>\n",
              "      <td>15.505644</td>\n",
              "      <td>0.045346</td>\n",
              "      <td>131.968501</td>\n",
              "      <td>7.160938</td>\n",
              "      <td>23.498343</td>\n",
              "      <td>-4.586957e+02</td>\n",
              "      <td>1.451452</td>\n",
              "      <td>...</td>\n",
              "      <td>3.172530e+06</td>\n",
              "      <td>5.784865e+05</td>\n",
              "      <td>7.179437e+05</td>\n",
              "      <td>240.378623</td>\n",
              "      <td>4.629242</td>\n",
              "      <td>-29.018269</td>\n",
              "      <td>-4.543731</td>\n",
              "      <td>-4.464398</td>\n",
              "      <td>0.090010</td>\n",
              "      <td>-3.945952</td>\n",
              "    </tr>\n",
              "    <tr>\n",
              "      <th>std</th>\n",
              "      <td>1.325955e+09</td>\n",
              "      <td>13.259430</td>\n",
              "      <td>3.388303</td>\n",
              "      <td>8.814045</td>\n",
              "      <td>0.208063</td>\n",
              "      <td>112.414535</td>\n",
              "      <td>2.933408</td>\n",
              "      <td>18.569242</td>\n",
              "      <td>2.047790e+05</td>\n",
              "      <td>0.995430</td>\n",
              "      <td>...</td>\n",
              "      <td>3.021157e+07</td>\n",
              "      <td>7.077924e+06</td>\n",
              "      <td>1.014392e+07</td>\n",
              "      <td>2940.967293</td>\n",
              "      <td>2.035360</td>\n",
              "      <td>65.720119</td>\n",
              "      <td>4.543547</td>\n",
              "      <td>4.637152</td>\n",
              "      <td>0.568457</td>\n",
              "      <td>4.691325</td>\n",
              "    </tr>\n",
              "    <tr>\n",
              "      <th>min</th>\n",
              "      <td>1.970000e+11</td>\n",
              "      <td>1970.000000</td>\n",
              "      <td>0.000000</td>\n",
              "      <td>0.000000</td>\n",
              "      <td>0.000000</td>\n",
              "      <td>4.000000</td>\n",
              "      <td>1.000000</td>\n",
              "      <td>-53.154613</td>\n",
              "      <td>-8.618590e+07</td>\n",
              "      <td>1.000000</td>\n",
              "      <td>...</td>\n",
              "      <td>-9.900000e+01</td>\n",
              "      <td>-9.900000e+01</td>\n",
              "      <td>-9.900000e+01</td>\n",
              "      <td>-99.000000</td>\n",
              "      <td>1.000000</td>\n",
              "      <td>-99.000000</td>\n",
              "      <td>-9.000000</td>\n",
              "      <td>-9.000000</td>\n",
              "      <td>-9.000000</td>\n",
              "      <td>-9.000000</td>\n",
              "    </tr>\n",
              "    <tr>\n",
              "      <th>25%</th>\n",
              "      <td>1.991020e+11</td>\n",
              "      <td>1991.000000</td>\n",
              "      <td>4.000000</td>\n",
              "      <td>8.000000</td>\n",
              "      <td>0.000000</td>\n",
              "      <td>78.000000</td>\n",
              "      <td>5.000000</td>\n",
              "      <td>11.510046</td>\n",
              "      <td>4.545640e+00</td>\n",
              "      <td>1.000000</td>\n",
              "      <td>...</td>\n",
              "      <td>0.000000e+00</td>\n",
              "      <td>0.000000e+00</td>\n",
              "      <td>-9.900000e+01</td>\n",
              "      <td>0.000000</td>\n",
              "      <td>2.000000</td>\n",
              "      <td>-99.000000</td>\n",
              "      <td>-9.000000</td>\n",
              "      <td>-9.000000</td>\n",
              "      <td>0.000000</td>\n",
              "      <td>-9.000000</td>\n",
              "    </tr>\n",
              "    <tr>\n",
              "      <th>50%</th>\n",
              "      <td>2.009020e+11</td>\n",
              "      <td>2009.000000</td>\n",
              "      <td>6.000000</td>\n",
              "      <td>15.000000</td>\n",
              "      <td>0.000000</td>\n",
              "      <td>98.000000</td>\n",
              "      <td>6.000000</td>\n",
              "      <td>31.467463</td>\n",
              "      <td>4.324651e+01</td>\n",
              "      <td>1.000000</td>\n",
              "      <td>...</td>\n",
              "      <td>1.500000e+04</td>\n",
              "      <td>0.000000e+00</td>\n",
              "      <td>0.000000e+00</td>\n",
              "      <td>0.000000</td>\n",
              "      <td>4.000000</td>\n",
              "      <td>0.000000</td>\n",
              "      <td>-9.000000</td>\n",
              "      <td>-9.000000</td>\n",
              "      <td>0.000000</td>\n",
              "      <td>0.000000</td>\n",
              "    </tr>\n",
              "    <tr>\n",
              "      <th>75%</th>\n",
              "      <td>2.014080e+11</td>\n",
              "      <td>2014.000000</td>\n",
              "      <td>9.000000</td>\n",
              "      <td>23.000000</td>\n",
              "      <td>0.000000</td>\n",
              "      <td>160.000000</td>\n",
              "      <td>10.000000</td>\n",
              "      <td>34.685087</td>\n",
              "      <td>6.871033e+01</td>\n",
              "      <td>1.000000</td>\n",
              "      <td>...</td>\n",
              "      <td>4.000000e+05</td>\n",
              "      <td>0.000000e+00</td>\n",
              "      <td>1.273412e+03</td>\n",
              "      <td>0.000000</td>\n",
              "      <td>7.000000</td>\n",
              "      <td>1.000000</td>\n",
              "      <td>0.000000</td>\n",
              "      <td>0.000000</td>\n",
              "      <td>0.000000</td>\n",
              "      <td>0.000000</td>\n",
              "    </tr>\n",
              "    <tr>\n",
              "      <th>max</th>\n",
              "      <td>2.017120e+11</td>\n",
              "      <td>2017.000000</td>\n",
              "      <td>12.000000</td>\n",
              "      <td>31.000000</td>\n",
              "      <td>1.000000</td>\n",
              "      <td>1004.000000</td>\n",
              "      <td>12.000000</td>\n",
              "      <td>74.633553</td>\n",
              "      <td>1.793667e+02</td>\n",
              "      <td>5.000000</td>\n",
              "      <td>...</td>\n",
              "      <td>1.000000e+09</td>\n",
              "      <td>1.320000e+08</td>\n",
              "      <td>2.750000e+08</td>\n",
              "      <td>48000.000000</td>\n",
              "      <td>7.000000</td>\n",
              "      <td>2769.000000</td>\n",
              "      <td>1.000000</td>\n",
              "      <td>1.000000</td>\n",
              "      <td>1.000000</td>\n",
              "      <td>1.000000</td>\n",
              "    </tr>\n",
              "  </tbody>\n",
              "</table>\n",
              "<p>8 rows × 77 columns</p>\n",
              "</div>\n",
              "      <button class=\"colab-df-convert\" onclick=\"convertToInteractive('df-220a998c-6009-4506-8139-08f3599fba73')\"\n",
              "              title=\"Convert this dataframe to an interactive table.\"\n",
              "              style=\"display:none;\">\n",
              "        \n",
              "  <svg xmlns=\"http://www.w3.org/2000/svg\" height=\"24px\"viewBox=\"0 0 24 24\"\n",
              "       width=\"24px\">\n",
              "    <path d=\"M0 0h24v24H0V0z\" fill=\"none\"/>\n",
              "    <path d=\"M18.56 5.44l.94 2.06.94-2.06 2.06-.94-2.06-.94-.94-2.06-.94 2.06-2.06.94zm-11 1L8.5 8.5l.94-2.06 2.06-.94-2.06-.94L8.5 2.5l-.94 2.06-2.06.94zm10 10l.94 2.06.94-2.06 2.06-.94-2.06-.94-.94-2.06-.94 2.06-2.06.94z\"/><path d=\"M17.41 7.96l-1.37-1.37c-.4-.4-.92-.59-1.43-.59-.52 0-1.04.2-1.43.59L10.3 9.45l-7.72 7.72c-.78.78-.78 2.05 0 2.83L4 21.41c.39.39.9.59 1.41.59.51 0 1.02-.2 1.41-.59l7.78-7.78 2.81-2.81c.8-.78.8-2.07 0-2.86zM5.41 20L4 18.59l7.72-7.72 1.47 1.35L5.41 20z\"/>\n",
              "  </svg>\n",
              "      </button>\n",
              "      \n",
              "  <style>\n",
              "    .colab-df-container {\n",
              "      display:flex;\n",
              "      flex-wrap:wrap;\n",
              "      gap: 12px;\n",
              "    }\n",
              "\n",
              "    .colab-df-convert {\n",
              "      background-color: #E8F0FE;\n",
              "      border: none;\n",
              "      border-radius: 50%;\n",
              "      cursor: pointer;\n",
              "      display: none;\n",
              "      fill: #1967D2;\n",
              "      height: 32px;\n",
              "      padding: 0 0 0 0;\n",
              "      width: 32px;\n",
              "    }\n",
              "\n",
              "    .colab-df-convert:hover {\n",
              "      background-color: #E2EBFA;\n",
              "      box-shadow: 0px 1px 2px rgba(60, 64, 67, 0.3), 0px 1px 3px 1px rgba(60, 64, 67, 0.15);\n",
              "      fill: #174EA6;\n",
              "    }\n",
              "\n",
              "    [theme=dark] .colab-df-convert {\n",
              "      background-color: #3B4455;\n",
              "      fill: #D2E3FC;\n",
              "    }\n",
              "\n",
              "    [theme=dark] .colab-df-convert:hover {\n",
              "      background-color: #434B5C;\n",
              "      box-shadow: 0px 1px 3px 1px rgba(0, 0, 0, 0.15);\n",
              "      filter: drop-shadow(0px 1px 2px rgba(0, 0, 0, 0.3));\n",
              "      fill: #FFFFFF;\n",
              "    }\n",
              "  </style>\n",
              "\n",
              "      <script>\n",
              "        const buttonEl =\n",
              "          document.querySelector('#df-220a998c-6009-4506-8139-08f3599fba73 button.colab-df-convert');\n",
              "        buttonEl.style.display =\n",
              "          google.colab.kernel.accessAllowed ? 'block' : 'none';\n",
              "\n",
              "        async function convertToInteractive(key) {\n",
              "          const element = document.querySelector('#df-220a998c-6009-4506-8139-08f3599fba73');\n",
              "          const dataTable =\n",
              "            await google.colab.kernel.invokeFunction('convertToInteractive',\n",
              "                                                     [key], {});\n",
              "          if (!dataTable) return;\n",
              "\n",
              "          const docLinkHtml = 'Like what you see? Visit the ' +\n",
              "            '<a target=\"_blank\" href=https://colab.research.google.com/notebooks/data_table.ipynb>data table notebook</a>'\n",
              "            + ' to learn more about interactive tables.';\n",
              "          element.innerHTML = '';\n",
              "          dataTable['output_type'] = 'display_data';\n",
              "          await google.colab.output.renderOutput(dataTable, element);\n",
              "          const docLink = document.createElement('div');\n",
              "          docLink.innerHTML = docLinkHtml;\n",
              "          element.appendChild(docLink);\n",
              "        }\n",
              "      </script>\n",
              "    </div>\n",
              "  </div>\n",
              "  "
            ]
          },
          "metadata": {},
          "execution_count": 37
        }
      ]
    },
    {
      "cell_type": "code",
      "source": [
        "#Calculating % of missing values in dataset\n",
        "missing_values = (((df.isnull().sum()).sum())/df.size)*100\n",
        "missing_values"
      ],
      "metadata": {
        "colab": {
          "base_uri": "https://localhost:8080/"
        },
        "id": "sSITjTjw16JS",
        "outputId": "815c6c36-d1e0-4ee1-8b4d-c4194d6360ad"
      },
      "execution_count": 38,
      "outputs": [
        {
          "output_type": "execute_result",
          "data": {
            "text/plain": [
              "56.481718962414206"
            ]
          },
          "metadata": {},
          "execution_count": 38
        }
      ]
    },
    {
      "cell_type": "markdown",
      "source": [
        "**We have found that more than 50% of the values are Null,\n",
        "Hence, we need to clean the Dataset**"
      ],
      "metadata": {
        "id": "E8VfLcls2LO9"
      }
    },
    {
      "cell_type": "markdown",
      "source": [
        "**Selecting necessary columns only**"
      ],
      "metadata": {
        "id": "M-ZFU0Ib2kcP"
      }
    },
    {
      "cell_type": "code",
      "source": [
        "df = df[['iyear','imonth','iday','country_txt','provstate','region_txt','latitude','longitude','city','latitude','longitude','attacktype1_txt','nkill', 'nwound','gname','target1','targtype1_txt','weaptype1_txt']]\n",
        "df.head(10)"
      ],
      "metadata": {
        "colab": {
          "base_uri": "https://localhost:8080/",
          "height": 809
        },
        "id": "jPZ9y1wi2UFO",
        "outputId": "1d628079-3686-4579-e74e-fff3f46a25cb"
      },
      "execution_count": 39,
      "outputs": [
        {
          "output_type": "execute_result",
          "data": {
            "text/plain": [
              "   iyear  imonth  iday         country_txt   provstate  \\\n",
              "0   1970       7     2  Dominican Republic         NaN   \n",
              "1   1970       0     0              Mexico     Federal   \n",
              "2   1970       1     0         Philippines      Tarlac   \n",
              "3   1970       1     0              Greece      Attica   \n",
              "4   1970       1     0               Japan     Fukouka   \n",
              "5   1970       1     1       United States    Illinois   \n",
              "6   1970       1     2             Uruguay  Montevideo   \n",
              "7   1970       1     2       United States  California   \n",
              "8   1970       1     2       United States   Wisconsin   \n",
              "9   1970       1     3       United States   Wisconsin   \n",
              "\n",
              "                    region_txt   latitude   longitude           city  \\\n",
              "0  Central America & Caribbean  18.456792  -69.951164  Santo Domingo   \n",
              "1                North America  19.371887  -99.086624    Mexico city   \n",
              "2               Southeast Asia  15.478598  120.599741        Unknown   \n",
              "3               Western Europe  37.997490   23.762728         Athens   \n",
              "4                    East Asia  33.580412  130.396361        Fukouka   \n",
              "5                North America  37.005105  -89.176269          Cairo   \n",
              "6                South America -34.891151  -56.187214     Montevideo   \n",
              "7                North America  37.791927 -122.225906        Oakland   \n",
              "8                North America  43.076592  -89.412488        Madison   \n",
              "9                North America  43.072950  -89.386694        Madison   \n",
              "\n",
              "    latitude   longitude                 attacktype1_txt  nkill  nwound  \\\n",
              "0  18.456792  -69.951164                   Assassination    1.0     0.0   \n",
              "1  19.371887  -99.086624     Hostage Taking (Kidnapping)    0.0     0.0   \n",
              "2  15.478598  120.599741                   Assassination    1.0     0.0   \n",
              "3  37.997490   23.762728               Bombing/Explosion    NaN     NaN   \n",
              "4  33.580412  130.396361  Facility/Infrastructure Attack    NaN     NaN   \n",
              "5  37.005105  -89.176269                   Armed Assault    0.0     0.0   \n",
              "6 -34.891151  -56.187214                   Assassination    0.0     0.0   \n",
              "7  37.791927 -122.225906               Bombing/Explosion    0.0     0.0   \n",
              "8  43.076592  -89.412488  Facility/Infrastructure Attack    0.0     0.0   \n",
              "9  43.072950  -89.386694  Facility/Infrastructure Attack    0.0     0.0   \n",
              "\n",
              "                                gname  \\\n",
              "0                              MANO-D   \n",
              "1  23rd of September Communist League   \n",
              "2                             Unknown   \n",
              "3                             Unknown   \n",
              "4                             Unknown   \n",
              "5                  Black Nationalists   \n",
              "6                 Tupamaros (Uruguay)   \n",
              "7                             Unknown   \n",
              "8                     New Year's Gang   \n",
              "9                     New Year's Gang   \n",
              "\n",
              "                                             target1  \\\n",
              "0                                       Julio Guzman   \n",
              "1                            Nadine Chaval, daughter   \n",
              "2                                           Employee   \n",
              "3                                       U.S. Embassy   \n",
              "4                                     U.S. Consulate   \n",
              "5                          Cairo Police Headquarters   \n",
              "6  Juan Maria de Lucah/Chief of Directorate of in...   \n",
              "7                                    Edes Substation   \n",
              "8  R.O.T.C. offices at University of Wisconsin, M...   \n",
              "9  Selective Service Headquarters in Madison Wisc...   \n",
              "\n",
              "                 targtype1_txt weaptype1_txt  \n",
              "0  Private Citizens & Property       Unknown  \n",
              "1      Government (Diplomatic)       Unknown  \n",
              "2          Journalists & Media       Unknown  \n",
              "3      Government (Diplomatic)    Explosives  \n",
              "4      Government (Diplomatic)    Incendiary  \n",
              "5                       Police      Firearms  \n",
              "6                       Police      Firearms  \n",
              "7                    Utilities    Explosives  \n",
              "8                     Military    Incendiary  \n",
              "9         Government (General)    Incendiary  "
            ],
            "text/html": [
              "\n",
              "  <div id=\"df-595d6e5d-9026-4d36-a1e0-7f84a051d606\">\n",
              "    <div class=\"colab-df-container\">\n",
              "      <div>\n",
              "<style scoped>\n",
              "    .dataframe tbody tr th:only-of-type {\n",
              "        vertical-align: middle;\n",
              "    }\n",
              "\n",
              "    .dataframe tbody tr th {\n",
              "        vertical-align: top;\n",
              "    }\n",
              "\n",
              "    .dataframe thead th {\n",
              "        text-align: right;\n",
              "    }\n",
              "</style>\n",
              "<table border=\"1\" class=\"dataframe\">\n",
              "  <thead>\n",
              "    <tr style=\"text-align: right;\">\n",
              "      <th></th>\n",
              "      <th>iyear</th>\n",
              "      <th>imonth</th>\n",
              "      <th>iday</th>\n",
              "      <th>country_txt</th>\n",
              "      <th>provstate</th>\n",
              "      <th>region_txt</th>\n",
              "      <th>latitude</th>\n",
              "      <th>longitude</th>\n",
              "      <th>city</th>\n",
              "      <th>latitude</th>\n",
              "      <th>longitude</th>\n",
              "      <th>attacktype1_txt</th>\n",
              "      <th>nkill</th>\n",
              "      <th>nwound</th>\n",
              "      <th>gname</th>\n",
              "      <th>target1</th>\n",
              "      <th>targtype1_txt</th>\n",
              "      <th>weaptype1_txt</th>\n",
              "    </tr>\n",
              "  </thead>\n",
              "  <tbody>\n",
              "    <tr>\n",
              "      <th>0</th>\n",
              "      <td>1970</td>\n",
              "      <td>7</td>\n",
              "      <td>2</td>\n",
              "      <td>Dominican Republic</td>\n",
              "      <td>NaN</td>\n",
              "      <td>Central America &amp; Caribbean</td>\n",
              "      <td>18.456792</td>\n",
              "      <td>-69.951164</td>\n",
              "      <td>Santo Domingo</td>\n",
              "      <td>18.456792</td>\n",
              "      <td>-69.951164</td>\n",
              "      <td>Assassination</td>\n",
              "      <td>1.0</td>\n",
              "      <td>0.0</td>\n",
              "      <td>MANO-D</td>\n",
              "      <td>Julio Guzman</td>\n",
              "      <td>Private Citizens &amp; Property</td>\n",
              "      <td>Unknown</td>\n",
              "    </tr>\n",
              "    <tr>\n",
              "      <th>1</th>\n",
              "      <td>1970</td>\n",
              "      <td>0</td>\n",
              "      <td>0</td>\n",
              "      <td>Mexico</td>\n",
              "      <td>Federal</td>\n",
              "      <td>North America</td>\n",
              "      <td>19.371887</td>\n",
              "      <td>-99.086624</td>\n",
              "      <td>Mexico city</td>\n",
              "      <td>19.371887</td>\n",
              "      <td>-99.086624</td>\n",
              "      <td>Hostage Taking (Kidnapping)</td>\n",
              "      <td>0.0</td>\n",
              "      <td>0.0</td>\n",
              "      <td>23rd of September Communist League</td>\n",
              "      <td>Nadine Chaval, daughter</td>\n",
              "      <td>Government (Diplomatic)</td>\n",
              "      <td>Unknown</td>\n",
              "    </tr>\n",
              "    <tr>\n",
              "      <th>2</th>\n",
              "      <td>1970</td>\n",
              "      <td>1</td>\n",
              "      <td>0</td>\n",
              "      <td>Philippines</td>\n",
              "      <td>Tarlac</td>\n",
              "      <td>Southeast Asia</td>\n",
              "      <td>15.478598</td>\n",
              "      <td>120.599741</td>\n",
              "      <td>Unknown</td>\n",
              "      <td>15.478598</td>\n",
              "      <td>120.599741</td>\n",
              "      <td>Assassination</td>\n",
              "      <td>1.0</td>\n",
              "      <td>0.0</td>\n",
              "      <td>Unknown</td>\n",
              "      <td>Employee</td>\n",
              "      <td>Journalists &amp; Media</td>\n",
              "      <td>Unknown</td>\n",
              "    </tr>\n",
              "    <tr>\n",
              "      <th>3</th>\n",
              "      <td>1970</td>\n",
              "      <td>1</td>\n",
              "      <td>0</td>\n",
              "      <td>Greece</td>\n",
              "      <td>Attica</td>\n",
              "      <td>Western Europe</td>\n",
              "      <td>37.997490</td>\n",
              "      <td>23.762728</td>\n",
              "      <td>Athens</td>\n",
              "      <td>37.997490</td>\n",
              "      <td>23.762728</td>\n",
              "      <td>Bombing/Explosion</td>\n",
              "      <td>NaN</td>\n",
              "      <td>NaN</td>\n",
              "      <td>Unknown</td>\n",
              "      <td>U.S. Embassy</td>\n",
              "      <td>Government (Diplomatic)</td>\n",
              "      <td>Explosives</td>\n",
              "    </tr>\n",
              "    <tr>\n",
              "      <th>4</th>\n",
              "      <td>1970</td>\n",
              "      <td>1</td>\n",
              "      <td>0</td>\n",
              "      <td>Japan</td>\n",
              "      <td>Fukouka</td>\n",
              "      <td>East Asia</td>\n",
              "      <td>33.580412</td>\n",
              "      <td>130.396361</td>\n",
              "      <td>Fukouka</td>\n",
              "      <td>33.580412</td>\n",
              "      <td>130.396361</td>\n",
              "      <td>Facility/Infrastructure Attack</td>\n",
              "      <td>NaN</td>\n",
              "      <td>NaN</td>\n",
              "      <td>Unknown</td>\n",
              "      <td>U.S. Consulate</td>\n",
              "      <td>Government (Diplomatic)</td>\n",
              "      <td>Incendiary</td>\n",
              "    </tr>\n",
              "    <tr>\n",
              "      <th>5</th>\n",
              "      <td>1970</td>\n",
              "      <td>1</td>\n",
              "      <td>1</td>\n",
              "      <td>United States</td>\n",
              "      <td>Illinois</td>\n",
              "      <td>North America</td>\n",
              "      <td>37.005105</td>\n",
              "      <td>-89.176269</td>\n",
              "      <td>Cairo</td>\n",
              "      <td>37.005105</td>\n",
              "      <td>-89.176269</td>\n",
              "      <td>Armed Assault</td>\n",
              "      <td>0.0</td>\n",
              "      <td>0.0</td>\n",
              "      <td>Black Nationalists</td>\n",
              "      <td>Cairo Police Headquarters</td>\n",
              "      <td>Police</td>\n",
              "      <td>Firearms</td>\n",
              "    </tr>\n",
              "    <tr>\n",
              "      <th>6</th>\n",
              "      <td>1970</td>\n",
              "      <td>1</td>\n",
              "      <td>2</td>\n",
              "      <td>Uruguay</td>\n",
              "      <td>Montevideo</td>\n",
              "      <td>South America</td>\n",
              "      <td>-34.891151</td>\n",
              "      <td>-56.187214</td>\n",
              "      <td>Montevideo</td>\n",
              "      <td>-34.891151</td>\n",
              "      <td>-56.187214</td>\n",
              "      <td>Assassination</td>\n",
              "      <td>0.0</td>\n",
              "      <td>0.0</td>\n",
              "      <td>Tupamaros (Uruguay)</td>\n",
              "      <td>Juan Maria de Lucah/Chief of Directorate of in...</td>\n",
              "      <td>Police</td>\n",
              "      <td>Firearms</td>\n",
              "    </tr>\n",
              "    <tr>\n",
              "      <th>7</th>\n",
              "      <td>1970</td>\n",
              "      <td>1</td>\n",
              "      <td>2</td>\n",
              "      <td>United States</td>\n",
              "      <td>California</td>\n",
              "      <td>North America</td>\n",
              "      <td>37.791927</td>\n",
              "      <td>-122.225906</td>\n",
              "      <td>Oakland</td>\n",
              "      <td>37.791927</td>\n",
              "      <td>-122.225906</td>\n",
              "      <td>Bombing/Explosion</td>\n",
              "      <td>0.0</td>\n",
              "      <td>0.0</td>\n",
              "      <td>Unknown</td>\n",
              "      <td>Edes Substation</td>\n",
              "      <td>Utilities</td>\n",
              "      <td>Explosives</td>\n",
              "    </tr>\n",
              "    <tr>\n",
              "      <th>8</th>\n",
              "      <td>1970</td>\n",
              "      <td>1</td>\n",
              "      <td>2</td>\n",
              "      <td>United States</td>\n",
              "      <td>Wisconsin</td>\n",
              "      <td>North America</td>\n",
              "      <td>43.076592</td>\n",
              "      <td>-89.412488</td>\n",
              "      <td>Madison</td>\n",
              "      <td>43.076592</td>\n",
              "      <td>-89.412488</td>\n",
              "      <td>Facility/Infrastructure Attack</td>\n",
              "      <td>0.0</td>\n",
              "      <td>0.0</td>\n",
              "      <td>New Year's Gang</td>\n",
              "      <td>R.O.T.C. offices at University of Wisconsin, M...</td>\n",
              "      <td>Military</td>\n",
              "      <td>Incendiary</td>\n",
              "    </tr>\n",
              "    <tr>\n",
              "      <th>9</th>\n",
              "      <td>1970</td>\n",
              "      <td>1</td>\n",
              "      <td>3</td>\n",
              "      <td>United States</td>\n",
              "      <td>Wisconsin</td>\n",
              "      <td>North America</td>\n",
              "      <td>43.072950</td>\n",
              "      <td>-89.386694</td>\n",
              "      <td>Madison</td>\n",
              "      <td>43.072950</td>\n",
              "      <td>-89.386694</td>\n",
              "      <td>Facility/Infrastructure Attack</td>\n",
              "      <td>0.0</td>\n",
              "      <td>0.0</td>\n",
              "      <td>New Year's Gang</td>\n",
              "      <td>Selective Service Headquarters in Madison Wisc...</td>\n",
              "      <td>Government (General)</td>\n",
              "      <td>Incendiary</td>\n",
              "    </tr>\n",
              "  </tbody>\n",
              "</table>\n",
              "</div>\n",
              "      <button class=\"colab-df-convert\" onclick=\"convertToInteractive('df-595d6e5d-9026-4d36-a1e0-7f84a051d606')\"\n",
              "              title=\"Convert this dataframe to an interactive table.\"\n",
              "              style=\"display:none;\">\n",
              "        \n",
              "  <svg xmlns=\"http://www.w3.org/2000/svg\" height=\"24px\"viewBox=\"0 0 24 24\"\n",
              "       width=\"24px\">\n",
              "    <path d=\"M0 0h24v24H0V0z\" fill=\"none\"/>\n",
              "    <path d=\"M18.56 5.44l.94 2.06.94-2.06 2.06-.94-2.06-.94-.94-2.06-.94 2.06-2.06.94zm-11 1L8.5 8.5l.94-2.06 2.06-.94-2.06-.94L8.5 2.5l-.94 2.06-2.06.94zm10 10l.94 2.06.94-2.06 2.06-.94-2.06-.94-.94-2.06-.94 2.06-2.06.94z\"/><path d=\"M17.41 7.96l-1.37-1.37c-.4-.4-.92-.59-1.43-.59-.52 0-1.04.2-1.43.59L10.3 9.45l-7.72 7.72c-.78.78-.78 2.05 0 2.83L4 21.41c.39.39.9.59 1.41.59.51 0 1.02-.2 1.41-.59l7.78-7.78 2.81-2.81c.8-.78.8-2.07 0-2.86zM5.41 20L4 18.59l7.72-7.72 1.47 1.35L5.41 20z\"/>\n",
              "  </svg>\n",
              "      </button>\n",
              "      \n",
              "  <style>\n",
              "    .colab-df-container {\n",
              "      display:flex;\n",
              "      flex-wrap:wrap;\n",
              "      gap: 12px;\n",
              "    }\n",
              "\n",
              "    .colab-df-convert {\n",
              "      background-color: #E8F0FE;\n",
              "      border: none;\n",
              "      border-radius: 50%;\n",
              "      cursor: pointer;\n",
              "      display: none;\n",
              "      fill: #1967D2;\n",
              "      height: 32px;\n",
              "      padding: 0 0 0 0;\n",
              "      width: 32px;\n",
              "    }\n",
              "\n",
              "    .colab-df-convert:hover {\n",
              "      background-color: #E2EBFA;\n",
              "      box-shadow: 0px 1px 2px rgba(60, 64, 67, 0.3), 0px 1px 3px 1px rgba(60, 64, 67, 0.15);\n",
              "      fill: #174EA6;\n",
              "    }\n",
              "\n",
              "    [theme=dark] .colab-df-convert {\n",
              "      background-color: #3B4455;\n",
              "      fill: #D2E3FC;\n",
              "    }\n",
              "\n",
              "    [theme=dark] .colab-df-convert:hover {\n",
              "      background-color: #434B5C;\n",
              "      box-shadow: 0px 1px 3px 1px rgba(0, 0, 0, 0.15);\n",
              "      filter: drop-shadow(0px 1px 2px rgba(0, 0, 0, 0.3));\n",
              "      fill: #FFFFFF;\n",
              "    }\n",
              "  </style>\n",
              "\n",
              "      <script>\n",
              "        const buttonEl =\n",
              "          document.querySelector('#df-595d6e5d-9026-4d36-a1e0-7f84a051d606 button.colab-df-convert');\n",
              "        buttonEl.style.display =\n",
              "          google.colab.kernel.accessAllowed ? 'block' : 'none';\n",
              "\n",
              "        async function convertToInteractive(key) {\n",
              "          const element = document.querySelector('#df-595d6e5d-9026-4d36-a1e0-7f84a051d606');\n",
              "          const dataTable =\n",
              "            await google.colab.kernel.invokeFunction('convertToInteractive',\n",
              "                                                     [key], {});\n",
              "          if (!dataTable) return;\n",
              "\n",
              "          const docLinkHtml = 'Like what you see? Visit the ' +\n",
              "            '<a target=\"_blank\" href=https://colab.research.google.com/notebooks/data_table.ipynb>data table notebook</a>'\n",
              "            + ' to learn more about interactive tables.';\n",
              "          element.innerHTML = '';\n",
              "          dataTable['output_type'] = 'display_data';\n",
              "          await google.colab.output.renderOutput(dataTable, element);\n",
              "          const docLink = document.createElement('div');\n",
              "          docLink.innerHTML = docLinkHtml;\n",
              "          element.appendChild(docLink);\n",
              "        }\n",
              "      </script>\n",
              "    </div>\n",
              "  </div>\n",
              "  "
            ]
          },
          "metadata": {},
          "execution_count": 39
        }
      ]
    },
    {
      "cell_type": "markdown",
      "source": [
        "**Renaming the columns**"
      ],
      "metadata": {
        "id": "NINaEHu529bQ"
      }
    },
    {
      "cell_type": "code",
      "source": [
        "df.rename(columns={'iyear':'Year',\n",
        "                   'imonth':'Month',\n",
        "                   'iday':'Day',\n",
        "                   'country_txt':'Country',\n",
        "                   'provstate':'State',\n",
        "                   'region_txt':'Region',\n",
        "                   'latitude':'Latitude',\n",
        "                   'longitude':'Longitude',\n",
        "                   'attacktype1_txt':'Attack_Type',\n",
        "                   'target1':'Target',\n",
        "                   'nkill':'Killed',\n",
        "                   'nwound':'Attacked',\n",
        "                   'gname':'Group',\n",
        "                   'targtype1_txt':'Target_Type',\n",
        "                   'weaptype1_txt':'Weapon_type',\n",
        "                   'latitude':'Latitude',\n",
        "                   'longitude':'Longitude',\n",
        "                   'target1':'Target',\n",
        "                   'city':'City'},inplace=True)\n",
        "df.head(10)"
      ],
      "metadata": {
        "colab": {
          "base_uri": "https://localhost:8080/",
          "height": 895
        },
        "id": "RxgayCeS23pR",
        "outputId": "b5f96341-b551-42b8-8674-7a68d05c982f"
      },
      "execution_count": 40,
      "outputs": [
        {
          "output_type": "stream",
          "name": "stderr",
          "text": [
            "/usr/local/lib/python3.7/dist-packages/pandas/core/frame.py:5047: SettingWithCopyWarning: \n",
            "A value is trying to be set on a copy of a slice from a DataFrame\n",
            "\n",
            "See the caveats in the documentation: https://pandas.pydata.org/pandas-docs/stable/user_guide/indexing.html#returning-a-view-versus-a-copy\n",
            "  errors=errors,\n"
          ]
        },
        {
          "output_type": "execute_result",
          "data": {
            "text/plain": [
              "   Year  Month  Day             Country       State  \\\n",
              "0  1970      7    2  Dominican Republic         NaN   \n",
              "1  1970      0    0              Mexico     Federal   \n",
              "2  1970      1    0         Philippines      Tarlac   \n",
              "3  1970      1    0              Greece      Attica   \n",
              "4  1970      1    0               Japan     Fukouka   \n",
              "5  1970      1    1       United States    Illinois   \n",
              "6  1970      1    2             Uruguay  Montevideo   \n",
              "7  1970      1    2       United States  California   \n",
              "8  1970      1    2       United States   Wisconsin   \n",
              "9  1970      1    3       United States   Wisconsin   \n",
              "\n",
              "                        Region   Latitude   Longitude           City  \\\n",
              "0  Central America & Caribbean  18.456792  -69.951164  Santo Domingo   \n",
              "1                North America  19.371887  -99.086624    Mexico city   \n",
              "2               Southeast Asia  15.478598  120.599741        Unknown   \n",
              "3               Western Europe  37.997490   23.762728         Athens   \n",
              "4                    East Asia  33.580412  130.396361        Fukouka   \n",
              "5                North America  37.005105  -89.176269          Cairo   \n",
              "6                South America -34.891151  -56.187214     Montevideo   \n",
              "7                North America  37.791927 -122.225906        Oakland   \n",
              "8                North America  43.076592  -89.412488        Madison   \n",
              "9                North America  43.072950  -89.386694        Madison   \n",
              "\n",
              "    Latitude   Longitude                     Attack_Type  Killed  Attacked  \\\n",
              "0  18.456792  -69.951164                   Assassination     1.0       0.0   \n",
              "1  19.371887  -99.086624     Hostage Taking (Kidnapping)     0.0       0.0   \n",
              "2  15.478598  120.599741                   Assassination     1.0       0.0   \n",
              "3  37.997490   23.762728               Bombing/Explosion     NaN       NaN   \n",
              "4  33.580412  130.396361  Facility/Infrastructure Attack     NaN       NaN   \n",
              "5  37.005105  -89.176269                   Armed Assault     0.0       0.0   \n",
              "6 -34.891151  -56.187214                   Assassination     0.0       0.0   \n",
              "7  37.791927 -122.225906               Bombing/Explosion     0.0       0.0   \n",
              "8  43.076592  -89.412488  Facility/Infrastructure Attack     0.0       0.0   \n",
              "9  43.072950  -89.386694  Facility/Infrastructure Attack     0.0       0.0   \n",
              "\n",
              "                                Group  \\\n",
              "0                              MANO-D   \n",
              "1  23rd of September Communist League   \n",
              "2                             Unknown   \n",
              "3                             Unknown   \n",
              "4                             Unknown   \n",
              "5                  Black Nationalists   \n",
              "6                 Tupamaros (Uruguay)   \n",
              "7                             Unknown   \n",
              "8                     New Year's Gang   \n",
              "9                     New Year's Gang   \n",
              "\n",
              "                                              Target  \\\n",
              "0                                       Julio Guzman   \n",
              "1                            Nadine Chaval, daughter   \n",
              "2                                           Employee   \n",
              "3                                       U.S. Embassy   \n",
              "4                                     U.S. Consulate   \n",
              "5                          Cairo Police Headquarters   \n",
              "6  Juan Maria de Lucah/Chief of Directorate of in...   \n",
              "7                                    Edes Substation   \n",
              "8  R.O.T.C. offices at University of Wisconsin, M...   \n",
              "9  Selective Service Headquarters in Madison Wisc...   \n",
              "\n",
              "                   Target_Type Weapon_type  \n",
              "0  Private Citizens & Property     Unknown  \n",
              "1      Government (Diplomatic)     Unknown  \n",
              "2          Journalists & Media     Unknown  \n",
              "3      Government (Diplomatic)  Explosives  \n",
              "4      Government (Diplomatic)  Incendiary  \n",
              "5                       Police    Firearms  \n",
              "6                       Police    Firearms  \n",
              "7                    Utilities  Explosives  \n",
              "8                     Military  Incendiary  \n",
              "9         Government (General)  Incendiary  "
            ],
            "text/html": [
              "\n",
              "  <div id=\"df-49f5b7de-6661-465e-8fe7-7f39002e67ad\">\n",
              "    <div class=\"colab-df-container\">\n",
              "      <div>\n",
              "<style scoped>\n",
              "    .dataframe tbody tr th:only-of-type {\n",
              "        vertical-align: middle;\n",
              "    }\n",
              "\n",
              "    .dataframe tbody tr th {\n",
              "        vertical-align: top;\n",
              "    }\n",
              "\n",
              "    .dataframe thead th {\n",
              "        text-align: right;\n",
              "    }\n",
              "</style>\n",
              "<table border=\"1\" class=\"dataframe\">\n",
              "  <thead>\n",
              "    <tr style=\"text-align: right;\">\n",
              "      <th></th>\n",
              "      <th>Year</th>\n",
              "      <th>Month</th>\n",
              "      <th>Day</th>\n",
              "      <th>Country</th>\n",
              "      <th>State</th>\n",
              "      <th>Region</th>\n",
              "      <th>Latitude</th>\n",
              "      <th>Longitude</th>\n",
              "      <th>City</th>\n",
              "      <th>Latitude</th>\n",
              "      <th>Longitude</th>\n",
              "      <th>Attack_Type</th>\n",
              "      <th>Killed</th>\n",
              "      <th>Attacked</th>\n",
              "      <th>Group</th>\n",
              "      <th>Target</th>\n",
              "      <th>Target_Type</th>\n",
              "      <th>Weapon_type</th>\n",
              "    </tr>\n",
              "  </thead>\n",
              "  <tbody>\n",
              "    <tr>\n",
              "      <th>0</th>\n",
              "      <td>1970</td>\n",
              "      <td>7</td>\n",
              "      <td>2</td>\n",
              "      <td>Dominican Republic</td>\n",
              "      <td>NaN</td>\n",
              "      <td>Central America &amp; Caribbean</td>\n",
              "      <td>18.456792</td>\n",
              "      <td>-69.951164</td>\n",
              "      <td>Santo Domingo</td>\n",
              "      <td>18.456792</td>\n",
              "      <td>-69.951164</td>\n",
              "      <td>Assassination</td>\n",
              "      <td>1.0</td>\n",
              "      <td>0.0</td>\n",
              "      <td>MANO-D</td>\n",
              "      <td>Julio Guzman</td>\n",
              "      <td>Private Citizens &amp; Property</td>\n",
              "      <td>Unknown</td>\n",
              "    </tr>\n",
              "    <tr>\n",
              "      <th>1</th>\n",
              "      <td>1970</td>\n",
              "      <td>0</td>\n",
              "      <td>0</td>\n",
              "      <td>Mexico</td>\n",
              "      <td>Federal</td>\n",
              "      <td>North America</td>\n",
              "      <td>19.371887</td>\n",
              "      <td>-99.086624</td>\n",
              "      <td>Mexico city</td>\n",
              "      <td>19.371887</td>\n",
              "      <td>-99.086624</td>\n",
              "      <td>Hostage Taking (Kidnapping)</td>\n",
              "      <td>0.0</td>\n",
              "      <td>0.0</td>\n",
              "      <td>23rd of September Communist League</td>\n",
              "      <td>Nadine Chaval, daughter</td>\n",
              "      <td>Government (Diplomatic)</td>\n",
              "      <td>Unknown</td>\n",
              "    </tr>\n",
              "    <tr>\n",
              "      <th>2</th>\n",
              "      <td>1970</td>\n",
              "      <td>1</td>\n",
              "      <td>0</td>\n",
              "      <td>Philippines</td>\n",
              "      <td>Tarlac</td>\n",
              "      <td>Southeast Asia</td>\n",
              "      <td>15.478598</td>\n",
              "      <td>120.599741</td>\n",
              "      <td>Unknown</td>\n",
              "      <td>15.478598</td>\n",
              "      <td>120.599741</td>\n",
              "      <td>Assassination</td>\n",
              "      <td>1.0</td>\n",
              "      <td>0.0</td>\n",
              "      <td>Unknown</td>\n",
              "      <td>Employee</td>\n",
              "      <td>Journalists &amp; Media</td>\n",
              "      <td>Unknown</td>\n",
              "    </tr>\n",
              "    <tr>\n",
              "      <th>3</th>\n",
              "      <td>1970</td>\n",
              "      <td>1</td>\n",
              "      <td>0</td>\n",
              "      <td>Greece</td>\n",
              "      <td>Attica</td>\n",
              "      <td>Western Europe</td>\n",
              "      <td>37.997490</td>\n",
              "      <td>23.762728</td>\n",
              "      <td>Athens</td>\n",
              "      <td>37.997490</td>\n",
              "      <td>23.762728</td>\n",
              "      <td>Bombing/Explosion</td>\n",
              "      <td>NaN</td>\n",
              "      <td>NaN</td>\n",
              "      <td>Unknown</td>\n",
              "      <td>U.S. Embassy</td>\n",
              "      <td>Government (Diplomatic)</td>\n",
              "      <td>Explosives</td>\n",
              "    </tr>\n",
              "    <tr>\n",
              "      <th>4</th>\n",
              "      <td>1970</td>\n",
              "      <td>1</td>\n",
              "      <td>0</td>\n",
              "      <td>Japan</td>\n",
              "      <td>Fukouka</td>\n",
              "      <td>East Asia</td>\n",
              "      <td>33.580412</td>\n",
              "      <td>130.396361</td>\n",
              "      <td>Fukouka</td>\n",
              "      <td>33.580412</td>\n",
              "      <td>130.396361</td>\n",
              "      <td>Facility/Infrastructure Attack</td>\n",
              "      <td>NaN</td>\n",
              "      <td>NaN</td>\n",
              "      <td>Unknown</td>\n",
              "      <td>U.S. Consulate</td>\n",
              "      <td>Government (Diplomatic)</td>\n",
              "      <td>Incendiary</td>\n",
              "    </tr>\n",
              "    <tr>\n",
              "      <th>5</th>\n",
              "      <td>1970</td>\n",
              "      <td>1</td>\n",
              "      <td>1</td>\n",
              "      <td>United States</td>\n",
              "      <td>Illinois</td>\n",
              "      <td>North America</td>\n",
              "      <td>37.005105</td>\n",
              "      <td>-89.176269</td>\n",
              "      <td>Cairo</td>\n",
              "      <td>37.005105</td>\n",
              "      <td>-89.176269</td>\n",
              "      <td>Armed Assault</td>\n",
              "      <td>0.0</td>\n",
              "      <td>0.0</td>\n",
              "      <td>Black Nationalists</td>\n",
              "      <td>Cairo Police Headquarters</td>\n",
              "      <td>Police</td>\n",
              "      <td>Firearms</td>\n",
              "    </tr>\n",
              "    <tr>\n",
              "      <th>6</th>\n",
              "      <td>1970</td>\n",
              "      <td>1</td>\n",
              "      <td>2</td>\n",
              "      <td>Uruguay</td>\n",
              "      <td>Montevideo</td>\n",
              "      <td>South America</td>\n",
              "      <td>-34.891151</td>\n",
              "      <td>-56.187214</td>\n",
              "      <td>Montevideo</td>\n",
              "      <td>-34.891151</td>\n",
              "      <td>-56.187214</td>\n",
              "      <td>Assassination</td>\n",
              "      <td>0.0</td>\n",
              "      <td>0.0</td>\n",
              "      <td>Tupamaros (Uruguay)</td>\n",
              "      <td>Juan Maria de Lucah/Chief of Directorate of in...</td>\n",
              "      <td>Police</td>\n",
              "      <td>Firearms</td>\n",
              "    </tr>\n",
              "    <tr>\n",
              "      <th>7</th>\n",
              "      <td>1970</td>\n",
              "      <td>1</td>\n",
              "      <td>2</td>\n",
              "      <td>United States</td>\n",
              "      <td>California</td>\n",
              "      <td>North America</td>\n",
              "      <td>37.791927</td>\n",
              "      <td>-122.225906</td>\n",
              "      <td>Oakland</td>\n",
              "      <td>37.791927</td>\n",
              "      <td>-122.225906</td>\n",
              "      <td>Bombing/Explosion</td>\n",
              "      <td>0.0</td>\n",
              "      <td>0.0</td>\n",
              "      <td>Unknown</td>\n",
              "      <td>Edes Substation</td>\n",
              "      <td>Utilities</td>\n",
              "      <td>Explosives</td>\n",
              "    </tr>\n",
              "    <tr>\n",
              "      <th>8</th>\n",
              "      <td>1970</td>\n",
              "      <td>1</td>\n",
              "      <td>2</td>\n",
              "      <td>United States</td>\n",
              "      <td>Wisconsin</td>\n",
              "      <td>North America</td>\n",
              "      <td>43.076592</td>\n",
              "      <td>-89.412488</td>\n",
              "      <td>Madison</td>\n",
              "      <td>43.076592</td>\n",
              "      <td>-89.412488</td>\n",
              "      <td>Facility/Infrastructure Attack</td>\n",
              "      <td>0.0</td>\n",
              "      <td>0.0</td>\n",
              "      <td>New Year's Gang</td>\n",
              "      <td>R.O.T.C. offices at University of Wisconsin, M...</td>\n",
              "      <td>Military</td>\n",
              "      <td>Incendiary</td>\n",
              "    </tr>\n",
              "    <tr>\n",
              "      <th>9</th>\n",
              "      <td>1970</td>\n",
              "      <td>1</td>\n",
              "      <td>3</td>\n",
              "      <td>United States</td>\n",
              "      <td>Wisconsin</td>\n",
              "      <td>North America</td>\n",
              "      <td>43.072950</td>\n",
              "      <td>-89.386694</td>\n",
              "      <td>Madison</td>\n",
              "      <td>43.072950</td>\n",
              "      <td>-89.386694</td>\n",
              "      <td>Facility/Infrastructure Attack</td>\n",
              "      <td>0.0</td>\n",
              "      <td>0.0</td>\n",
              "      <td>New Year's Gang</td>\n",
              "      <td>Selective Service Headquarters in Madison Wisc...</td>\n",
              "      <td>Government (General)</td>\n",
              "      <td>Incendiary</td>\n",
              "    </tr>\n",
              "  </tbody>\n",
              "</table>\n",
              "</div>\n",
              "      <button class=\"colab-df-convert\" onclick=\"convertToInteractive('df-49f5b7de-6661-465e-8fe7-7f39002e67ad')\"\n",
              "              title=\"Convert this dataframe to an interactive table.\"\n",
              "              style=\"display:none;\">\n",
              "        \n",
              "  <svg xmlns=\"http://www.w3.org/2000/svg\" height=\"24px\"viewBox=\"0 0 24 24\"\n",
              "       width=\"24px\">\n",
              "    <path d=\"M0 0h24v24H0V0z\" fill=\"none\"/>\n",
              "    <path d=\"M18.56 5.44l.94 2.06.94-2.06 2.06-.94-2.06-.94-.94-2.06-.94 2.06-2.06.94zm-11 1L8.5 8.5l.94-2.06 2.06-.94-2.06-.94L8.5 2.5l-.94 2.06-2.06.94zm10 10l.94 2.06.94-2.06 2.06-.94-2.06-.94-.94-2.06-.94 2.06-2.06.94z\"/><path d=\"M17.41 7.96l-1.37-1.37c-.4-.4-.92-.59-1.43-.59-.52 0-1.04.2-1.43.59L10.3 9.45l-7.72 7.72c-.78.78-.78 2.05 0 2.83L4 21.41c.39.39.9.59 1.41.59.51 0 1.02-.2 1.41-.59l7.78-7.78 2.81-2.81c.8-.78.8-2.07 0-2.86zM5.41 20L4 18.59l7.72-7.72 1.47 1.35L5.41 20z\"/>\n",
              "  </svg>\n",
              "      </button>\n",
              "      \n",
              "  <style>\n",
              "    .colab-df-container {\n",
              "      display:flex;\n",
              "      flex-wrap:wrap;\n",
              "      gap: 12px;\n",
              "    }\n",
              "\n",
              "    .colab-df-convert {\n",
              "      background-color: #E8F0FE;\n",
              "      border: none;\n",
              "      border-radius: 50%;\n",
              "      cursor: pointer;\n",
              "      display: none;\n",
              "      fill: #1967D2;\n",
              "      height: 32px;\n",
              "      padding: 0 0 0 0;\n",
              "      width: 32px;\n",
              "    }\n",
              "\n",
              "    .colab-df-convert:hover {\n",
              "      background-color: #E2EBFA;\n",
              "      box-shadow: 0px 1px 2px rgba(60, 64, 67, 0.3), 0px 1px 3px 1px rgba(60, 64, 67, 0.15);\n",
              "      fill: #174EA6;\n",
              "    }\n",
              "\n",
              "    [theme=dark] .colab-df-convert {\n",
              "      background-color: #3B4455;\n",
              "      fill: #D2E3FC;\n",
              "    }\n",
              "\n",
              "    [theme=dark] .colab-df-convert:hover {\n",
              "      background-color: #434B5C;\n",
              "      box-shadow: 0px 1px 3px 1px rgba(0, 0, 0, 0.15);\n",
              "      filter: drop-shadow(0px 1px 2px rgba(0, 0, 0, 0.3));\n",
              "      fill: #FFFFFF;\n",
              "    }\n",
              "  </style>\n",
              "\n",
              "      <script>\n",
              "        const buttonEl =\n",
              "          document.querySelector('#df-49f5b7de-6661-465e-8fe7-7f39002e67ad button.colab-df-convert');\n",
              "        buttonEl.style.display =\n",
              "          google.colab.kernel.accessAllowed ? 'block' : 'none';\n",
              "\n",
              "        async function convertToInteractive(key) {\n",
              "          const element = document.querySelector('#df-49f5b7de-6661-465e-8fe7-7f39002e67ad');\n",
              "          const dataTable =\n",
              "            await google.colab.kernel.invokeFunction('convertToInteractive',\n",
              "                                                     [key], {});\n",
              "          if (!dataTable) return;\n",
              "\n",
              "          const docLinkHtml = 'Like what you see? Visit the ' +\n",
              "            '<a target=\"_blank\" href=https://colab.research.google.com/notebooks/data_table.ipynb>data table notebook</a>'\n",
              "            + ' to learn more about interactive tables.';\n",
              "          element.innerHTML = '';\n",
              "          dataTable['output_type'] = 'display_data';\n",
              "          await google.colab.output.renderOutput(dataTable, element);\n",
              "          const docLink = document.createElement('div');\n",
              "          docLink.innerHTML = docLinkHtml;\n",
              "          element.appendChild(docLink);\n",
              "        }\n",
              "      </script>\n",
              "    </div>\n",
              "  </div>\n",
              "  "
            ]
          },
          "metadata": {},
          "execution_count": 40
        }
      ]
    },
    {
      "cell_type": "markdown",
      "source": [
        "**Again, checking the % of missing values**"
      ],
      "metadata": {
        "id": "SB0gGAaH3JF3"
      }
    },
    {
      "cell_type": "code",
      "source": [
        "missing_values = (((df.isnull().sum()).sum())/df.size)*100\n",
        "missing_values"
      ],
      "metadata": {
        "colab": {
          "base_uri": "https://localhost:8080/"
        },
        "id": "FBlnXR5z3Ecp",
        "outputId": "9402f947-8b97-4809-a843-2a720eb6e8fa"
      },
      "execution_count": 41,
      "outputs": [
        {
          "output_type": "execute_result",
          "data": {
            "text/plain": [
              "1.4169661678344"
            ]
          },
          "metadata": {},
          "execution_count": 41
        }
      ]
    },
    {
      "cell_type": "markdown",
      "source": [
        "**Now the Dataset is ready to be worked on as the Null Values are only ~ 1.2% of the total dataset**"
      ],
      "metadata": {
        "id": "sUF1TOUi3ULa"
      }
    },
    {
      "cell_type": "markdown",
      "source": [
        "**Finding unique numbers in each column**"
      ],
      "metadata": {
        "id": "3__NYJSQ3fpW"
      }
    },
    {
      "cell_type": "code",
      "source": [
        "for i in df.columns:\n",
        "    print(i, df[i].nunique())"
      ],
      "metadata": {
        "colab": {
          "base_uri": "https://localhost:8080/"
        },
        "id": "69ebfUiK3PMD",
        "outputId": "62ac87e6-0bba-425d-e5c6-c8dbc26a06fa"
      },
      "execution_count": 42,
      "outputs": [
        {
          "output_type": "stream",
          "name": "stdout",
          "text": [
            "Year 47\n",
            "Month 13\n",
            "Day 32\n",
            "Country 205\n",
            "State 2855\n",
            "Region 12\n",
            "Latitude Latitude    48322\n",
            "Latitude    48322\n",
            "dtype: int64\n",
            "Longitude Longitude    48039\n",
            "Longitude    48039\n",
            "dtype: int64\n",
            "City 36674\n",
            "Latitude Latitude    48322\n",
            "Latitude    48322\n",
            "dtype: int64\n",
            "Longitude Longitude    48039\n",
            "Longitude    48039\n",
            "dtype: int64\n",
            "Attack_Type 9\n",
            "Killed 205\n",
            "Attacked 238\n",
            "Group 3537\n",
            "Target 86006\n",
            "Target_Type 22\n",
            "Weapon_type 12\n"
          ]
        }
      ]
    },
    {
      "cell_type": "code",
      "source": [
        "df.info()"
      ],
      "metadata": {
        "colab": {
          "base_uri": "https://localhost:8080/"
        },
        "id": "nakfI5nX3kPk",
        "outputId": "da608751-f9d7-4f01-b962-1262b94f1abb"
      },
      "execution_count": 43,
      "outputs": [
        {
          "output_type": "stream",
          "name": "stdout",
          "text": [
            "<class 'pandas.core.frame.DataFrame'>\n",
            "RangeIndex: 181691 entries, 0 to 181690\n",
            "Data columns (total 18 columns):\n",
            " #   Column       Non-Null Count   Dtype  \n",
            "---  ------       --------------   -----  \n",
            " 0   Year         181691 non-null  int64  \n",
            " 1   Month        181691 non-null  int64  \n",
            " 2   Day          181691 non-null  int64  \n",
            " 3   Country      181691 non-null  object \n",
            " 4   State        181270 non-null  object \n",
            " 5   Region       181691 non-null  object \n",
            " 6   Latitude     177135 non-null  float64\n",
            " 7   Longitude    177134 non-null  float64\n",
            " 8   City         181257 non-null  object \n",
            " 9   Latitude     177135 non-null  float64\n",
            " 10  Longitude    177134 non-null  float64\n",
            " 11  Attack_Type  181691 non-null  object \n",
            " 12  Killed       171378 non-null  float64\n",
            " 13  Attacked     165380 non-null  float64\n",
            " 14  Group        181691 non-null  object \n",
            " 15  Target       181055 non-null  object \n",
            " 16  Target_Type  181691 non-null  object \n",
            " 17  Weapon_type  181691 non-null  object \n",
            "dtypes: float64(6), int64(3), object(9)\n",
            "memory usage: 25.0+ MB\n"
          ]
        }
      ]
    },
    {
      "cell_type": "markdown",
      "source": [
        "*From the above information we found that the numbers in Killed and Wounded are missing\n",
        "Hence we'll fill the mean of 'Wounded' and 'Killed' in those places*"
      ],
      "metadata": {
        "id": "2pANMqdk3up2"
      }
    },
    {
      "cell_type": "markdown",
      "source": [
        "**Note : We can also fill 0 \"Zero\"**"
      ],
      "metadata": {
        "id": "20dw0ke031Te"
      }
    },
    {
      "cell_type": "code",
      "source": [
        "df['Attacked'] = df['Attacked'].fillna(df['Attacked'].mean()).astype(int)\n",
        "df['Killed'] = df['Killed'].fillna(df['Killed'].mean()).astype(int)"
      ],
      "metadata": {
        "id": "GRZoMFNN3nKn"
      },
      "execution_count": 44,
      "outputs": []
    },
    {
      "cell_type": "markdown",
      "source": [
        "**Getting to know the new DataFrame**"
      ],
      "metadata": {
        "id": "J1YNmdY64AG7"
      }
    },
    {
      "cell_type": "code",
      "source": [
        "df.info()"
      ],
      "metadata": {
        "colab": {
          "base_uri": "https://localhost:8080/"
        },
        "id": "Rf3jHbLj368h",
        "outputId": "ab4e2726-d630-44fc-c9d6-d925fd4829da"
      },
      "execution_count": 45,
      "outputs": [
        {
          "output_type": "stream",
          "name": "stdout",
          "text": [
            "<class 'pandas.core.frame.DataFrame'>\n",
            "RangeIndex: 181691 entries, 0 to 181690\n",
            "Data columns (total 18 columns):\n",
            " #   Column       Non-Null Count   Dtype  \n",
            "---  ------       --------------   -----  \n",
            " 0   Year         181691 non-null  int64  \n",
            " 1   Month        181691 non-null  int64  \n",
            " 2   Day          181691 non-null  int64  \n",
            " 3   Country      181691 non-null  object \n",
            " 4   State        181270 non-null  object \n",
            " 5   Region       181691 non-null  object \n",
            " 6   Latitude     177135 non-null  float64\n",
            " 7   Longitude    177134 non-null  float64\n",
            " 8   City         181257 non-null  object \n",
            " 9   Latitude     177135 non-null  float64\n",
            " 10  Longitude    177134 non-null  float64\n",
            " 11  Attack_Type  181691 non-null  object \n",
            " 12  Killed       181691 non-null  int64  \n",
            " 13  Attacked     181691 non-null  int64  \n",
            " 14  Group        181691 non-null  object \n",
            " 15  Target       181055 non-null  object \n",
            " 16  Target_Type  181691 non-null  object \n",
            " 17  Weapon_type  181691 non-null  object \n",
            "dtypes: float64(4), int64(5), object(9)\n",
            "memory usage: 25.0+ MB\n"
          ]
        }
      ]
    },
    {
      "cell_type": "markdown",
      "source": [
        " **1-The Attack**\n",
        "- Count of different types of attacks"
      ],
      "metadata": {
        "id": "1MjGstPk4JKj"
      }
    },
    {
      "cell_type": "code",
      "source": [
        "df['Attack_Type'].value_counts() "
      ],
      "metadata": {
        "colab": {
          "base_uri": "https://localhost:8080/"
        },
        "id": "i1pSIET74FaC",
        "outputId": "12cda266-3355-4f24-aa64-39025fd770f7"
      },
      "execution_count": 46,
      "outputs": [
        {
          "output_type": "execute_result",
          "data": {
            "text/plain": [
              "Bombing/Explosion                      88255\n",
              "Armed Assault                          42669\n",
              "Assassination                          19312\n",
              "Hostage Taking (Kidnapping)            11158\n",
              "Facility/Infrastructure Attack         10356\n",
              "Unknown                                 7276\n",
              "Unarmed Assault                         1015\n",
              "Hostage Taking (Barricade Incident)      991\n",
              "Hijacking                                659\n",
              "Name: Attack_Type, dtype: int64"
            ]
          },
          "metadata": {},
          "execution_count": 46
        }
      ]
    },
    {
      "cell_type": "code",
      "source": [
        "plt.figure(figsize=(12,6))\n",
        "sns.barplot(x = df['Attack_Type'].value_counts().index, y = df['Attack_Type'].value_counts().values, palette='CMRmap')\n",
        "plt.title('Different Types of Attacks', fontsize=20, weight = 'bold')\n",
        "plt.xlabel('Type of Attack', fontsize=15)\n",
        "plt.ylabel('Count', fontsize=15)\n",
        "plt.xticks(rotation= 90)\n",
        "plt.show()"
      ],
      "metadata": {
        "colab": {
          "base_uri": "https://localhost:8080/",
          "height": 583
        },
        "id": "wyDAfCZB4flH",
        "outputId": "ad993d65-b8a9-4e36-ed3a-326ab9dc974c"
      },
      "execution_count": 47,
      "outputs": [
        {
          "output_type": "display_data",
          "data": {
            "text/plain": [
              "<Figure size 864x432 with 1 Axes>"
            ],
            "image/png": "[encoded data removed]"
          },
          "metadata": {
            "needs_background": "light"
          }
        }
      ]
    },
    {
      "cell_type": "markdown",
      "source": [
        "**Inference**\n",
        "Top three type of attack is BOMBING/EXPLOSION,ARMED ASSAULT,ASSASSINATION"
      ],
      "metadata": {
        "id": "xuAoasE4mwY4"
      }
    },
    {
      "cell_type": "markdown",
      "source": [
        "**- % of count of different types of attacks**"
      ],
      "metadata": {
        "id": "WFNdq5fW4ztK"
      }
    },
    {
      "cell_type": "code",
      "source": [
        "perc_Attack_Types = (df['Attack_Type'].value_counts()/df.shape[0])*100\n",
        "perc_Attack_Types"
      ],
      "metadata": {
        "colab": {
          "base_uri": "https://localhost:8080/"
        },
        "id": "6QHEpBBn4uQt",
        "outputId": "71a8599c-85e8-41e4-8128-caa4481d37a8"
      },
      "execution_count": 48,
      "outputs": [
        {
          "output_type": "execute_result",
          "data": {
            "text/plain": [
              "Bombing/Explosion                      48.574228\n",
              "Armed Assault                          23.484377\n",
              "Assassination                          10.629035\n",
              "Hostage Taking (Kidnapping)             6.141196\n",
              "Facility/Infrastructure Attack          5.699787\n",
              "Unknown                                 4.004601\n",
              "Unarmed Assault                         0.558641\n",
              "Hostage Taking (Barricade Incident)     0.545432\n",
              "Hijacking                               0.362704\n",
              "Name: Attack_Type, dtype: float64"
            ]
          },
          "metadata": {},
          "execution_count": 48
        }
      ]
    },
    {
      "cell_type": "code",
      "source": [
        "mylabels = df['Attack_Type'].value_counts().index\n",
        "myexplode = (0.05,0.05,0,0,0,0,0,0,0)\n",
        "\n",
        "plt.figure(figsize = (12,12))\n",
        "plt.pie(perc_Attack_Types, explode=myexplode, labels=mylabels, autopct='%0.1f%%', shadow=False)\n",
        "#plt.legend()\n",
        "plt.title('Attack Types Percentage', fontsize=20, weight = 'bold')\n",
        "plt.show()"
      ],
      "metadata": {
        "colab": {
          "base_uri": "https://localhost:8080/",
          "height": 704
        },
        "id": "c40wAvk-44uM",
        "outputId": "d1536916-bfae-467c-a659-35a21a0b6196"
      },
      "execution_count": 49,
      "outputs": [
        {
          "output_type": "display_data",
          "data": {
            "text/plain": [
              "<Figure size 864x864 with 1 Axes>"
            ],
            "image/png": "[encoded data removed]"
          },
          "metadata": {}
        }
      ]
    },
    {
      "cell_type": "markdown",
      "source": [
        "**Inference**"
      ],
      "metadata": {
        "id": "I58h6VvEnbrL"
      }
    },
    {
      "cell_type": "markdown",
      "source": [
        "**Top 5 types of attacks in %**"
      ],
      "metadata": {
        "id": "ScG5qxlr5C2h"
      }
    },
    {
      "cell_type": "markdown",
      "source": [
        "1-Bombing/Explosion 48.6%\n",
        "\n",
        "2-Armed Assault 23.5%\n",
        "\n",
        "3-Assassination 10.6%\n",
        "\n",
        "4-Hostage Taking (Kidnapping) and 6.1%\n",
        "\n",
        "5-Facility/Infrastructure Attack 5.7%\n",
        "\n"
      ],
      "metadata": {
        "id": "3SvM3opN59sB"
      }
    },
    {
      "cell_type": "markdown",
      "source": [
        "**2. The Countries and The States**\n",
        "- Top 15 Countries with most attacks"
      ],
      "metadata": {
        "id": "ZSYMvPes4gkl"
      }
    },
    {
      "cell_type": "code",
      "source": [
        "df.Country.value_counts()[:15]"
      ],
      "metadata": {
        "id": "pB87brlK48Vu",
        "colab": {
          "base_uri": "https://localhost:8080/"
        },
        "outputId": "46f7173c-cf8b-4658-a74b-88d71fcdac3c"
      },
      "execution_count": 50,
      "outputs": [
        {
          "output_type": "execute_result",
          "data": {
            "text/plain": [
              "Iraq              24636\n",
              "Pakistan          14368\n",
              "Afghanistan       12731\n",
              "India             11960\n",
              "Colombia           8306\n",
              "Philippines        6908\n",
              "Peru               6096\n",
              "El Salvador        5320\n",
              "United Kingdom     5235\n",
              "Turkey             4292\n",
              "Somalia            4142\n",
              "Nigeria            3907\n",
              "Thailand           3849\n",
              "Yemen              3347\n",
              "Spain              3249\n",
              "Name: Country, dtype: int64"
            ]
          },
          "metadata": {},
          "execution_count": 50
        }
      ]
    },
    {
      "cell_type": "code",
      "source": [
        "plt.figure(figsize=(12,6))\n",
        "sns.barplot(x = df['Country'].value_counts()[:15].index, y = df['Country'].value_counts()[:15].values, palette='CMRmap')\n",
        "plt.title('Top 15 Countries Affected', fontsize=20, weight = 'bold')\n",
        "plt.xlabel('Country', fontsize=15)\n",
        "plt.ylabel('Count', fontsize=15)\n",
        "plt.xticks(rotation= 90)\n",
        "plt.show()"
      ],
      "metadata": {
        "colab": {
          "base_uri": "https://localhost:8080/",
          "height": 484
        },
        "id": "-_EDEa4l4yfk",
        "outputId": "d072eeba-22c5-4335-94d1-8c04b167d2e0"
      },
      "execution_count": 51,
      "outputs": [
        {
          "output_type": "display_data",
          "data": {
            "text/plain": [
              "<Figure size 864x432 with 1 Axes>"
            ],
            "image/png": "[encoded data removed]"
          },
          "metadata": {
            "needs_background": "light"
          }
        }
      ]
    },
    {
      "cell_type": "markdown",
      "source": [
        "**Inference**\n",
        "\n",
        "Iraq,Pakistan,Afganistan are most affected counrties"
      ],
      "metadata": {
        "id": "9kKHOXd45Y7t"
      }
    },
    {
      "cell_type": "code",
      "source": [
        "perc_Country = (df['Country'].value_counts()[:15]/df['Target_Type'].shape[0])*100\n",
        "perc_Country"
      ],
      "metadata": {
        "colab": {
          "base_uri": "https://localhost:8080/"
        },
        "id": "Yv0UhuSV5BSD",
        "outputId": "51fb65c9-8f5a-4a27-f445-070c01f139dc"
      },
      "execution_count": 52,
      "outputs": [
        {
          "output_type": "execute_result",
          "data": {
            "text/plain": [
              "Iraq              13.559285\n",
              "Pakistan           7.907932\n",
              "Afghanistan        7.006951\n",
              "India              6.582605\n",
              "Colombia           4.571498\n",
              "Philippines        3.802060\n",
              "Peru               3.355147\n",
              "El Salvador        2.928048\n",
              "United Kingdom     2.881265\n",
              "Turkey             2.362252\n",
              "Somalia            2.279695\n",
              "Nigeria            2.150354\n",
              "Thailand           2.118432\n",
              "Yemen              1.842139\n",
              "Spain              1.788201\n",
              "Name: Country, dtype: float64"
            ]
          },
          "metadata": {},
          "execution_count": 52
        }
      ]
    },
    {
      "cell_type": "code",
      "source": [
        "# Comparing No. of Attacks with Killings for top 15 countries\n",
        "\n",
        "attacked = df.Country.value_counts()[:15].to_frame()\n",
        "attacked.columns = ['Attacked']\n",
        "\n",
        "kills = df.groupby(['Country'])['Killed'].sum().sort_values(ascending =False).to_frame()\n",
        "attacked.merge(kills, how = 'left' , left_index = True, right_index = True ).plot.bar(width = 0.6 , color = sns.color_palette('CMRmap',2))\n",
        "fig=plt.gcf()\n",
        "fig.set_size_inches(20,16)\n",
        "plt.title(\"Attacks vs Kills in mostly attacked 15 countries\", fontsize = 20, weight = 'bold')\n",
        "plt.ylabel(\"Attacks vs Kills\", fontsize = 15)\n",
        "plt.xlabel(\"Country\", fontsize = 15)\n",
        "plt.show()"
      ],
      "metadata": {
        "colab": {
          "base_uri": "https://localhost:8080/",
          "height": 989
        },
        "id": "5xENMDuq5zye",
        "outputId": "b31ea221-757f-4225-be25-c42038965642"
      },
      "execution_count": 53,
      "outputs": [
        {
          "output_type": "display_data",
          "data": {
            "text/plain": [
              "<Figure size 1440x1152 with 1 Axes>"
            ],
            "image/png": "[encoded data removed]"
          },
          "metadata": {
            "needs_background": "light"
          }
        }
      ]
    },
    {
      "cell_type": "markdown",
      "source": [
        "**Top 5 countries attacked are :**\n",
        "\n",
        "1-Iraq\n",
        "\n",
        "2-Pakistan\n",
        "\n",
        "3-Afghanistan\n",
        "\n",
        "4-India\n",
        " \n",
        "5-Colombia"
      ],
      "metadata": {
        "id": "CnBwHV5D6AlK"
      }
    },
    {
      "cell_type": "markdown",
      "source": [
        "**Inference**\n",
        "most attack vs kill countries are IRAQ,PAKISTAN and followed by AFGANISTAN"
      ],
      "metadata": {
        "id": "WDlrUoWF0Nb3"
      }
    },
    {
      "cell_type": "markdown",
      "source": [
        "**Top 15 States with most attacks (Except Unknown)**"
      ],
      "metadata": {
        "id": "lSN0WzsO6pAq"
      }
    },
    {
      "cell_type": "code",
      "source": [
        "df.State.value_counts()[:16].drop('Unknown')"
      ],
      "metadata": {
        "colab": {
          "base_uri": "https://localhost:8080/"
        },
        "id": "nsgOKUqt55E5",
        "outputId": "2be2e9ba-fe52-4ad5-baad-ce16d5ec5cb2"
      },
      "execution_count": 54,
      "outputs": [
        {
          "output_type": "execute_result",
          "data": {
            "text/plain": [
              "Baghdad                                7645\n",
              "Northern Ireland                       4498\n",
              "Balochistan                            3710\n",
              "Saladin                                3411\n",
              "Al Anbar                               3299\n",
              "Nineveh                                3241\n",
              "Sindh                                  3206\n",
              "Khyber Pakhtunkhwa                     3084\n",
              "Diyala                                 3041\n",
              "Lima                                   2615\n",
              "Jammu and Kashmir                      2454\n",
              "Federally Administered Tribal Areas    2392\n",
              "San Salvador                           1923\n",
              "Antioquia                              1891\n",
              "Punjab                                 1778\n",
              "Name: State, dtype: int64"
            ]
          },
          "metadata": {},
          "execution_count": 54
        }
      ]
    },
    {
      "cell_type": "code",
      "source": [
        "plt.figure(figsize = (12,6))\n",
        "sns.barplot(x = df['State'].value_counts()[:16].drop('Unknown').index, y = df['State'].value_counts()[:16].drop('Unknown').values, palette='CMRmap') # or flare_r\n",
        "plt.title('Top 15 Most Attacked States',fontsize=20, weight = 'bold')\n",
        "plt.xlabel('States',fontsize=15)\n",
        "plt.ylabel('Number of Attacks',fontsize=15)\n",
        "plt.xticks(rotation=90)\n",
        "plt.show()\n",
        "#plt.gcf().set_size_inches(15, 5)"
      ],
      "metadata": {
        "colab": {
          "base_uri": "https://localhost:8080/",
          "height": 581
        },
        "id": "pWyx4jgb6zTf",
        "outputId": "d1d420ba-310f-4442-ab49-5a9a76a5aa2c"
      },
      "execution_count": 55,
      "outputs": [
        {
          "output_type": "display_data",
          "data": {
            "text/plain": [
              "<Figure size 864x432 with 1 Axes>"
            ],
            "image/png": "[encoded data removed]"
          },
          "metadata": {
            "needs_background": "light"
          }
        }
      ]
    },
    {
      "cell_type": "markdown",
      "source": [
        "**Most number of state attacked**"
      ],
      "metadata": {
        "id": "kAuqCo4j68Bt"
      }
    },
    {
      "cell_type": "code",
      "source": [
        "perc_State = (df['State'].value_counts()[:15].drop('Unknown')/df['Target_Type'].shape[0])*100\n",
        "perc_State"
      ],
      "metadata": {
        "colab": {
          "base_uri": "https://localhost:8080/"
        },
        "id": "LvAiIE_F62o8",
        "outputId": "77a3a7cf-95f5-498e-ade9-07036d5305a3"
      },
      "execution_count": 56,
      "outputs": [
        {
          "output_type": "execute_result",
          "data": {
            "text/plain": [
              "Baghdad                                4.207693\n",
              "Northern Ireland                       2.475632\n",
              "Balochistan                            2.041928\n",
              "Saladin                                1.877363\n",
              "Al Anbar                               1.815720\n",
              "Nineveh                                1.783798\n",
              "Sindh                                  1.764534\n",
              "Khyber Pakhtunkhwa                     1.697387\n",
              "Diyala                                 1.673721\n",
              "Lima                                   1.439257\n",
              "Jammu and Kashmir                      1.350645\n",
              "Federally Administered Tribal Areas    1.316521\n",
              "San Salvador                           1.058390\n",
              "Antioquia                              1.040778\n",
              "Name: State, dtype: float64"
            ]
          },
          "metadata": {},
          "execution_count": 56
        }
      ]
    },
    {
      "cell_type": "markdown",
      "source": [
        "**Top 5 states attacked are :**\n",
        "\n",
        "1-Baghdad\n",
        "\n",
        "2-Northern Ireland\n",
        "\n",
        "3-Balochistan\n",
        "\n",
        "4-Saladin\n",
        "\n",
        "5-Al Anbar"
      ],
      "metadata": {
        "id": "LI4DmSJtWoCG"
      }
    },
    {
      "cell_type": "markdown",
      "source": [
        "**Inference** BAGHDAD,NORTHERN IRELAND,BALOCHISTAN Are top three most number of attack states."
      ],
      "metadata": {
        "id": "_bqbXG380x9I"
      }
    },
    {
      "cell_type": "markdown",
      "source": [
        "3. The Targets"
      ],
      "metadata": {
        "id": "KLamltVcW8RO"
      }
    },
    {
      "cell_type": "markdown",
      "source": [
        "**Top 15 Types of Target (Except Unknown)**"
      ],
      "metadata": {
        "id": "RSZS6ZOQXBXF"
      }
    },
    {
      "cell_type": "code",
      "source": [
        "df['Target_Type'].value_counts()[:16].drop('Unknown')"
      ],
      "metadata": {
        "colab": {
          "base_uri": "https://localhost:8080/"
        },
        "id": "xg5_BdJTWcV1",
        "outputId": "d48ee049-b887-48be-dad6-39626fb620cc"
      },
      "execution_count": 57,
      "outputs": [
        {
          "output_type": "execute_result",
          "data": {
            "text/plain": [
              "Private Citizens & Property       43511\n",
              "Military                          27984\n",
              "Police                            24506\n",
              "Government (General)              21283\n",
              "Business                          20669\n",
              "Transportation                     6799\n",
              "Utilities                          6023\n",
              "Religious Figures/Institutions     4440\n",
              "Educational Institution            4322\n",
              "Government (Diplomatic)            3573\n",
              "Terrorists/Non-State Militia       3039\n",
              "Journalists & Media                2948\n",
              "Violent Political Party            1866\n",
              "Airports & Aircraft                1343\n",
              "Telecommunication                  1009\n",
              "Name: Target_Type, dtype: int64"
            ]
          },
          "metadata": {},
          "execution_count": 57
        }
      ]
    },
    {
      "cell_type": "code",
      "source": [
        "plt.figure(figsize=(12,6))\n",
        "sns.barplot(x = df['Target_Type'].value_counts()[:16].drop('Unknown').index, y= df['Target_Type'].value_counts()[:16].drop('Unknown').values, palette='CMRmap')\n",
        "plt.title('Top 15 Target Types', fontsize=20, weight = 'bold')\n",
        "plt.xlabel('Targets', fontsize=15)\n",
        "plt.ylabel('Count', fontsize=15)\n",
        "plt.xticks(rotation= 90)\n",
        "plt.show()"
      ],
      "metadata": {
        "colab": {
          "base_uri": "https://localhost:8080/",
          "height": 547
        },
        "id": "MLf3IinlXJJo",
        "outputId": "8c17145b-483d-4205-f4c6-100aa35144fe"
      },
      "execution_count": 58,
      "outputs": [
        {
          "output_type": "display_data",
          "data": {
            "text/plain": [
              "<Figure size 864x432 with 1 Axes>"
            ],
            "image/png": "[encoded data removed]"
          },
          "metadata": {
            "needs_background": "light"
          }
        }
      ]
    },
    {
      "cell_type": "markdown",
      "source": [
        "**distribution of the Top 15 Targets (Except Unknown)**"
      ],
      "metadata": {
        "id": "7oOPt4faXXfx"
      }
    },
    {
      "cell_type": "code",
      "source": [
        "perc_Target_Types = (df['Target_Type'].value_counts()[:16].drop('Unknown')/df['Target_Type'].shape[0])*100\n",
        "perc_Target_Types"
      ],
      "metadata": {
        "colab": {
          "base_uri": "https://localhost:8080/"
        },
        "id": "UCQgJSuQXNuO",
        "outputId": "d704f0b5-5ebf-4100-cc50-12d7ca7935a4"
      },
      "execution_count": 59,
      "outputs": [
        {
          "output_type": "execute_result",
          "data": {
            "text/plain": [
              "Private Citizens & Property       23.947801\n",
              "Military                          15.401974\n",
              "Police                            13.487735\n",
              "Government (General)              11.713844\n",
              "Business                          11.375907\n",
              "Transportation                     3.742068\n",
              "Utilities                          3.314969\n",
              "Religious Figures/Institutions     2.443709\n",
              "Educational Institution            2.378764\n",
              "Government (Diplomatic)            1.966526\n",
              "Terrorists/Non-State Militia       1.672620\n",
              "Journalists & Media                1.622535\n",
              "Violent Political Party            1.027018\n",
              "Airports & Aircraft                0.739167\n",
              "Telecommunication                  0.555338\n",
              "Name: Target_Type, dtype: float64"
            ]
          },
          "metadata": {},
          "execution_count": 59
        }
      ]
    },
    {
      "cell_type": "markdown",
      "source": [
        "**Top 5 target type are**\n",
        "\n",
        "1-Private Citizens & Property\n",
        "\n",
        "2-Military\n",
        "\n",
        "3-Police\n",
        "\n",
        "4-Government (General)\n",
        "\n",
        "5-Business"
      ],
      "metadata": {
        "id": "D3pmW6y_XkRb"
      }
    },
    {
      "cell_type": "markdown",
      "source": [
        "**Inference**mostly target PRIVATE CITIZENS & PROPERTY,MILITARY And followed by POLICE"
      ],
      "metadata": {
        "id": "QB9a7Ppk09No"
      }
    },
    {
      "cell_type": "markdown",
      "source": [
        "\n",
        "**4. The Region**\n",
        "- Regions with most attacks"
      ],
      "metadata": {
        "id": "xO9E8qRcXon6"
      }
    },
    {
      "cell_type": "code",
      "source": [
        "df['Region'].value_counts()"
      ],
      "metadata": {
        "colab": {
          "base_uri": "https://localhost:8080/"
        },
        "id": "R55MV15uXbBR",
        "outputId": "0a49a5f2-bb36-4883-8b64-d6bb1f9f7eef"
      },
      "execution_count": 60,
      "outputs": [
        {
          "output_type": "execute_result",
          "data": {
            "text/plain": [
              "Middle East & North Africa     50474\n",
              "South Asia                     44974\n",
              "South America                  18978\n",
              "Sub-Saharan Africa             17550\n",
              "Western Europe                 16639\n",
              "Southeast Asia                 12485\n",
              "Central America & Caribbean    10344\n",
              "Eastern Europe                  5144\n",
              "North America                   3456\n",
              "East Asia                        802\n",
              "Central Asia                     563\n",
              "Australasia & Oceania            282\n",
              "Name: Region, dtype: int64"
            ]
          },
          "metadata": {},
          "execution_count": 60
        }
      ]
    },
    {
      "cell_type": "code",
      "source": [
        "plt.figure(figsize = (12,6))\n",
        "sns.barplot(x = df['Region'].value_counts().index, y = df['Region'].value_counts().values, palette='CMRmap') # or flare_r\n",
        "plt.title('Most Attacked Regions',fontsize=20, weight = 'bold')\n",
        "plt.xlabel('Regions',fontsize=15)\n",
        "plt.ylabel('Number of Attacks',fontsize=15)\n",
        "plt.xticks(rotation=90)\n",
        "plt.show()"
      ],
      "metadata": {
        "colab": {
          "base_uri": "https://localhost:8080/",
          "height": 550
        },
        "id": "kdAJtsnnXrug",
        "outputId": "4573a758-a51b-413b-9df8-3ca889fbda37"
      },
      "execution_count": 61,
      "outputs": [
        {
          "output_type": "display_data",
          "data": {
            "text/plain": [
              "<Figure size 864x432 with 1 Axes>"
            ],
            "image/png": "[encoded data removed]"
          },
          "metadata": {
            "needs_background": "light"
          }
        }
      ]
    },
    {
      "cell_type": "markdown",
      "source": [
        "**Attacks with region**"
      ],
      "metadata": {
        "id": "MxyV1F7EXzd_"
      }
    },
    {
      "cell_type": "code",
      "source": [
        "perc_Attack_Region = (df['Region'].value_counts()/df['Region'].shape[0])*100\n",
        "perc_Attack_Region"
      ],
      "metadata": {
        "colab": {
          "base_uri": "https://localhost:8080/"
        },
        "id": "gD60ijZzXvEv",
        "outputId": "d4c6dbd1-4353-44d8-c19e-2f9dc1e0500e"
      },
      "execution_count": 62,
      "outputs": [
        {
          "output_type": "execute_result",
          "data": {
            "text/plain": [
              "Middle East & North Africa     27.780132\n",
              "South Asia                     24.753015\n",
              "South America                  10.445206\n",
              "Sub-Saharan Africa              9.659257\n",
              "Western Europe                  9.157856\n",
              "Southeast Asia                  6.871557\n",
              "Central America & Caribbean     5.693182\n",
              "Eastern Europe                  2.831180\n",
              "North America                   1.902131\n",
              "East Asia                       0.441409\n",
              "Central Asia                    0.309867\n",
              "Australasia & Oceania           0.155209\n",
              "Name: Region, dtype: float64"
            ]
          },
          "metadata": {},
          "execution_count": 62
        }
      ]
    },
    {
      "cell_type": "code",
      "source": [
        "mylabels = df['Region'].value_counts().index\n",
        "myexplode = (0.05,0.05,0.05,0,0,0,0,0,0,0.5,0.5,0.5)\n",
        "\n",
        "plt.figure(figsize = (12,12))\n",
        "plt.pie(perc_Attack_Region, labels=mylabels, explode=myexplode, autopct='%0.1f%%')\n",
        "#plt.legend()\n",
        "plt.title('Most attacked target %',fontsize=20, weight = 'bold')\n",
        "plt.show()"
      ],
      "metadata": {
        "colab": {
          "base_uri": "https://localhost:8080/",
          "height": 704
        },
        "id": "EIbt6QvvX3eH",
        "outputId": "b4aff9f5-276c-4881-cfb1-5b143b8665d0"
      },
      "execution_count": 63,
      "outputs": [
        {
          "output_type": "display_data",
          "data": {
            "text/plain": [
              "<Figure size 864x864 with 1 Axes>"
            ],
            "image/png": "[encoded data removed]"
          },
          "metadata": {}
        }
      ]
    },
    {
      "cell_type": "markdown",
      "source": [
        "**Top 5 attacked regions  are :**\n",
        "\n",
        "1-Middle East & North Africa-27.8%\n",
        "\n",
        "2-South Asia-24.8%\n",
        "\n",
        "3-South America-10.4%\n",
        "\n",
        "4-Sub-Saharan Africa-9.7%\n",
        "\n",
        "5-Western Europe-9.2%"
      ],
      "metadata": {
        "id": "YkQTUymoYAjy"
      }
    },
    {
      "cell_type": "markdown",
      "source": [
        "**Inference** Most attack region MIDDLE EAST & NORTH AFRICA,SOUTH ASIA,And followed by SOUTH AMERICA"
      ],
      "metadata": {
        "id": "xVA9pkJy2eCK"
      }
    },
    {
      "cell_type": "markdown",
      "source": [
        "**5.The weapons**\n",
        "- Top 5 weapons used"
      ],
      "metadata": {
        "id": "hAilBPlGYEp5"
      }
    },
    {
      "cell_type": "code",
      "source": [
        "df['Weapon_type'].value_counts().head(5)"
      ],
      "metadata": {
        "colab": {
          "base_uri": "https://localhost:8080/"
        },
        "id": "5Bq9AW6fX6Ux",
        "outputId": "292676f4-9bfb-4750-93b8-06e32e36982c"
      },
      "execution_count": 64,
      "outputs": [
        {
          "output_type": "execute_result",
          "data": {
            "text/plain": [
              "Explosives    92426\n",
              "Firearms      58524\n",
              "Unknown       15157\n",
              "Incendiary    11135\n",
              "Melee          3655\n",
              "Name: Weapon_type, dtype: int64"
            ]
          },
          "metadata": {},
          "execution_count": 64
        }
      ]
    },
    {
      "cell_type": "code",
      "source": [
        "plt.figure(figsize=(12,8))\n",
        "sns.barplot(x = df['Weapon_type'].value_counts().head(5).index,y = df['Weapon_type'].value_counts().head(5).values, palette='CMRmap')\n",
        "plt.title('Top 5 Weapons Types', fontsize=20, weight = 'bold')\n",
        "plt.xlabel('Weapon', fontsize=15)\n",
        "plt.ylabel('Count', fontsize=15)\n",
        "plt.xticks(rotation= 90)\n",
        "plt.show()"
      ],
      "metadata": {
        "colab": {
          "base_uri": "https://localhost:8080/",
          "height": 565
        },
        "id": "XQXmYEOEYI2l",
        "outputId": "c6669aa1-8919-4cc7-e5e6-0ad6f9c0d9c9"
      },
      "execution_count": 65,
      "outputs": [
        {
          "output_type": "display_data",
          "data": {
            "text/plain": [
              "<Figure size 864x576 with 1 Axes>"
            ],
            "image/png": "[encoded data removed]"
          },
          "metadata": {
            "needs_background": "light"
          }
        }
      ]
    },
    {
      "cell_type": "markdown",
      "source": [
        " **weapons used**"
      ],
      "metadata": {
        "id": "eOtQ6qLxYPo-"
      }
    },
    {
      "cell_type": "code",
      "source": [
        "perc_Weapon_Type = (df['Weapon_type'].value_counts()/df['Weapon_type'].shape[0])*100\n",
        "perc_Weapon_Type"
      ],
      "metadata": {
        "colab": {
          "base_uri": "https://localhost:8080/"
        },
        "id": "_6fCpzN2YMBV",
        "outputId": "06b5ad81-fe14-4af5-86ed-1b7b5df26d17"
      },
      "execution_count": 66,
      "outputs": [
        {
          "output_type": "execute_result",
          "data": {
            "text/plain": [
              "Explosives                                                                     50.869883\n",
              "Firearms                                                                       32.210731\n",
              "Unknown                                                                         8.342185\n",
              "Incendiary                                                                      6.128537\n",
              "Melee                                                                           2.011657\n",
              "Chemical                                                                        0.176674\n",
              "Sabotage Equipment                                                              0.077604\n",
              "Vehicle (not to include vehicle-borne explosives, i.e., car or truck bombs)     0.074852\n",
              "Other                                                                           0.062744\n",
              "Biological                                                                      0.019263\n",
              "Fake Weapons                                                                    0.018163\n",
              "Radiological                                                                    0.007705\n",
              "Name: Weapon_type, dtype: float64"
            ]
          },
          "metadata": {},
          "execution_count": 66
        }
      ]
    },
    {
      "cell_type": "markdown",
      "source": [
        "Since, The Chemical, Sabotage Equipment, Vehicle, Other, Biological, Fake Weapons, Radiological is less than 1, we will drop them while plotting"
      ],
      "metadata": {
        "id": "ajuIaOYUYYQG"
      }
    },
    {
      "cell_type": "code",
      "source": [
        "perc_Weapon_Type = (df['Weapon_type'].value_counts().head(5)/df['Weapon_type'].shape[0])*100\n",
        "perc_Weapon_Type"
      ],
      "metadata": {
        "colab": {
          "base_uri": "https://localhost:8080/"
        },
        "id": "f8rtW2nIYTml",
        "outputId": "5120d468-89ce-4c60-d5e3-4be773effdb7"
      },
      "execution_count": 67,
      "outputs": [
        {
          "output_type": "execute_result",
          "data": {
            "text/plain": [
              "Explosives    50.869883\n",
              "Firearms      32.210731\n",
              "Unknown        8.342185\n",
              "Incendiary     6.128537\n",
              "Melee          2.011657\n",
              "Name: Weapon_type, dtype: float64"
            ]
          },
          "metadata": {},
          "execution_count": 67
        }
      ]
    },
    {
      "cell_type": "code",
      "source": [
        "mylabels = df['Weapon_type'].value_counts().head(5).index\n",
        "myexplode = (0.01,0.01,0.01,0.01,0.01)\n",
        "\n",
        "plt.figure(figsize = (12,12))\n",
        "plt.pie(perc_Weapon_Type, labels=mylabels, explode=myexplode, autopct='%0.1f%%')\n",
        "#plt.legend()\n",
        "plt.title('Weapon Types',fontsize=25, weight = 'bold')\n",
        "plt.show()"
      ],
      "metadata": {
        "colab": {
          "base_uri": "https://localhost:8080/",
          "height": 708
        },
        "id": "8DwqlLWPYcJG",
        "outputId": "769a5187-1db0-4d3c-d261-51a0709cc5da"
      },
      "execution_count": 68,
      "outputs": [
        {
          "output_type": "display_data",
          "data": {
            "text/plain": [
              "<Figure size 864x864 with 1 Axes>"
            ],
            "image/png": "[encoded data removed]"
          },
          "metadata": {}
        }
      ]
    },
    {
      "cell_type": "markdown",
      "source": [
        "**Top 5 weapons used**\n",
        "\n",
        "1-Explosives\n",
        "\n",
        "2-Firearms\n",
        "\n",
        "3-Unknown\n",
        "\n",
        "4-Incendiary\n",
        "\n",
        "5-Mele"
      ],
      "metadata": {
        "id": "owS1DYQ6Yilx"
      }
    },
    {
      "cell_type": "markdown",
      "source": [
        "**Inference** EXPLOSIVES,FIREARMS And UNKNOWN Are most used weapons type."
      ],
      "metadata": {
        "id": "FI3sL0a52l0R"
      }
    },
    {
      "cell_type": "markdown",
      "source": [
        "**6. The attacking groups\n",
        "Top 15 most attacking groups (except unknown)**"
      ],
      "metadata": {
        "id": "QeO0k04KYmQf"
      }
    },
    {
      "cell_type": "code",
      "source": [
        "df['Group'].value_counts()[1:16]"
      ],
      "metadata": {
        "colab": {
          "base_uri": "https://localhost:8080/"
        },
        "id": "Q-cp7lz9YmCc",
        "outputId": "039a9bc1-d19f-498a-a67d-05c0e07edc69"
      },
      "execution_count": 69,
      "outputs": [
        {
          "output_type": "execute_result",
          "data": {
            "text/plain": [
              "Taliban                                             7478\n",
              "Islamic State of Iraq and the Levant (ISIL)         5613\n",
              "Shining Path (SL)                                   4555\n",
              "Farabundo Marti National Liberation Front (FMLN)    3351\n",
              "Al-Shabaab                                          3288\n",
              "New People's Army (NPA)                             2772\n",
              "Irish Republican Army (IRA)                         2671\n",
              "Revolutionary Armed Forces of Colombia (FARC)       2487\n",
              "Boko Haram                                          2418\n",
              "Kurdistan Workers' Party (PKK)                      2310\n",
              "Basque Fatherland and Freedom (ETA)                 2024\n",
              "Communist Party of India - Maoist (CPI-Maoist)      1878\n",
              "Maoists                                             1630\n",
              "Liberation Tigers of Tamil Eelam (LTTE)             1606\n",
              "National Liberation Army of Colombia (ELN)          1561\n",
              "Name: Group, dtype: int64"
            ]
          },
          "metadata": {},
          "execution_count": 69
        }
      ]
    },
    {
      "cell_type": "code",
      "source": [
        "plt.figure(figsize=(12,6))\n",
        "sns.barplot(x = df['Group'].value_counts()[1:16].index, y = df['Group'].value_counts()[1:16].values, palette='CMRmap')\n",
        "plt.title('Top 15 Attacking Groups (Except Unknown)', fontsize=20, weight = 'bold')\n",
        "plt.xlabel('Weapon', fontsize=15)\n",
        "plt.ylabel('Count', fontsize=15)\n",
        "plt.xticks(rotation= 90)\n",
        "plt.show()"
      ],
      "metadata": {
        "colab": {
          "base_uri": "https://localhost:8080/",
          "height": 650
        },
        "id": "pyQVH0S7Ye48",
        "outputId": "cdc248c3-77b1-4aae-f49a-f597a7d6e825"
      },
      "execution_count": 70,
      "outputs": [
        {
          "output_type": "display_data",
          "data": {
            "text/plain": [
              "<Figure size 864x432 with 1 Axes>"
            ],
            "image/png": "[encoded data removed]"
          },
          "metadata": {
            "needs_background": "light"
          }
        }
      ]
    },
    {
      "cell_type": "markdown",
      "source": [
        "**Top 15 most attacking groups (except unknown)**"
      ],
      "metadata": {
        "id": "OUyWdhBPYz6b"
      }
    },
    {
      "cell_type": "code",
      "source": [
        "perc_Group = (df['Group'].value_counts()[1:16]/df['Group'].shape[0])*100\n",
        "perc_Group"
      ],
      "metadata": {
        "colab": {
          "base_uri": "https://localhost:8080/"
        },
        "id": "xbrK8rlUYvsN",
        "outputId": "fce555bd-0c38-4bb7-9a97-016f812daba3"
      },
      "execution_count": 71,
      "outputs": [
        {
          "output_type": "execute_result",
          "data": {
            "text/plain": [
              "Taliban                                             4.115779\n",
              "Islamic State of Iraq and the Levant (ISIL)         3.089311\n",
              "Shining Path (SL)                                   2.507004\n",
              "Farabundo Marti National Liberation Front (FMLN)    1.844340\n",
              "Al-Shabaab                                          1.809666\n",
              "New People's Army (NPA)                             1.525667\n",
              "Irish Republican Army (IRA)                         1.470078\n",
              "Revolutionary Armed Forces of Colombia (FARC)       1.368807\n",
              "Boko Haram                                          1.330831\n",
              "Kurdistan Workers' Party (PKK)                      1.271389\n",
              "Basque Fatherland and Freedom (ETA)                 1.113979\n",
              "Communist Party of India - Maoist (CPI-Maoist)      1.033623\n",
              "Maoists                                             0.897128\n",
              "Liberation Tigers of Tamil Eelam (LTTE)             0.883918\n",
              "National Liberation Army of Colombia (ELN)          0.859151\n",
              "Name: Group, dtype: float64"
            ]
          },
          "metadata": {},
          "execution_count": 71
        }
      ]
    },
    {
      "cell_type": "code",
      "source": [
        "plt.figure(figsize=(12,8))\n",
        "sns.barplot(x = perc_Group.index, y = perc_Group.values, palette='CMRmap')\n",
        "plt.title('Target Types %', fontsize=20, weight = 'bold')\n",
        "plt.xlabel('Targets', fontsize=15)\n",
        "plt.ylabel('Count', fontsize=15)\n",
        "plt.xticks(rotation= 90)\n",
        "plt.show()"
      ],
      "metadata": {
        "colab": {
          "base_uri": "https://localhost:8080/",
          "height": 759
        },
        "id": "kSLY7jm0Y3lE",
        "outputId": "416be64e-ebb2-4f67-c0c3-12a2b919c044"
      },
      "execution_count": 72,
      "outputs": [
        {
          "output_type": "display_data",
          "data": {
            "text/plain": [
              "<Figure size 864x576 with 1 Axes>"
            ],
            "image/png": "[encoded data removed]"
          },
          "metadata": {
            "needs_background": "light"
          }
        }
      ]
    },
    {
      "cell_type": "markdown",
      "source": [
        "**Top 5 terrorist groups :**\n",
        "\n",
        "1-Taliban\n",
        "\n",
        "2-Islamic State of Iraq and the Levant (ISIL)\n",
        "\n",
        "3-Shining Path (SL)\n",
        "\n",
        "4-Farabundo Marti National Liberation Front (FMLN)\n",
        "\n",
        "5-Al-Shabaab"
      ],
      "metadata": {
        "id": "Qtaz2Cz2ZC7v"
      }
    },
    {
      "cell_type": "markdown",
      "source": [
        "**Inference** TALIBAN,ISLAMIC STATE OF IRAQ AND THE LEVANT(ISIL),SHINING PATH(SL) Are top three terrorist group"
      ],
      "metadata": {
        "id": "VcJgX0Yl2851"
      }
    },
    {
      "cell_type": "markdown",
      "source": [
        "**7. Year-Wise Analysis of Attacks and Casualties**\n",
        "- Taking unique years as x_year variable"
      ],
      "metadata": {
        "id": "Awu_ZAj4ZH0A"
      }
    },
    {
      "cell_type": "code",
      "source": [
        "x_year = df['Year'].unique()\n",
        "x_year"
      ],
      "metadata": {
        "colab": {
          "base_uri": "https://localhost:8080/"
        },
        "id": "j92WWqDIY8ab",
        "outputId": "85d2429f-6855-418f-8883-4b38d6309c08"
      },
      "execution_count": 73,
      "outputs": [
        {
          "output_type": "execute_result",
          "data": {
            "text/plain": [
              "array([1970, 1971, 1972, 1973, 1974, 1975, 1976, 1977, 1978, 1979, 1980,\n",
              "       1981, 1986, 1982, 1983, 1984, 1985, 1987, 1988, 1989, 1990, 1991,\n",
              "       1992, 1994, 1995, 1996, 1997, 1998, 1999, 2000, 2001, 2002, 2003,\n",
              "       2004, 2005, 2006, 2007, 2008, 2009, 2010, 2011, 2012, 2013, 2014,\n",
              "       2015, 2016, 2017])"
            ]
          },
          "metadata": {},
          "execution_count": 73
        }
      ]
    },
    {
      "cell_type": "markdown",
      "source": [
        "- Taking count of years as y_count_years variable"
      ],
      "metadata": {
        "id": "uII0zWlUZRvo"
      }
    },
    {
      "cell_type": "code",
      "source": [
        "y_count_years = df['Year'].value_counts(dropna = False).sort_index()\n",
        "y_count_years"
      ],
      "metadata": {
        "colab": {
          "base_uri": "https://localhost:8080/"
        },
        "id": "gxP4VE2XZLlO",
        "outputId": "73d50e3c-fa6f-4357-e261-e7b112d3b777"
      },
      "execution_count": 74,
      "outputs": [
        {
          "output_type": "execute_result",
          "data": {
            "text/plain": [
              "1970      651\n",
              "1971      471\n",
              "1972      568\n",
              "1973      473\n",
              "1974      581\n",
              "1975      740\n",
              "1976      923\n",
              "1977     1319\n",
              "1978     1526\n",
              "1979     2662\n",
              "1980     2662\n",
              "1981     2586\n",
              "1982     2544\n",
              "1983     2870\n",
              "1984     3495\n",
              "1985     2915\n",
              "1986     2860\n",
              "1987     3183\n",
              "1988     3721\n",
              "1989     4324\n",
              "1990     3887\n",
              "1991     4683\n",
              "1992     5071\n",
              "1994     3456\n",
              "1995     3081\n",
              "1996     3058\n",
              "1997     3197\n",
              "1998      934\n",
              "1999     1395\n",
              "2000     1814\n",
              "2001     1906\n",
              "2002     1333\n",
              "2003     1278\n",
              "2004     1166\n",
              "2005     2017\n",
              "2006     2758\n",
              "2007     3242\n",
              "2008     4805\n",
              "2009     4721\n",
              "2010     4826\n",
              "2011     5076\n",
              "2012     8522\n",
              "2013    12036\n",
              "2014    16903\n",
              "2015    14965\n",
              "2016    13587\n",
              "2017    10900\n",
              "Name: Year, dtype: int64"
            ]
          },
          "metadata": {},
          "execution_count": 74
        }
      ]
    },
    {
      "cell_type": "markdown",
      "source": [
        "**Top 5 most Attacked Years**"
      ],
      "metadata": {
        "id": "_Lbn-bV9ZaoX"
      }
    },
    {
      "cell_type": "code",
      "source": [
        "df['Year'].value_counts().head(5)"
      ],
      "metadata": {
        "colab": {
          "base_uri": "https://localhost:8080/"
        },
        "id": "DbhaoT6GZWog",
        "outputId": "fc06c581-a9bb-4874-b142-6a52cc041506"
      },
      "execution_count": 75,
      "outputs": [
        {
          "output_type": "execute_result",
          "data": {
            "text/plain": [
              "2014    16903\n",
              "2015    14965\n",
              "2016    13587\n",
              "2013    12036\n",
              "2017    10900\n",
              "Name: Year, dtype: int64"
            ]
          },
          "metadata": {},
          "execution_count": 75
        }
      ]
    },
    {
      "cell_type": "code",
      "source": [
        "y_count_years.plot.bar(width = 1.0, edgecolor = 'black')\n",
        "fig=plt.gcf()\n",
        "fig.set_size_inches(20,10)\n",
        "plt.title(\"Number of Attacks each year\", fontsize = 20, weight = 'bold')\n",
        "plt.ylabel(\"Number of Attacks\", fontsize = 15)\n",
        "plt.xlabel(\"Year\", fontsize = 15)\n",
        "plt.xticks(rotation = 90)\n",
        "plt.show()"
      ],
      "metadata": {
        "colab": {
          "base_uri": "https://localhost:8080/",
          "height": 632
        },
        "id": "zTQtIZhBZdNS",
        "outputId": "1a25949f-0ba2-4d34-e319-4a0dbb973cfc"
      },
      "execution_count": 76,
      "outputs": [
        {
          "output_type": "display_data",
          "data": {
            "text/plain": [
              "<Figure size 1440x720 with 1 Axes>"
            ],
            "image/png": "[encoded data removed]"
          },
          "metadata": {
            "needs_background": "light"
          }
        }
      ]
    },
    {
      "cell_type": "markdown",
      "source": [
        "**Comparing No. of Attacks with Killings for years 1972 to 2017**"
      ],
      "metadata": {
        "id": "tp7ii1IyZlOz"
      }
    },
    {
      "cell_type": "code",
      "source": [
        "# Comparing No. of Attacks with Killings for years 1972 to 2017\n",
        "most_attacked_years = df.Year.value_counts().to_frame()\n",
        "most_attacked_years.columns = ['Attacked']\n",
        "\n",
        "most_killed_years = df.groupby(['Year'])['Killed'].sum().sort_values(ascending =False).to_frame()"
      ],
      "metadata": {
        "id": "w5qAFdzHZhfj"
      },
      "execution_count": 77,
      "outputs": []
    },
    {
      "cell_type": "markdown",
      "source": [
        "**Top 5 years with most deaths**"
      ],
      "metadata": {
        "id": "vg5MWu_IZsV9"
      }
    },
    {
      "cell_type": "code",
      "source": [
        "most_killed_years.head(5)"
      ],
      "metadata": {
        "colab": {
          "base_uri": "https://localhost:8080/",
          "height": 237
        },
        "id": "25QuZY54ZpTB",
        "outputId": "8e1a0a68-b6ee-477e-82bf-d554c88126bd"
      },
      "execution_count": 78,
      "outputs": [
        {
          "output_type": "execute_result",
          "data": {
            "text/plain": [
              "      Killed\n",
              "Year        \n",
              "2014   46534\n",
              "2015   40463\n",
              "2016   36427\n",
              "2017   27675\n",
              "2013   22975"
            ],
            "text/html": [
              "\n",
              "  <div id=\"df-6d6df712-467f-4762-a373-38b342b8ae2d\">\n",
              "    <div class=\"colab-df-container\">\n",
              "      <div>\n",
              "<style scoped>\n",
              "    .dataframe tbody tr th:only-of-type {\n",
              "        vertical-align: middle;\n",
              "    }\n",
              "\n",
              "    .dataframe tbody tr th {\n",
              "        vertical-align: top;\n",
              "    }\n",
              "\n",
              "    .dataframe thead th {\n",
              "        text-align: right;\n",
              "    }\n",
              "</style>\n",
              "<table border=\"1\" class=\"dataframe\">\n",
              "  <thead>\n",
              "    <tr style=\"text-align: right;\">\n",
              "      <th></th>\n",
              "      <th>Killed</th>\n",
              "    </tr>\n",
              "    <tr>\n",
              "      <th>Year</th>\n",
              "      <th></th>\n",
              "    </tr>\n",
              "  </thead>\n",
              "  <tbody>\n",
              "    <tr>\n",
              "      <th>2014</th>\n",
              "      <td>46534</td>\n",
              "    </tr>\n",
              "    <tr>\n",
              "      <th>2015</th>\n",
              "      <td>40463</td>\n",
              "    </tr>\n",
              "    <tr>\n",
              "      <th>2016</th>\n",
              "      <td>36427</td>\n",
              "    </tr>\n",
              "    <tr>\n",
              "      <th>2017</th>\n",
              "      <td>27675</td>\n",
              "    </tr>\n",
              "    <tr>\n",
              "      <th>2013</th>\n",
              "      <td>22975</td>\n",
              "    </tr>\n",
              "  </tbody>\n",
              "</table>\n",
              "</div>\n",
              "      <button class=\"colab-df-convert\" onclick=\"convertToInteractive('df-6d6df712-467f-4762-a373-38b342b8ae2d')\"\n",
              "              title=\"Convert this dataframe to an interactive table.\"\n",
              "              style=\"display:none;\">\n",
              "        \n",
              "  <svg xmlns=\"http://www.w3.org/2000/svg\" height=\"24px\"viewBox=\"0 0 24 24\"\n",
              "       width=\"24px\">\n",
              "    <path d=\"M0 0h24v24H0V0z\" fill=\"none\"/>\n",
              "    <path d=\"M18.56 5.44l.94 2.06.94-2.06 2.06-.94-2.06-.94-.94-2.06-.94 2.06-2.06.94zm-11 1L8.5 8.5l.94-2.06 2.06-.94-2.06-.94L8.5 2.5l-.94 2.06-2.06.94zm10 10l.94 2.06.94-2.06 2.06-.94-2.06-.94-.94-2.06-.94 2.06-2.06.94z\"/><path d=\"M17.41 7.96l-1.37-1.37c-.4-.4-.92-.59-1.43-.59-.52 0-1.04.2-1.43.59L10.3 9.45l-7.72 7.72c-.78.78-.78 2.05 0 2.83L4 21.41c.39.39.9.59 1.41.59.51 0 1.02-.2 1.41-.59l7.78-7.78 2.81-2.81c.8-.78.8-2.07 0-2.86zM5.41 20L4 18.59l7.72-7.72 1.47 1.35L5.41 20z\"/>\n",
              "  </svg>\n",
              "      </button>\n",
              "      \n",
              "  <style>\n",
              "    .colab-df-container {\n",
              "      display:flex;\n",
              "      flex-wrap:wrap;\n",
              "      gap: 12px;\n",
              "    }\n",
              "\n",
              "    .colab-df-convert {\n",
              "      background-color: #E8F0FE;\n",
              "      border: none;\n",
              "      border-radius: 50%;\n",
              "      cursor: pointer;\n",
              "      display: none;\n",
              "      fill: #1967D2;\n",
              "      height: 32px;\n",
              "      padding: 0 0 0 0;\n",
              "      width: 32px;\n",
              "    }\n",
              "\n",
              "    .colab-df-convert:hover {\n",
              "      background-color: #E2EBFA;\n",
              "      box-shadow: 0px 1px 2px rgba(60, 64, 67, 0.3), 0px 1px 3px 1px rgba(60, 64, 67, 0.15);\n",
              "      fill: #174EA6;\n",
              "    }\n",
              "\n",
              "    [theme=dark] .colab-df-convert {\n",
              "      background-color: #3B4455;\n",
              "      fill: #D2E3FC;\n",
              "    }\n",
              "\n",
              "    [theme=dark] .colab-df-convert:hover {\n",
              "      background-color: #434B5C;\n",
              "      box-shadow: 0px 1px 3px 1px rgba(0, 0, 0, 0.15);\n",
              "      filter: drop-shadow(0px 1px 2px rgba(0, 0, 0, 0.3));\n",
              "      fill: #FFFFFF;\n",
              "    }\n",
              "  </style>\n",
              "\n",
              "      <script>\n",
              "        const buttonEl =\n",
              "          document.querySelector('#df-6d6df712-467f-4762-a373-38b342b8ae2d button.colab-df-convert');\n",
              "        buttonEl.style.display =\n",
              "          google.colab.kernel.accessAllowed ? 'block' : 'none';\n",
              "\n",
              "        async function convertToInteractive(key) {\n",
              "          const element = document.querySelector('#df-6d6df712-467f-4762-a373-38b342b8ae2d');\n",
              "          const dataTable =\n",
              "            await google.colab.kernel.invokeFunction('convertToInteractive',\n",
              "                                                     [key], {});\n",
              "          if (!dataTable) return;\n",
              "\n",
              "          const docLinkHtml = 'Like what you see? Visit the ' +\n",
              "            '<a target=\"_blank\" href=https://colab.research.google.com/notebooks/data_table.ipynb>data table notebook</a>'\n",
              "            + ' to learn more about interactive tables.';\n",
              "          element.innerHTML = '';\n",
              "          dataTable['output_type'] = 'display_data';\n",
              "          await google.colab.output.renderOutput(dataTable, element);\n",
              "          const docLink = document.createElement('div');\n",
              "          docLink.innerHTML = docLinkHtml;\n",
              "          element.appendChild(docLink);\n",
              "        }\n",
              "      </script>\n",
              "    </div>\n",
              "  </div>\n",
              "  "
            ]
          },
          "metadata": {},
          "execution_count": 78
        }
      ]
    },
    {
      "cell_type": "code",
      "source": [
        "most_attacked_years.merge(most_killed_years, how = 'left', left_index = True, right_index = True).plot.bar(width = 1.0, color = sns.color_palette('CMRmap',2))\n",
        "fig=plt.gcf()\n",
        "fig.set_size_inches(20,10)\n",
        "plt.title(\"Attacks vs Kills in years\", fontsize = 20, weight = 'bold')\n",
        "plt.ylabel(\"Attacks vs Kills\", fontsize = 15)\n",
        "plt.xlabel(\"Year\", fontsize = 15)\n",
        "plt.xticks(rotation = 90)\n",
        "plt.show()"
      ],
      "metadata": {
        "colab": {
          "base_uri": "https://localhost:8080/",
          "height": 632
        },
        "id": "2JLgsMOPZvf9",
        "outputId": "d53a69c8-7eab-4ade-8253-4f7ebfa1e295"
      },
      "execution_count": 79,
      "outputs": [
        {
          "output_type": "display_data",
          "data": {
            "text/plain": [
              "<Figure size 1440x720 with 1 Axes>"
            ],
            "image/png": "[encoded data removed]"
          },
          "metadata": {
            "needs_background": "light"
          }
        }
      ]
    },
    {
      "cell_type": "markdown",
      "source": [
        "**Inference** 2014,2015,2016 are top three year by attack and kills by terrorist"
      ],
      "metadata": {
        "id": "MFu4MKxT7mPA"
      }
    },
    {
      "cell_type": "code",
      "source": [
        "plt.figure(figsize = (20,10))\n",
        "sns.kdeplot(df['Year'], hue = df['Region'])\n",
        "plt.title('Terrorist Activities by Region in each Year',fontsize=20, weight = 'bold')\n",
        "plt.xlabel('Years',fontsize=15)\n",
        "plt.ylabel('Frequency of Attacks',fontsize=15)\n",
        "#plt.xticks(rotation=90)\n",
        "plt.show()"
      ],
      "metadata": {
        "colab": {
          "base_uri": "https://localhost:8080/",
          "height": 619
        },
        "id": "Ahclv9cqZyUc",
        "outputId": "3b01fd16-1b3a-4d45-c83d-7e6e0cbcb919"
      },
      "execution_count": 83,
      "outputs": [
        {
          "output_type": "display_data",
          "data": {
            "text/plain": [
              "<Figure size 1440x720 with 1 Axes>"
            ],
            "image/png": "[encoded data removed]"
          },
          "metadata": {
            "needs_background": "light"
          }
        }
      ]
    },
    {
      "cell_type": "markdown",
      "source": [
        "**SUMMARY**\n",
        "\n",
        "-Global Terrorism Analysis was done by group of 4 members -Nitesh Mishra,Rohit Sharma,Abhishek verma,and Aditya Dhoundiyal.In this project we got 1 csv file global terrorism as an input.\n",
        "\n",
        "So,we decided this into 4 different task.\n",
        "\n",
        "Work done by every individual discription \n",
        "\n",
        "**NITESH MISHRA**-We first decided to take up this project solely due to our mutual interest in GLOBAL TERRORISM becouse of it relates  in real life.when we download the csv file we were shocked how big data is this,we talk about project in very tharoly manner and split the task.\n",
        "After split the task we decided team member gives his insight from project in own end,after doing this i go for the project and some analysis from the given data,the very first problem that i faced in my csv file was the name of some columns are unmeaningful. Then i change name of columns in meaning way by using function rename like {'imonth':'month'},{'iyear':'year'},then select some useful rows and columns for further analysis.\n",
        "The two insight of mine.\n",
        "\n",
        "1-The top 3 attack types is BOMBING/EXPLOSION,ARMED ASSOULT,ASSASSAINATION\n",
        "\n",
        "The top 3 attack types in percentage.\n",
        "\n",
        "Bombing/Explosion=48.6%\n",
        "\n",
        "Armed Assoult=23.5%\n",
        "\n",
        "Assassination=10.6%\n",
        "\n",
        "2-The top 3 three countries and states are most attacks.\n",
        "\n",
        "(COUNTRIES)\n",
        "IRAQ,\n",
        "PAKISTAN,\n",
        "AFGANISTAN\n",
        "\n",
        "(STATES) BAGHDAD,NORTHERN IRELAND,BALOCHISTAN\n",
        "\n",
        "**ROHIT SHARMA**-When i started the project i have some ideas like name of columns are meaningful manner,and i have already two insight that given by nitesh then i decided go in continuation.The two insight of my end are.\n",
        "\n",
        "1-Top 3 target type are\n",
        "\n",
        "Private Citizens & Property,\n",
        "Military,Police\n",
        "\n",
        "2-Top 3 attacked regions are in percentage :\n",
        "\n",
        "Middle East & North Africa-27.8%,\n",
        "South Asia-24.8%,\n",
        "South America-10.4%\n",
        "\n",
        "**ABHISHEK VERMA**-When i started the project i have multiple idea like structure data and four insight of project then i go for insight from my end.\n",
        "\n",
        "1-Top 3 weapons used are;\n",
        "\n",
        "Explosives,\n",
        "Firearms,unknown\n",
        "\n",
        "2-Top 3 terrorist groups :\n",
        "\n",
        "Taliban,Islamic State of Iraq and the Levant (ISIL),Shining Path (SL)\n",
        "\n",
        "**ADITYA DHOUNDIYAL**-I m working for end this project with the remaing insight of project from my end also,i have aslo multiple ideas clues that are given by my team members,the insight of mine are\n",
        "\n",
        "1-Year-Wise Analysis of Attacks and Casualties\n",
        "The top the 3 most attack and casualties in year is \n",
        "\n",
        "1-2014 = 46534\n",
        "\n",
        "2-2015 = 40463\n",
        "\n",
        "3-2016 = 36427\n",
        "\n"
      ],
      "metadata": {
        "id": "7Jrf0KEnPHhP"
      }
    },
    {
      "cell_type": "markdown",
      "source": [
        "**CONCLUSIONS**\n",
        "\n",
        "1-The top 3 attack types is BOMBING/EXPLOSION,ARMED ASSOULT,ASSASSAINATION\n",
        "\n",
        "The top 3 attack types in percentage.\n",
        "\n",
        "Bombing/Explosion=48.6%\n",
        "\n",
        "Armed Assoult=23.5%\n",
        "\n",
        "Assassination=10.6%\n",
        "\n",
        "2-The top 3  countries and states are most attacks.\n",
        "\n",
        "(COUNTRIES) IRAQ, PAKISTAN, AFGANISTAN\n",
        "\n",
        "(STATES) BAGHDAD,NORTHERN IRELAND,BALOCHISTAN \n",
        "\n",
        "3-Top 3 target type are\n",
        "\n",
        "Private Citizens & Property, Military,Police\n",
        "\n",
        "4-Top 3 attacked regions are in percentage :\n",
        "\n",
        "Middle East & North Africa-27.8%, South Asia-24.8%, South America-10.4%\n",
        "\n",
        "5-Top 3 weapons used are;\n",
        "\n",
        "Explosives, Firearms,unknown\n",
        "\n",
        "6-Top 3 terrorist groups :\n",
        "\n",
        "Taliban,Islamic State of Iraq and the Levant (ISIL),Shining Path (SL)\n",
        "\n",
        "7-Year-Wise Analysis of Attacks and Casualties The top the 3 most attack and casualties in year is\n",
        "\n",
        "1-2014 = 46534\n",
        "\n",
        "2-2015 = 40463\n",
        "\n",
        "3-2016 = 36427"
      ],
      "metadata": {
        "id": "iUwjJma4gw-_"
      }
    },
    {
      "cell_type": "code",
      "source": [],
      "metadata": {
        "id": "G7D2GuniZ3YQ"
      },
      "execution_count": 80,
      "outputs": []
    }
  ]
}