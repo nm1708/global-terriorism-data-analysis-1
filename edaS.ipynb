{
  "nbformat": 4,
  "nbformat_minor": 0,
  "metadata": {
    "colab": {
      "provenance": [],
      "collapsed_sections": [],
      "authorship_tag": "ABX9TyNrlu/UmXsIJMbQt6+HcFKA",
      "include_colab_link": true
    },
    "kernelspec": {
      "name": "python3",
      "display_name": "Python 3"
    },
    "language_info": {
      "name": "python"
    }
  },
  "cells": [
    {
      "cell_type": "markdown",
      "metadata": {
        "id": "view-in-github",
        "colab_type": "text"
      },
      "source": [
        "<a href=\"https://colab.research.google.com/github/nm1708/global-terriorism-data-analysis-1/blob/main/edaS.ipynb\" target=\"_parent\"><img src=\"https://colab.research.google.com/assets/colab-badge.svg\" alt=\"Open In Colab\"/></a>"
      ]
    },
    {
      "cell_type": "markdown",
      "metadata": {
        "id": "Y06xIdG26kRF"
      },
      "source": [
        "## <b> The Global Terrorism Database (GTD) is an open-source database including information on terrorist attacks around the world from 1970 through 2017. The GTD includes systematic data on domestic as well as international terrorist incidents that have occurred during this time period and now includes more than 180,000 attacks. The database is maintained by researchers at the National Consortium for the Study of Terrorism and Responses to Terrorism (START), headquartered at the University of Maryland.</b>\n",
        "\n",
        "# <b> Explore and analyze the data to discover key findings pertaining to terrorist activities. </b>"
      ]
    },
    {
      "cell_type": "code",
      "execution_count": 1,
      "metadata": {
        "id": "QQn_GqGLoEUZ"
      },
      "outputs": [],
      "source": [
        "#IMPORT SOME LIBERARIES\n",
        "import numpy as np\n",
        "import pandas as pd\n",
        "import seaborn as sns\n",
        "import matplotlib.pyplot as plt\n",
        "%matplotlib inline\n"
      ]
    },
    {
      "cell_type": "code",
      "source": [
        "#IMPORT GOOGLE COLAB \n",
        "from google.colab import drive"
      ],
      "metadata": {
        "id": "hDj3LVqsoOmr"
      },
      "execution_count": 2,
      "outputs": []
    },
    {
      "cell_type": "code",
      "source": [
        "#MOUNT THE DRIVE\n",
        "drive.mount('/content/drive/')"
      ],
      "metadata": {
        "colab": {
          "base_uri": "https://localhost:8080/",
          "height": 329
        },
        "id": "wZpH1NaxNAOB",
        "outputId": "259ddb92-6e55-4ec2-abfb-e55de75cd946"
      },
      "execution_count": 3,
      "outputs": [
        {
          "output_type": "error",
          "ename": "MessageError",
          "evalue": "ignored",
          "traceback": [
            "\u001b[0;31m---------------------------------------------------------------------------\u001b[0m",
            "\u001b[0;31mMessageError\u001b[0m                              Traceback (most recent call last)",
            "\u001b[0;32m<ipython-input-3-84d6623ff7f3>\u001b[0m in \u001b[0;36m<module>\u001b[0;34m\u001b[0m\n\u001b[1;32m      1\u001b[0m \u001b[0;31m#MOUNT THE DRIVE\u001b[0m\u001b[0;34m\u001b[0m\u001b[0;34m\u001b[0m\u001b[0;34m\u001b[0m\u001b[0m\n\u001b[0;32m----> 2\u001b[0;31m \u001b[0mdrive\u001b[0m\u001b[0;34m.\u001b[0m\u001b[0mmount\u001b[0m\u001b[0;34m(\u001b[0m\u001b[0;34m'/content/drive/'\u001b[0m\u001b[0;34m)\u001b[0m\u001b[0;34m\u001b[0m\u001b[0;34m\u001b[0m\u001b[0m\n\u001b[0m",
            "\u001b[0;32m/usr/local/lib/python3.7/dist-packages/google/colab/drive.py\u001b[0m in \u001b[0;36mmount\u001b[0;34m(mountpoint, force_remount, timeout_ms, readonly)\u001b[0m\n\u001b[1;32m    104\u001b[0m       \u001b[0mtimeout_ms\u001b[0m\u001b[0;34m=\u001b[0m\u001b[0mtimeout_ms\u001b[0m\u001b[0;34m,\u001b[0m\u001b[0;34m\u001b[0m\u001b[0;34m\u001b[0m\u001b[0m\n\u001b[1;32m    105\u001b[0m       \u001b[0mephemeral\u001b[0m\u001b[0;34m=\u001b[0m\u001b[0;32mTrue\u001b[0m\u001b[0;34m,\u001b[0m\u001b[0;34m\u001b[0m\u001b[0;34m\u001b[0m\u001b[0m\n\u001b[0;32m--> 106\u001b[0;31m       readonly=readonly)\n\u001b[0m\u001b[1;32m    107\u001b[0m \u001b[0;34m\u001b[0m\u001b[0m\n\u001b[1;32m    108\u001b[0m \u001b[0;34m\u001b[0m\u001b[0m\n",
            "\u001b[0;32m/usr/local/lib/python3.7/dist-packages/google/colab/drive.py\u001b[0m in \u001b[0;36m_mount\u001b[0;34m(mountpoint, force_remount, timeout_ms, ephemeral, readonly)\u001b[0m\n\u001b[1;32m    123\u001b[0m   \u001b[0;32mif\u001b[0m \u001b[0mephemeral\u001b[0m\u001b[0;34m:\u001b[0m\u001b[0;34m\u001b[0m\u001b[0;34m\u001b[0m\u001b[0m\n\u001b[1;32m    124\u001b[0m     _message.blocking_request(\n\u001b[0;32m--> 125\u001b[0;31m         'request_auth', request={'authType': 'dfs_ephemeral'}, timeout_sec=None)\n\u001b[0m\u001b[1;32m    126\u001b[0m \u001b[0;34m\u001b[0m\u001b[0m\n\u001b[1;32m    127\u001b[0m   \u001b[0mmountpoint\u001b[0m \u001b[0;34m=\u001b[0m \u001b[0m_os\u001b[0m\u001b[0;34m.\u001b[0m\u001b[0mpath\u001b[0m\u001b[0;34m.\u001b[0m\u001b[0mexpanduser\u001b[0m\u001b[0;34m(\u001b[0m\u001b[0mmountpoint\u001b[0m\u001b[0;34m)\u001b[0m\u001b[0;34m\u001b[0m\u001b[0;34m\u001b[0m\u001b[0m\n",
            "\u001b[0;32m/usr/local/lib/python3.7/dist-packages/google/colab/_message.py\u001b[0m in \u001b[0;36mblocking_request\u001b[0;34m(request_type, request, timeout_sec, parent)\u001b[0m\n\u001b[1;32m    169\u001b[0m   request_id = send_request(\n\u001b[1;32m    170\u001b[0m       request_type, request, parent=parent, expect_reply=True)\n\u001b[0;32m--> 171\u001b[0;31m   \u001b[0;32mreturn\u001b[0m \u001b[0mread_reply_from_input\u001b[0m\u001b[0;34m(\u001b[0m\u001b[0mrequest_id\u001b[0m\u001b[0;34m,\u001b[0m \u001b[0mtimeout_sec\u001b[0m\u001b[0;34m)\u001b[0m\u001b[0;34m\u001b[0m\u001b[0;34m\u001b[0m\u001b[0m\n\u001b[0m",
            "\u001b[0;32m/usr/local/lib/python3.7/dist-packages/google/colab/_message.py\u001b[0m in \u001b[0;36mread_reply_from_input\u001b[0;34m(message_id, timeout_sec)\u001b[0m\n\u001b[1;32m    100\u001b[0m         reply.get('colab_msg_id') == message_id):\n\u001b[1;32m    101\u001b[0m       \u001b[0;32mif\u001b[0m \u001b[0;34m'error'\u001b[0m \u001b[0;32min\u001b[0m \u001b[0mreply\u001b[0m\u001b[0;34m:\u001b[0m\u001b[0;34m\u001b[0m\u001b[0;34m\u001b[0m\u001b[0m\n\u001b[0;32m--> 102\u001b[0;31m         \u001b[0;32mraise\u001b[0m \u001b[0mMessageError\u001b[0m\u001b[0;34m(\u001b[0m\u001b[0mreply\u001b[0m\u001b[0;34m[\u001b[0m\u001b[0;34m'error'\u001b[0m\u001b[0;34m]\u001b[0m\u001b[0;34m)\u001b[0m\u001b[0;34m\u001b[0m\u001b[0;34m\u001b[0m\u001b[0m\n\u001b[0m\u001b[1;32m    103\u001b[0m       \u001b[0;32mreturn\u001b[0m \u001b[0mreply\u001b[0m\u001b[0;34m.\u001b[0m\u001b[0mget\u001b[0m\u001b[0;34m(\u001b[0m\u001b[0;34m'data'\u001b[0m\u001b[0;34m,\u001b[0m \u001b[0;32mNone\u001b[0m\u001b[0;34m)\u001b[0m\u001b[0;34m\u001b[0m\u001b[0;34m\u001b[0m\u001b[0m\n\u001b[1;32m    104\u001b[0m \u001b[0;34m\u001b[0m\u001b[0m\n",
            "\u001b[0;31mMessageError\u001b[0m: Error: credential propagation was unsuccessful"
          ]
        }
      ]
    },
    {
      "cell_type": "code",
      "source": [
        "#READING THE DATA\n",
        "df_data=('/content/drive/MyDrive/data/Global Terrorism Data.csv')\n",
        "df=pd.read_csv((df_data), encoding='ISO-8859-1')"
      ],
      "metadata": {
        "id": "sFz8Rl47NMoC"
      },
      "execution_count": null,
      "outputs": []
    },
    {
      "cell_type": "code",
      "source": [
        "df.head()"
      ],
      "metadata": {
        "id": "1pdq35SzJTwz"
      },
      "execution_count": null,
      "outputs": []
    },
    {
      "cell_type": "code",
      "source": [
        "df.tail()"
      ],
      "metadata": {
        "id": "5crB6xfxJlX-"
      },
      "execution_count": null,
      "outputs": []
    },
    {
      "cell_type": "code",
      "source": [
        "#GETTING TO KNOW THE DATA\n",
        "df.info()"
      ],
      "metadata": {
        "id": "2iGnA0sduVCk"
      },
      "execution_count": null,
      "outputs": []
    },
    {
      "cell_type": "markdown",
      "source": [
        "Data Cleaning"
      ],
      "metadata": {
        "id": "Qd8JmgHr1KzZ"
      }
    },
    {
      "cell_type": "code",
      "source": [
        "#TO VIEW SHAPE\n",
        "print(\"There are {} rows and {} columns in the dataset\".format(df.shape[0],df.shape[1]))"
      ],
      "metadata": {
        "id": "o5ra_qhNJwa1"
      },
      "execution_count": null,
      "outputs": []
    },
    {
      "cell_type": "code",
      "source": [
        "# NAME OF COLUMNS\n",
        "df.columns"
      ],
      "metadata": {
        "id": "NGnb8mjhJ4IO"
      },
      "execution_count": null,
      "outputs": []
    },
    {
      "cell_type": "code",
      "source": [
        "#DATA TYPES OF COLUMNS\n",
        "df.dtypes"
      ],
      "metadata": {
        "id": "DEBmbNuru6zf"
      },
      "execution_count": null,
      "outputs": []
    },
    {
      "cell_type": "code",
      "source": [
        "#Descriptive Statistics\n",
        "#Includes summarized central tendency, dispersion and shape of a dataset’s distribution, excluding NaN values\n",
        "\n",
        "df.describe()"
      ],
      "metadata": {
        "id": "5fk5LZe61u50"
      },
      "execution_count": null,
      "outputs": []
    },
    {
      "cell_type": "code",
      "source": [
        "#Calculating % of missing values in dataset\n",
        "missing_values = (((df.isnull().sum()).sum())/df.size)*100\n",
        "missing_values"
      ],
      "metadata": {
        "id": "sSITjTjw16JS"
      },
      "execution_count": null,
      "outputs": []
    },
    {
      "cell_type": "markdown",
      "source": [
        "**We have found that more than 50% of the values are Null,\n",
        "Hence, we need to clean the Dataset**"
      ],
      "metadata": {
        "id": "E8VfLcls2LO9"
      }
    },
    {
      "cell_type": "markdown",
      "source": [
        "**Selecting necessary columns only**"
      ],
      "metadata": {
        "id": "M-ZFU0Ib2kcP"
      }
    },
    {
      "cell_type": "code",
      "source": [
        "df = df[['iyear','imonth','iday','country_txt','provstate','region_txt','latitude','longitude','city','latitude','longitude','attacktype1_txt','nkill', 'nwound','gname','target1','targtype1_txt','weaptype1_txt']]\n",
        "df.head(10)"
      ],
      "metadata": {
        "id": "jPZ9y1wi2UFO"
      },
      "execution_count": null,
      "outputs": []
    },
    {
      "cell_type": "markdown",
      "source": [
        "**Renaming the columns**"
      ],
      "metadata": {
        "id": "NINaEHu529bQ"
      }
    },
    {
      "cell_type": "code",
      "source": [
        "df.rename(columns={'iyear':'Year',\n",
        "                   'imonth':'Month',\n",
        "                   'iday':'Day',\n",
        "                   'country_txt':'Country',\n",
        "                   'provstate':'State',\n",
        "                   'region_txt':'Region',\n",
        "                   'latitude':'Latitude',\n",
        "                   'longitude':'Longitude',\n",
        "                   'attacktype1_txt':'Attack_Type',\n",
        "                   'target1':'Target',\n",
        "                   'nkill':'Killed',\n",
        "                   'nwound':'Attacked',\n",
        "                   'gname':'Group',\n",
        "                   'targtype1_txt':'Target_Type',\n",
        "                   'weaptype1_txt':'Weapon_type',\n",
        "                   'latitude':'Latitude',\n",
        "                   'longitude':'Longitude',\n",
        "                   'target1':'Target',\n",
        "                   'city':'City'},inplace=True)\n",
        "df.head(10)"
      ],
      "metadata": {
        "id": "RxgayCeS23pR"
      },
      "execution_count": null,
      "outputs": []
    },
    {
      "cell_type": "markdown",
      "source": [
        "**Again, checking the % of missing values**"
      ],
      "metadata": {
        "id": "SB0gGAaH3JF3"
      }
    },
    {
      "cell_type": "code",
      "source": [
        "missing_values = (((df.isnull().sum()).sum())/df.size)*100\n",
        "missing_values"
      ],
      "metadata": {
        "id": "FBlnXR5z3Ecp"
      },
      "execution_count": null,
      "outputs": []
    },
    {
      "cell_type": "markdown",
      "source": [
        "**Now the Dataset is ready to be worked on as the Null Values are only ~ 1.2% of the total dataset**"
      ],
      "metadata": {
        "id": "sUF1TOUi3ULa"
      }
    },
    {
      "cell_type": "markdown",
      "source": [
        "**Finding unique numbers in each column**"
      ],
      "metadata": {
        "id": "3__NYJSQ3fpW"
      }
    },
    {
      "cell_type": "code",
      "source": [
        "for i in df.columns:\n",
        "    print(i, df[i].nunique())"
      ],
      "metadata": {
        "id": "69ebfUiK3PMD"
      },
      "execution_count": null,
      "outputs": []
    },
    {
      "cell_type": "code",
      "source": [
        "df.info()"
      ],
      "metadata": {
        "id": "nakfI5nX3kPk"
      },
      "execution_count": null,
      "outputs": []
    },
    {
      "cell_type": "markdown",
      "source": [
        "*From the above information we found that the numbers in Killed and Wounded are missing\n",
        "Hence we'll fill the mean of 'Wounded' and 'Killed' in those places*"
      ],
      "metadata": {
        "id": "2pANMqdk3up2"
      }
    },
    {
      "cell_type": "markdown",
      "source": [
        "**Note : We can also fill 0 \"Zero\"**"
      ],
      "metadata": {
        "id": "20dw0ke031Te"
      }
    },
    {
      "cell_type": "code",
      "source": [
        "df['Attacked'] = df['Attacked'].fillna(df['Attacked'].mean()).astype(int)\n",
        "df['Killed'] = df['Killed'].fillna(df['Killed'].mean()).astype(int)"
      ],
      "metadata": {
        "id": "GRZoMFNN3nKn"
      },
      "execution_count": null,
      "outputs": []
    },
    {
      "cell_type": "markdown",
      "source": [
        "**Getting to know the new DataFrame**"
      ],
      "metadata": {
        "id": "J1YNmdY64AG7"
      }
    },
    {
      "cell_type": "code",
      "source": [
        "df.info()"
      ],
      "metadata": {
        "id": "Rf3jHbLj368h"
      },
      "execution_count": null,
      "outputs": []
    },
    {
      "cell_type": "markdown",
      "source": [
        " **1-The Attack**\n",
        "- Count of different types of attacks"
      ],
      "metadata": {
        "id": "1MjGstPk4JKj"
      }
    },
    {
      "cell_type": "code",
      "source": [
        "df['Attack_Type'].value_counts() "
      ],
      "metadata": {
        "id": "i1pSIET74FaC"
      },
      "execution_count": null,
      "outputs": []
    },
    {
      "cell_type": "code",
      "source": [
        "plt.figure(figsize=(12,6))\n",
        "sns.barplot(x = df['Attack_Type'].value_counts().index, y = df['Attack_Type'].value_counts().values, palette='CMRmap')\n",
        "plt.title('Different Types of Attacks', fontsize=20, weight = 'bold')\n",
        "plt.xlabel('Type of Attack', fontsize=15)\n",
        "plt.ylabel('Count', fontsize=15)\n",
        "plt.xticks(rotation= 90)\n",
        "plt.show()"
      ],
      "metadata": {
        "id": "wyDAfCZB4flH"
      },
      "execution_count": null,
      "outputs": []
    },
    {
      "cell_type": "markdown",
      "source": [
        "**Inference**\n",
        "Top three type of attack is BOMBING/EXPLOSION,ARMED ASSAULT,ASSASSINATION"
      ],
      "metadata": {
        "id": "xuAoasE4mwY4"
      }
    },
    {
      "cell_type": "markdown",
      "source": [
        "**- % of count of different types of attacks**"
      ],
      "metadata": {
        "id": "WFNdq5fW4ztK"
      }
    },
    {
      "cell_type": "code",
      "source": [
        "perc_Attack_Types = (df['Attack_Type'].value_counts()/df.shape[0])*100\n",
        "perc_Attack_Types"
      ],
      "metadata": {
        "id": "6QHEpBBn4uQt"
      },
      "execution_count": null,
      "outputs": []
    },
    {
      "cell_type": "code",
      "source": [
        "mylabels = df['Attack_Type'].value_counts().index\n",
        "myexplode = (0.05,0.05,0,0,0,0,0,0,0)\n",
        "\n",
        "plt.figure(figsize = (12,12))\n",
        "plt.pie(perc_Attack_Types, explode=myexplode, labels=mylabels, autopct='%0.1f%%', shadow=False)\n",
        "#plt.legend()\n",
        "plt.title('Attack Types Percentage', fontsize=20, weight = 'bold')\n",
        "plt.show()"
      ],
      "metadata": {
        "id": "c40wAvk-44uM"
      },
      "execution_count": null,
      "outputs": []
    },
    {
      "cell_type": "markdown",
      "source": [
        "**Inference**"
      ],
      "metadata": {
        "id": "I58h6VvEnbrL"
      }
    },
    {
      "cell_type": "markdown",
      "source": [
        "**Top 5 types of attacks in %**"
      ],
      "metadata": {
        "id": "ScG5qxlr5C2h"
      }
    },
    {
      "cell_type": "markdown",
      "source": [
        "1-Bombing/Explosion 48.6%\n",
        "\n",
        "2-Armed Assault 23.5%\n",
        "\n",
        "3-Assassination 10.6%\n",
        "\n",
        "4-Hostage Taking (Kidnapping) and 6.1%\n",
        "\n",
        "5-Facility/Infrastructure Attack 5.7%\n",
        "\n"
      ],
      "metadata": {
        "id": "3SvM3opN59sB"
      }
    },
    {
      "cell_type": "markdown",
      "source": [
        "**2. The Countries and The States**\n",
        "- Top 15 Countries with most attacks"
      ],
      "metadata": {
        "id": "ZSYMvPes4gkl"
      }
    },
    {
      "cell_type": "code",
      "source": [
        "df.Country.value_counts()[:15]"
      ],
      "metadata": {
        "id": "pB87brlK48Vu"
      },
      "execution_count": null,
      "outputs": []
    },
    {
      "cell_type": "code",
      "source": [
        "plt.figure(figsize=(12,6))\n",
        "sns.barplot(x = df['Country'].value_counts()[:15].index, y = df['Country'].value_counts()[:15].values, palette='CMRmap')\n",
        "plt.title('Top 15 Countries Affected', fontsize=20, weight = 'bold')\n",
        "plt.xlabel('Country', fontsize=15)\n",
        "plt.ylabel('Count', fontsize=15)\n",
        "plt.xticks(rotation= 90)\n",
        "plt.show()"
      ],
      "metadata": {
        "id": "-_EDEa4l4yfk"
      },
      "execution_count": null,
      "outputs": []
    },
    {
      "cell_type": "markdown",
      "source": [
        "**Inference**\n",
        "\n",
        "Iraq,Pakistan,Afganistan are most affected counrties"
      ],
      "metadata": {
        "id": "9kKHOXd45Y7t"
      }
    },
    {
      "cell_type": "code",
      "source": [
        "perc_Country = (df['Country'].value_counts()[:15]/df['Target_Type'].shape[0])*100\n",
        "perc_Country"
      ],
      "metadata": {
        "id": "Yv0UhuSV5BSD"
      },
      "execution_count": null,
      "outputs": []
    },
    {
      "cell_type": "code",
      "source": [
        "# Comparing No. of Attacks with Killings for top 15 countries\n",
        "\n",
        "attacked = df.Country.value_counts()[:15].to_frame()\n",
        "attacked.columns = ['Attacked']\n",
        "\n",
        "kills = df.groupby(['Country'])['Killed'].sum().sort_values(ascending =False).to_frame()\n",
        "attacked.merge(kills, how = 'left' , left_index = True, right_index = True ).plot.bar(width = 0.6 , color = sns.color_palette('CMRmap',2))\n",
        "fig=plt.gcf()\n",
        "fig.set_size_inches(20,16)\n",
        "plt.title(\"Attacks vs Kills in mostly attacked 15 countries\", fontsize = 20, weight = 'bold')\n",
        "plt.ylabel(\"Attacks vs Kills\", fontsize = 15)\n",
        "plt.xlabel(\"Country\", fontsize = 15)\n",
        "plt.show()"
      ],
      "metadata": {
        "id": "5xENMDuq5zye"
      },
      "execution_count": null,
      "outputs": []
    },
    {
      "cell_type": "markdown",
      "source": [
        "**Top 5 countries attacked are :**\n",
        "\n",
        "1-Iraq\n",
        "\n",
        "2-Pakistan\n",
        "\n",
        "3-Afghanistan\n",
        "\n",
        "4-India\n",
        " \n",
        "5-Colombia"
      ],
      "metadata": {
        "id": "CnBwHV5D6AlK"
      }
    },
    {
      "cell_type": "markdown",
      "source": [
        "**Inference**\n",
        "most attack vs kill countries are IRAQ,PAKISTAN and followed by AFGANISTAN"
      ],
      "metadata": {
        "id": "WDlrUoWF0Nb3"
      }
    },
    {
      "cell_type": "markdown",
      "source": [
        "**Top 15 States with most attacks (Except Unknown)**"
      ],
      "metadata": {
        "id": "lSN0WzsO6pAq"
      }
    },
    {
      "cell_type": "code",
      "source": [
        "df.State.value_counts()[:16].drop('Unknown')"
      ],
      "metadata": {
        "id": "nsgOKUqt55E5"
      },
      "execution_count": null,
      "outputs": []
    },
    {
      "cell_type": "code",
      "source": [
        "plt.figure(figsize = (12,6))\n",
        "sns.barplot(x = df['State'].value_counts()[:16].drop('Unknown').index, y = df['State'].value_counts()[:16].drop('Unknown').values, palette='CMRmap') # or flare_r\n",
        "plt.title('Top 15 Most Attacked States',fontsize=20, weight = 'bold')\n",
        "plt.xlabel('States',fontsize=15)\n",
        "plt.ylabel('Number of Attacks',fontsize=15)\n",
        "plt.xticks(rotation=90)\n",
        "plt.show()\n",
        "#plt.gcf().set_size_inches(15, 5)"
      ],
      "metadata": {
        "id": "pWyx4jgb6zTf"
      },
      "execution_count": null,
      "outputs": []
    },
    {
      "cell_type": "markdown",
      "source": [
        "**Most number of state attacked**"
      ],
      "metadata": {
        "id": "kAuqCo4j68Bt"
      }
    },
    {
      "cell_type": "code",
      "source": [
        "perc_State = (df['State'].value_counts()[:15].drop('Unknown')/df['Target_Type'].shape[0])*100\n",
        "perc_State"
      ],
      "metadata": {
        "id": "LvAiIE_F62o8"
      },
      "execution_count": null,
      "outputs": []
    },
    {
      "cell_type": "markdown",
      "source": [
        "**Top 5 states attacked are :**\n",
        "\n",
        "1-Baghdad\n",
        "\n",
        "2-Northern Ireland\n",
        "\n",
        "3-Balochistan\n",
        "\n",
        "4-Saladin\n",
        "\n",
        "5-Al Anbar"
      ],
      "metadata": {
        "id": "LI4DmSJtWoCG"
      }
    },
    {
      "cell_type": "markdown",
      "source": [
        "**Inference** BAGHDAD,NORTHERN IRELAND,BALOCHISTAN Are top three most number of attack states."
      ],
      "metadata": {
        "id": "_bqbXG380x9I"
      }
    },
    {
      "cell_type": "markdown",
      "source": [
        "3. The Targets"
      ],
      "metadata": {
        "id": "KLamltVcW8RO"
      }
    },
    {
      "cell_type": "markdown",
      "source": [
        "**Top 15 Types of Target (Except Unknown)**"
      ],
      "metadata": {
        "id": "RSZS6ZOQXBXF"
      }
    },
    {
      "cell_type": "code",
      "source": [
        "df['Target_Type'].value_counts()[:16].drop('Unknown')"
      ],
      "metadata": {
        "id": "xg5_BdJTWcV1"
      },
      "execution_count": null,
      "outputs": []
    },
    {
      "cell_type": "code",
      "source": [
        "plt.figure(figsize=(12,6))\n",
        "sns.barplot(x = df['Target_Type'].value_counts()[:16].drop('Unknown').index, y= df['Target_Type'].value_counts()[:16].drop('Unknown').values, palette='CMRmap')\n",
        "plt.title('Top 15 Target Types', fontsize=20, weight = 'bold')\n",
        "plt.xlabel('Targets', fontsize=15)\n",
        "plt.ylabel('Count', fontsize=15)\n",
        "plt.xticks(rotation= 90)\n",
        "plt.show()"
      ],
      "metadata": {
        "id": "MLf3IinlXJJo"
      },
      "execution_count": null,
      "outputs": []
    },
    {
      "cell_type": "markdown",
      "source": [
        "**distribution of the Top 15 Targets (Except Unknown)**"
      ],
      "metadata": {
        "id": "7oOPt4faXXfx"
      }
    },
    {
      "cell_type": "code",
      "source": [
        "perc_Target_Types = (df['Target_Type'].value_counts()[:16].drop('Unknown')/df['Target_Type'].shape[0])*100\n",
        "perc_Target_Types"
      ],
      "metadata": {
        "id": "UCQgJSuQXNuO"
      },
      "execution_count": null,
      "outputs": []
    },
    {
      "cell_type": "markdown",
      "source": [
        "**Top 5 target type are**\n",
        "\n",
        "1-Private Citizens & Property\n",
        "\n",
        "2-Military\n",
        "\n",
        "3-Police\n",
        "\n",
        "4-Government (General)\n",
        "\n",
        "5-Business"
      ],
      "metadata": {
        "id": "D3pmW6y_XkRb"
      }
    },
    {
      "cell_type": "markdown",
      "source": [
        "**Inference**mostly target PRIVATE CITIZENS & PROPERTY,MILITARY And followed by POLICE"
      ],
      "metadata": {
        "id": "QB9a7Ppk09No"
      }
    },
    {
      "cell_type": "markdown",
      "source": [
        "\n",
        "**4. The Region**\n",
        "- Regions with most attacks"
      ],
      "metadata": {
        "id": "xO9E8qRcXon6"
      }
    },
    {
      "cell_type": "code",
      "source": [
        "df['Region'].value_counts()"
      ],
      "metadata": {
        "id": "R55MV15uXbBR"
      },
      "execution_count": null,
      "outputs": []
    },
    {
      "cell_type": "code",
      "source": [
        "plt.figure(figsize = (12,6))\n",
        "sns.barplot(x = df['Region'].value_counts().index, y = df['Region'].value_counts().values, palette='CMRmap') # or flare_r\n",
        "plt.title('Most Attacked Regions',fontsize=20, weight = 'bold')\n",
        "plt.xlabel('Regions',fontsize=15)\n",
        "plt.ylabel('Number of Attacks',fontsize=15)\n",
        "plt.xticks(rotation=90)\n",
        "plt.show()"
      ],
      "metadata": {
        "id": "kdAJtsnnXrug"
      },
      "execution_count": null,
      "outputs": []
    },
    {
      "cell_type": "markdown",
      "source": [
        "**Attacks with region**"
      ],
      "metadata": {
        "id": "MxyV1F7EXzd_"
      }
    },
    {
      "cell_type": "code",
      "source": [
        "perc_Attack_Region = (df['Region'].value_counts()/df['Region'].shape[0])*100\n",
        "perc_Attack_Region"
      ],
      "metadata": {
        "id": "gD60ijZzXvEv"
      },
      "execution_count": null,
      "outputs": []
    },
    {
      "cell_type": "code",
      "source": [
        "mylabels = df['Region'].value_counts().index\n",
        "myexplode = (0.05,0.05,0.05,0,0,0,0,0,0,0.5,0.5,0.5)\n",
        "\n",
        "plt.figure(figsize = (12,12))\n",
        "plt.pie(perc_Attack_Region, labels=mylabels, explode=myexplode, autopct='%0.1f%%')\n",
        "#plt.legend()\n",
        "plt.title('Most attacked target %',fontsize=20, weight = 'bold')\n",
        "plt.show()"
      ],
      "metadata": {
        "id": "EIbt6QvvX3eH"
      },
      "execution_count": null,
      "outputs": []
    },
    {
      "cell_type": "markdown",
      "source": [
        "**Top 5 attacked regions  are :**\n",
        "\n",
        "1-Middle East & North Africa-27.8%\n",
        "\n",
        "2-South Asia-24.8%\n",
        "\n",
        "3-South America-10.4%\n",
        "\n",
        "4-Sub-Saharan Africa-9.7%\n",
        "\n",
        "5-Western Europe-9.2%"
      ],
      "metadata": {
        "id": "YkQTUymoYAjy"
      }
    },
    {
      "cell_type": "markdown",
      "source": [
        "**Inference** Most attack region MIDDLE EAST & NORTH AFRICA,SOUTH ASIA,And followed by SOUTH AMERICA"
      ],
      "metadata": {
        "id": "xVA9pkJy2eCK"
      }
    },
    {
      "cell_type": "markdown",
      "source": [
        "**5.The weapons**\n",
        "- Top 5 weapons used"
      ],
      "metadata": {
        "id": "hAilBPlGYEp5"
      }
    },
    {
      "cell_type": "code",
      "source": [
        "df['Weapon_type'].value_counts().head(5)"
      ],
      "metadata": {
        "id": "5Bq9AW6fX6Ux"
      },
      "execution_count": null,
      "outputs": []
    },
    {
      "cell_type": "code",
      "source": [
        "plt.figure(figsize=(12,8))\n",
        "sns.barplot(x = df['Weapon_type'].value_counts().head(5).index,y = df['Weapon_type'].value_counts().head(5).values, palette='CMRmap')\n",
        "plt.title('Top 5 Weapons Types', fontsize=20, weight = 'bold')\n",
        "plt.xlabel('Weapon', fontsize=15)\n",
        "plt.ylabel('Count', fontsize=15)\n",
        "plt.xticks(rotation= 90)\n",
        "plt.show()"
      ],
      "metadata": {
        "id": "XQXmYEOEYI2l"
      },
      "execution_count": null,
      "outputs": []
    },
    {
      "cell_type": "markdown",
      "source": [
        " **weapons used**"
      ],
      "metadata": {
        "id": "eOtQ6qLxYPo-"
      }
    },
    {
      "cell_type": "code",
      "source": [
        "perc_Weapon_Type = (df['Weapon_type'].value_counts()/df['Weapon_type'].shape[0])*100\n",
        "perc_Weapon_Type"
      ],
      "metadata": {
        "id": "_6fCpzN2YMBV"
      },
      "execution_count": null,
      "outputs": []
    },
    {
      "cell_type": "markdown",
      "source": [
        "Since, The Chemical, Sabotage Equipment, Vehicle, Other, Biological, Fake Weapons, Radiological is less than 1, we will drop them while plotting"
      ],
      "metadata": {
        "id": "ajuIaOYUYYQG"
      }
    },
    {
      "cell_type": "code",
      "source": [
        "perc_Weapon_Type = (df['Weapon_type'].value_counts().head(5)/df['Weapon_type'].shape[0])*100\n",
        "perc_Weapon_Type"
      ],
      "metadata": {
        "id": "f8rtW2nIYTml"
      },
      "execution_count": null,
      "outputs": []
    },
    {
      "cell_type": "code",
      "source": [
        "mylabels = df['Weapon_type'].value_counts().head(5).index\n",
        "myexplode = (0.01,0.01,0.01,0.01,0.01)\n",
        "\n",
        "plt.figure(figsize = (12,12))\n",
        "plt.pie(perc_Weapon_Type, labels=mylabels, explode=myexplode, autopct='%0.1f%%')\n",
        "#plt.legend()\n",
        "plt.title('Weapon Types',fontsize=25, weight = 'bold')\n",
        "plt.show()"
      ],
      "metadata": {
        "id": "8DwqlLWPYcJG"
      },
      "execution_count": null,
      "outputs": []
    },
    {
      "cell_type": "markdown",
      "source": [
        "**Top 5 weapons used**\n",
        "\n",
        "1-Explosives\n",
        "\n",
        "2-Firearms\n",
        "\n",
        "3-Unknown\n",
        "\n",
        "4-Incendiary\n",
        "\n",
        "5-Mele"
      ],
      "metadata": {
        "id": "owS1DYQ6Yilx"
      }
    },
    {
      "cell_type": "markdown",
      "source": [
        "**Inference** EXPLOSIVES,FIREARMS And UNKNOWN Are most used weapons type."
      ],
      "metadata": {
        "id": "FI3sL0a52l0R"
      }
    },
    {
      "cell_type": "markdown",
      "source": [
        "**6. The attacking groups\n",
        "Top 15 most attacking groups (except unknown)**"
      ],
      "metadata": {
        "id": "QeO0k04KYmQf"
      }
    },
    {
      "cell_type": "code",
      "source": [
        "df['Group'].value_counts()[1:16]"
      ],
      "metadata": {
        "id": "Q-cp7lz9YmCc"
      },
      "execution_count": null,
      "outputs": []
    },
    {
      "cell_type": "code",
      "source": [
        "plt.figure(figsize=(12,6))\n",
        "sns.barplot(x = df['Group'].value_counts()[1:16].index, y = df['Group'].value_counts()[1:16].values, palette='CMRmap')\n",
        "plt.title('Top 15 Attacking Groups (Except Unknown)', fontsize=20, weight = 'bold')\n",
        "plt.xlabel('Weapon', fontsize=15)\n",
        "plt.ylabel('Count', fontsize=15)\n",
        "plt.xticks(rotation= 90)\n",
        "plt.show()"
      ],
      "metadata": {
        "id": "pyQVH0S7Ye48"
      },
      "execution_count": null,
      "outputs": []
    },
    {
      "cell_type": "markdown",
      "source": [
        "**Top 15 most attacking groups (except unknown)**"
      ],
      "metadata": {
        "id": "OUyWdhBPYz6b"
      }
    },
    {
      "cell_type": "code",
      "source": [
        "perc_Group = (df['Group'].value_counts()[1:16]/df['Group'].shape[0])*100\n",
        "perc_Group"
      ],
      "metadata": {
        "id": "xbrK8rlUYvsN"
      },
      "execution_count": null,
      "outputs": []
    },
    {
      "cell_type": "code",
      "source": [
        "plt.figure(figsize=(12,8))\n",
        "sns.barplot(x = perc_Group.index, y = perc_Group.values, palette='CMRmap')\n",
        "plt.title('Target Types %', fontsize=20, weight = 'bold')\n",
        "plt.xlabel('Targets', fontsize=15)\n",
        "plt.ylabel('Count', fontsize=15)\n",
        "plt.xticks(rotation= 90)\n",
        "plt.show()"
      ],
      "metadata": {
        "id": "kSLY7jm0Y3lE"
      },
      "execution_count": null,
      "outputs": []
    },
    {
      "cell_type": "markdown",
      "source": [
        "**Top 5 terrorist groups :**\n",
        "\n",
        "1-Taliban\n",
        "\n",
        "2-Islamic State of Iraq and the Levant (ISIL)\n",
        "\n",
        "3-Shining Path (SL)\n",
        "\n",
        "4-Farabundo Marti National Liberation Front (FMLN)\n",
        "\n",
        "5-Al-Shabaab"
      ],
      "metadata": {
        "id": "Qtaz2Cz2ZC7v"
      }
    },
    {
      "cell_type": "markdown",
      "source": [
        "**Inference** TALIBAN,ISLAMIC STATE OF IRAQ AND THE LEVANT(ISIL),SHINING PATH(SL) Are top three terrorist group"
      ],
      "metadata": {
        "id": "VcJgX0Yl2851"
      }
    },
    {
      "cell_type": "markdown",
      "source": [
        "**7. Year-Wise Analysis of Attacks and Casualties**\n",
        "- Taking unique years as x_year variable"
      ],
      "metadata": {
        "id": "Awu_ZAj4ZH0A"
      }
    },
    {
      "cell_type": "code",
      "source": [
        "x_year = df['Year'].unique()\n",
        "x_year"
      ],
      "metadata": {
        "id": "j92WWqDIY8ab"
      },
      "execution_count": null,
      "outputs": []
    },
    {
      "cell_type": "markdown",
      "source": [
        "- Taking count of years as y_count_years variable"
      ],
      "metadata": {
        "id": "uII0zWlUZRvo"
      }
    },
    {
      "cell_type": "code",
      "source": [
        "y_count_years = df['Year'].value_counts(dropna = False).sort_index()\n",
        "y_count_years"
      ],
      "metadata": {
        "id": "gxP4VE2XZLlO"
      },
      "execution_count": null,
      "outputs": []
    },
    {
      "cell_type": "markdown",
      "source": [
        "**Top 5 most Attacked Years**"
      ],
      "metadata": {
        "id": "_Lbn-bV9ZaoX"
      }
    },
    {
      "cell_type": "code",
      "source": [
        "df['Year'].value_counts().head(5)"
      ],
      "metadata": {
        "id": "DbhaoT6GZWog"
      },
      "execution_count": null,
      "outputs": []
    },
    {
      "cell_type": "code",
      "source": [
        "y_count_years.plot.bar(width = 1.0, edgecolor = 'black')\n",
        "fig=plt.gcf()\n",
        "fig.set_size_inches(20,10)\n",
        "plt.title(\"Number of Attacks each year\", fontsize = 20, weight = 'bold')\n",
        "plt.ylabel(\"Number of Attacks\", fontsize = 15)\n",
        "plt.xlabel(\"Year\", fontsize = 15)\n",
        "plt.xticks(rotation = 90)\n",
        "plt.show()"
      ],
      "metadata": {
        "id": "zTQtIZhBZdNS"
      },
      "execution_count": null,
      "outputs": []
    },
    {
      "cell_type": "markdown",
      "source": [
        "**Comparing No. of Attacks with Killings for years 1972 to 2017**"
      ],
      "metadata": {
        "id": "tp7ii1IyZlOz"
      }
    },
    {
      "cell_type": "code",
      "source": [
        "# Comparing No. of Attacks with Killings for years 1972 to 2017\n",
        "most_attacked_years = df.Year.value_counts().to_frame()\n",
        "most_attacked_years.columns = ['Attacked']\n",
        "\n",
        "most_killed_years = df.groupby(['Year'])['Killed'].sum().sort_values(ascending =False).to_frame()"
      ],
      "metadata": {
        "id": "w5qAFdzHZhfj"
      },
      "execution_count": null,
      "outputs": []
    },
    {
      "cell_type": "markdown",
      "source": [
        "**Top 5 years with most deaths**"
      ],
      "metadata": {
        "id": "vg5MWu_IZsV9"
      }
    },
    {
      "cell_type": "code",
      "source": [
        "most_killed_years.head(5)"
      ],
      "metadata": {
        "id": "25QuZY54ZpTB"
      },
      "execution_count": null,
      "outputs": []
    },
    {
      "cell_type": "code",
      "source": [
        "most_attacked_years.merge(most_killed_years, how = 'left', left_index = True, right_index = True).plot.bar(width = 1.0, color = sns.color_palette('CMRmap',2))\n",
        "fig=plt.gcf()\n",
        "fig.set_size_inches(20,10)\n",
        "plt.title(\"Attacks vs Kills in years\", fontsize = 20, weight = 'bold')\n",
        "plt.ylabel(\"Attacks vs Kills\", fontsize = 15)\n",
        "plt.xlabel(\"Year\", fontsize = 15)\n",
        "plt.xticks(rotation = 90)\n",
        "plt.show()"
      ],
      "metadata": {
        "id": "2JLgsMOPZvf9"
      },
      "execution_count": null,
      "outputs": []
    },
    {
      "cell_type": "markdown",
      "source": [
        "**Inference** 2014,2015,2016 are top three year by attack and kills by terrorist"
      ],
      "metadata": {
        "id": "MFu4MKxT7mPA"
      }
    },
    {
      "cell_type": "code",
      "source": [
        "plt.figure(figsize = (20,10)\n",
        "sns.kdeplot(df['Year'], hue = df['Region'])\n",
        "plt.title('Terrorist Activities by Region in each Year',fontsize=20, weight = 'bold')\n",
        "plt.xlabel('Years',fontsize=15)\n",
        "plt.ylabel('Frequency of Attacks',fontsize=15)\n",
        "#plt.xticks(rotation=90)\n",
        "plt.show()"
      ],
      "metadata": {
        "id": "Ahclv9cqZyUc"
      },
      "execution_count": null,
      "outputs": []
    },
    {
      "cell_type": "markdown",
      "source": [
        "**SUMMARY**\n",
        "\n",
        "-Global Terrorism Analysis was done by group of 4 members -Nitesh Mishra,Rohit Sharma,Abhishek verma,and Aditya Dhoundiyal.In this project we got 1 csv file global terrorism as an input.\n",
        "\n",
        "So,we decided this into 4 different task.\n",
        "\n",
        "Work done by every individual discription \n",
        "\n",
        "**NITESH MISHRA**-We first decided to take up this project solely due to our mutual interest in GLOBAL TERRORISM becouse of it relates  in real life.when we download the csv file we were shocked how big data is this,we talk about project in very tharoly manner and split the task.\n",
        "After split the task we decided team member gives his insight from project in own end,after doing this i go for the project and some analysis from the given data,the very first problem that i faced in my csv file was the name of some columns are unmeaningful. Then i change name of columns in meaning way by using function rename like {'imonth':'month'},{'iyear':'year'},then select some useful rows and columns for further analysis.\n",
        "The two insight of mine.\n",
        "\n",
        "1-The top 3 attack types is BOMBING/EXPLOSION,ARMED ASSOULT,ASSASSAINATION\n",
        "\n",
        "The top 3 attack types in percentage.\n",
        "\n",
        "Bombing/Explosion=48.6%\n",
        "\n",
        "Armed Assoult=23.5%\n",
        "\n",
        "Assassination=10.6%\n",
        "\n",
        "2-The top 3 three countries and states are most attacks.\n",
        "\n",
        "(COUNTRIES)\n",
        "IRAQ,\n",
        "PAKISTAN,\n",
        "AFGANISTAN\n",
        "\n",
        "(STATES) BAGHDAD,NORTHERN IRELAND,BALOCHISTAN\n",
        "\n",
        "**ROHIT SHARMA**-When i started the project i have some ideas like name of columns are meaningful manner,and i have already two insight that given by nitesh then i decided go in continuation.The two insight of my end are.\n",
        "\n",
        "1-Top 3 target type are\n",
        "\n",
        "Private Citizens & Property,\n",
        "Military,Police\n",
        "\n",
        "2-Top 3 attacked regions are in percentage :\n",
        "\n",
        "Middle East & North Africa-27.8%,\n",
        "South Asia-24.8%,\n",
        "South America-10.4%\n",
        "\n",
        "**ABHISHEK VERMA**-When i started the project i have multiple idea like structure data and four insight of project then i go for insight from my end.\n",
        "\n",
        "1-Top 3 weapons used are;\n",
        "\n",
        "Explosives,\n",
        "Firearms,unknown\n",
        "\n",
        "2-Top 3 terrorist groups :\n",
        "\n",
        "Taliban,Islamic State of Iraq and the Levant (ISIL),Shining Path (SL)\n",
        "\n",
        "**ADITYA DHOUNDIYAL**-I m working for end this project with the remaing insight of project from my end also,i have aslo multiple ideas clues that are given by my team members,the insight of mine are\n",
        "\n",
        "1-Year-Wise Analysis of Attacks and Casualties\n",
        "The top the 3 most attack and casualties in year is \n",
        "\n",
        "1-2014 = 46534\n",
        "\n",
        "2-2015 = 40463\n",
        "\n",
        "3-2016 = 36427\n",
        "\n"
      ],
      "metadata": {
        "id": "7Jrf0KEnPHhP"
      }
    },
    {
      "cell_type": "markdown",
      "source": [
        "**CONCLUSIONS**\n",
        "\n",
        "1-The top 3 attack types is BOMBING/EXPLOSION,ARMED ASSOULT,ASSASSAINATION\n",
        "\n",
        "The top 3 attack types in percentage.\n",
        "\n",
        "Bombing/Explosion=48.6%\n",
        "\n",
        "Armed Assoult=23.5%\n",
        "\n",
        "Assassination=10.6%\n",
        "\n",
        "2-The top 3  countries and states are most attacks.\n",
        "\n",
        "(COUNTRIES) IRAQ, PAKISTAN, AFGANISTAN\n",
        "\n",
        "(STATES) BAGHDAD,NORTHERN IRELAND,BALOCHISTAN \n",
        "\n",
        "3-Top 3 target type are\n",
        "\n",
        "Private Citizens & Property, Military,Police\n",
        "\n",
        "4-Top 3 attacked regions are in percentage :\n",
        "\n",
        "Middle East & North Africa-27.8%, South Asia-24.8%, South America-10.4%\n",
        "\n",
        "5-Top 3 weapons used are;\n",
        "\n",
        "Explosives, Firearms,unknown\n",
        "\n",
        "6-Top 3 terrorist groups :\n",
        "\n",
        "Taliban,Islamic State of Iraq and the Levant (ISIL),Shining Path (SL)\n",
        "\n",
        "7-Year-Wise Analysis of Attacks and Casualties The top the 3 most attack and casualties in year is\n",
        "\n",
        "1-2014 = 46534\n",
        "\n",
        "2-2015 = 40463\n",
        "\n",
        "3-2016 = 36427"
      ],
      "metadata": {
        "id": "iUwjJma4gw-_"
      }
    },
    {
      "cell_type": "code",
      "source": [],
      "metadata": {
        "id": "G7D2GuniZ3YQ"
      },
      "execution_count": null,
      "outputs": []
    }
  ]
}